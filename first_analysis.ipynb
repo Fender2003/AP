{
  "cells": [
    {
      "cell_type": "code",
      "execution_count": 932,
      "metadata": {},
      "outputs": [
        {
          "name": "stdout",
          "output_type": "stream",
          "text": [
            "Name: numpy\n",
            "Version: 1.26.4\n",
            "Summary: Fundamental package for array computing in Python\n",
            "Home-page: https://numpy.org\n",
            "Author: Travis E. Oliphant et al.\n",
            "Author-email: \n",
            "License: Copyright (c) 2005-2023, NumPy Developers.\n",
            "        All rights reserved.\n",
            "        \n",
            "        Redistribution and use in source and binary forms, with or without\n",
            "        modification, are permitted provided that the following conditions are\n",
            "        met:\n",
            "        \n",
            "            * Redistributions of source code must retain the above copyright\n",
            "               notice, this list of conditions and the following disclaimer.\n",
            "        \n",
            "            * Redistributions in binary form must reproduce the above\n",
            "               copyright notice, this list of conditions and the following\n",
            "               disclaimer in the documentation and/or other materials provided\n",
            "               with the distribution.\n",
            "        \n",
            "            * Neither the name of the NumPy Developers nor the names of any\n",
            "               contributors may be used to endorse or promote products derived\n",
            "               from this software without specific prior written permission.\n",
            "        \n",
            "        THIS SOFTWARE IS PROVIDED BY THE COPYRIGHT HOLDERS AND CONTRIBUTORS\n",
            "        \"AS IS\" AND ANY EXPRESS OR IMPLIED WARRANTIES, INCLUDING, BUT NOT\n",
            "        LIMITED TO, THE IMPLIED WARRANTIES OF MERCHANTABILITY AND FITNESS FOR\n",
            "        A PARTICULAR PURPOSE ARE DISCLAIMED. IN NO EVENT SHALL THE COPYRIGHT\n",
            "        OWNER OR CONTRIBUTORS BE LIABLE FOR ANY DIRECT, INDIRECT, INCIDENTAL,\n",
            "        SPECIAL, EXEMPLARY, OR CONSEQUENTIAL DAMAGES (INCLUDING, BUT NOT\n",
            "        LIMITED TO, PROCUREMENT OF SUBSTITUTE GOODS OR SERVICES; LOSS OF USE,\n",
            "        DATA, OR PROFITS; OR BUSINESS INTERRUPTION) HOWEVER CAUSED AND ON ANY\n",
            "        THEORY OF LIABILITY, WHETHER IN CONTRACT, STRICT LIABILITY, OR TORT\n",
            "        (INCLUDING NEGLIGENCE OR OTHERWISE) ARISING IN ANY WAY OUT OF THE USE\n",
            "        OF THIS SOFTWARE, EVEN IF ADVISED OF THE POSSIBILITY OF SUCH DAMAGE.\n",
            "        \n",
            "        ----\n",
            "        \n",
            "        The NumPy repository and source distributions bundle several libraries that are\n",
            "        compatibly licensed.  We list these here.\n",
            "        \n",
            "        Name: lapack-lite\n",
            "        Files: numpy/linalg/lapack_lite/*\n",
            "        License: BSD-3-Clause\n",
            "          For details, see numpy/linalg/lapack_lite/LICENSE.txt\n",
            "        \n",
            "        Name: tempita\n",
            "        Files: tools/npy_tempita/*\n",
            "        License: MIT\n",
            "          For details, see tools/npy_tempita/license.txt\n",
            "        \n",
            "        Name: dragon4\n",
            "        Files: numpy/core/src/multiarray/dragon4.c\n",
            "        License: MIT\n",
            "          For license text, see numpy/core/src/multiarray/dragon4.c\n",
            "        \n",
            "        Name: libdivide\n",
            "        Files: numpy/core/include/numpy/libdivide/*\n",
            "        License: Zlib\n",
            "          For license text, see numpy/core/include/numpy/libdivide/LICENSE.txt\n",
            "        \n",
            "        \n",
            "        Note that the following files are vendored in the repository and sdist but not\n",
            "        installed in built numpy packages:\n",
            "        \n",
            "        Name: Meson\n",
            "        Files: vendored-meson/meson/*\n",
            "        License: Apache 2.0\n",
            "          For license text, see vendored-meson/meson/COPYING\n",
            "        \n",
            "        Name: spin\n",
            "        Files: .spin/cmds.py\n",
            "        License: BSD-3\n",
            "          For license text, see .spin/LICENSE\n",
            "        \n",
            "        ----\n",
            "        \n",
            "        This binary distribution of NumPy also bundles the following software:\n",
            "        \n",
            "        Name: OpenBLAS\n",
            "        Files: numpy/.dylibs/libopenblas*.so\n",
            "        Description: bundled as a dynamically linked library\n",
            "        Availability: https://github.com/OpenMathLib/OpenBLAS/\n",
            "        License: BSD-3-Clause\n",
            "          Copyright (c) 2011-2014, The OpenBLAS Project\n",
            "          All rights reserved.\n",
            "        \n",
            "          Redistribution and use in source and binary forms, with or without\n",
            "          modification, are permitted provided that the following conditions are\n",
            "          met:\n",
            "        \n",
            "             1. Redistributions of source code must retain the above copyright\n",
            "                notice, this list of conditions and the following disclaimer.\n",
            "        \n",
            "             2. Redistributions in binary form must reproduce the above copyright\n",
            "                notice, this list of conditions and the following disclaimer in\n",
            "                the documentation and/or other materials provided with the\n",
            "                distribution.\n",
            "             3. Neither the name of the OpenBLAS project nor the names of\n",
            "                its contributors may be used to endorse or promote products\n",
            "                derived from this software without specific prior written\n",
            "                permission.\n",
            "        \n",
            "          THIS SOFTWARE IS PROVIDED BY THE COPYRIGHT HOLDERS AND CONTRIBUTORS \"AS IS\"\n",
            "          AND ANY EXPRESS OR IMPLIED WARRANTIES, INCLUDING, BUT NOT LIMITED TO, THE\n",
            "          IMPLIED WARRANTIES OF MERCHANTABILITY AND FITNESS FOR A PARTICULAR PURPOSE\n",
            "          ARE DISCLAIMED. IN NO EVENT SHALL THE COPYRIGHT OWNER OR CONTRIBUTORS BE\n",
            "          LIABLE FOR ANY DIRECT, INDIRECT, INCIDENTAL, SPECIAL, EXEMPLARY, OR CONSEQUENTIAL\n",
            "          DAMAGES (INCLUDING, BUT NOT LIMITED TO, PROCUREMENT OF SUBSTITUTE GOODS OR\n",
            "          SERVICES; LOSS OF USE, DATA, OR PROFITS; OR BUSINESS INTERRUPTION) HOWEVER\n",
            "          CAUSED AND ON ANY THEORY OF LIABILITY, WHETHER IN CONTRACT, STRICT LIABILITY,\n",
            "          OR TORT (INCLUDING NEGLIGENCE OR OTHERWISE) ARISING IN ANY WAY OUT OF THE\n",
            "          USE OF THIS SOFTWARE, EVEN IF ADVISED OF THE POSSIBILITY OF SUCH DAMAGE.\n",
            "        \n",
            "        \n",
            "        Name: LAPACK\n",
            "        Files: numpy/.dylibs/libopenblas*.so\n",
            "        Description: bundled in OpenBLAS\n",
            "        Availability: https://github.com/OpenMathLib/OpenBLAS/\n",
            "        License: BSD-3-Clause-Attribution\n",
            "          Copyright (c) 1992-2013 The University of Tennessee and The University\n",
            "                                  of Tennessee Research Foundation.  All rights\n",
            "                                  reserved.\n",
            "          Copyright (c) 2000-2013 The University of California Berkeley. All\n",
            "                                  rights reserved.\n",
            "          Copyright (c) 2006-2013 The University of Colorado Denver.  All rights\n",
            "                                  reserved.\n",
            "        \n",
            "          $COPYRIGHT$\n",
            "        \n",
            "          Additional copyrights may follow\n",
            "        \n",
            "          $HEADER$\n",
            "        \n",
            "          Redistribution and use in source and binary forms, with or without\n",
            "          modification, are permitted provided that the following conditions are\n",
            "          met:\n",
            "        \n",
            "          - Redistributions of source code must retain the above copyright\n",
            "            notice, this list of conditions and the following disclaimer.\n",
            "        \n",
            "          - Redistributions in binary form must reproduce the above copyright\n",
            "            notice, this list of conditions and the following disclaimer listed\n",
            "            in this license in the documentation and/or other materials\n",
            "            provided with the distribution.\n",
            "        \n",
            "          - Neither the name of the copyright holders nor the names of its\n",
            "            contributors may be used to endorse or promote products derived from\n",
            "            this software without specific prior written permission.\n",
            "        \n",
            "          The copyright holders provide no reassurances that the source code\n",
            "          provided does not infringe any patent, copyright, or any other\n",
            "          intellectual property rights of third parties.  The copyright holders\n",
            "          disclaim any liability to any recipient for claims brought against\n",
            "          recipient by any third party for infringement of that parties\n",
            "          intellectual property rights.\n",
            "        \n",
            "          THIS SOFTWARE IS PROVIDED BY THE COPYRIGHT HOLDERS AND CONTRIBUTORS\n",
            "          \"AS IS\" AND ANY EXPRESS OR IMPLIED WARRANTIES, INCLUDING, BUT NOT\n",
            "          LIMITED TO, THE IMPLIED WARRANTIES OF MERCHANTABILITY AND FITNESS FOR\n",
            "          A PARTICULAR PURPOSE ARE DISCLAIMED. IN NO EVENT SHALL THE COPYRIGHT\n",
            "          OWNER OR CONTRIBUTORS BE LIABLE FOR ANY DIRECT, INDIRECT, INCIDENTAL,\n",
            "          SPECIAL, EXEMPLARY, OR CONSEQUENTIAL DAMAGES (INCLUDING, BUT NOT\n",
            "          LIMITED TO, PROCUREMENT OF SUBSTITUTE GOODS OR SERVICES; LOSS OF USE,\n",
            "          DATA, OR PROFITS; OR BUSINESS INTERRUPTION) HOWEVER CAUSED AND ON ANY\n",
            "          THEORY OF LIABILITY, WHETHER IN CONTRACT, STRICT LIABILITY, OR TORT\n",
            "          (INCLUDING NEGLIGENCE OR OTHERWISE) ARISING IN ANY WAY OUT OF THE USE\n",
            "          OF THIS SOFTWARE, EVEN IF ADVISED OF THE POSSIBILITY OF SUCH DAMAGE.\n",
            "        \n",
            "        \n",
            "        Name: GCC runtime library\n",
            "        Files: numpy/.dylibs/libgfortran*, numpy/.dylibs/libgcc*\n",
            "        Description: dynamically linked to files compiled with gcc\n",
            "        Availability: https://gcc.gnu.org/git/?p=gcc.git;a=tree;f=libgfortran\n",
            "        License: GPL-3.0-with-GCC-exception\n",
            "          Copyright (C) 2002-2017 Free Software Foundation, Inc.\n",
            "        \n",
            "          Libgfortran is free software; you can redistribute it and/or modify\n",
            "          it under the terms of the GNU General Public License as published by\n",
            "          the Free Software Foundation; either version 3, or (at your option)\n",
            "          any later version.\n",
            "        \n",
            "          Libgfortran is distributed in the hope that it will be useful,\n",
            "          but WITHOUT ANY WARRANTY; without even the implied warranty of\n",
            "          MERCHANTABILITY or FITNESS FOR A PARTICULAR PURPOSE.  See the\n",
            "          GNU General Public License for more details.\n",
            "        \n",
            "          Under Section 7 of GPL version 3, you are granted additional\n",
            "          permissions described in the GCC Runtime Library Exception, version\n",
            "          3.1, as published by the Free Software Foundation.\n",
            "        \n",
            "          You should have received a copy of the GNU General Public License and\n",
            "          a copy of the GCC Runtime Library Exception along with this program;\n",
            "          see the files COPYING3 and COPYING.RUNTIME respectively.  If not, see\n",
            "          <http://www.gnu.org/licenses/>.\n",
            "        \n",
            "        ----\n",
            "        \n",
            "        Full text of license texts referred to above follows (that they are\n",
            "        listed below does not necessarily imply the conditions apply to the\n",
            "        present binary release):\n",
            "        \n",
            "        ----\n",
            "        \n",
            "        GCC RUNTIME LIBRARY EXCEPTION\n",
            "        \n",
            "        Version 3.1, 31 March 2009\n",
            "        \n",
            "        Copyright (C) 2009 Free Software Foundation, Inc. <http://fsf.org/>\n",
            "        \n",
            "        Everyone is permitted to copy and distribute verbatim copies of this\n",
            "        license document, but changing it is not allowed.\n",
            "        \n",
            "        This GCC Runtime Library Exception (\"Exception\") is an additional\n",
            "        permission under section 7 of the GNU General Public License, version\n",
            "        3 (\"GPLv3\"). It applies to a given file (the \"Runtime Library\") that\n",
            "        bears a notice placed by the copyright holder of the file stating that\n",
            "        the file is governed by GPLv3 along with this Exception.\n",
            "        \n",
            "        When you use GCC to compile a program, GCC may combine portions of\n",
            "        certain GCC header files and runtime libraries with the compiled\n",
            "        program. The purpose of this Exception is to allow compilation of\n",
            "        non-GPL (including proprietary) programs to use, in this way, the\n",
            "        header files and runtime libraries covered by this Exception.\n",
            "        \n",
            "        0. Definitions.\n",
            "        \n",
            "        A file is an \"Independent Module\" if it either requires the Runtime\n",
            "        Library for execution after a Compilation Process, or makes use of an\n",
            "        interface provided by the Runtime Library, but is not otherwise based\n",
            "        on the Runtime Library.\n",
            "        \n",
            "        \"GCC\" means a version of the GNU Compiler Collection, with or without\n",
            "        modifications, governed by version 3 (or a specified later version) of\n",
            "        the GNU General Public License (GPL) with the option of using any\n",
            "        subsequent versions published by the FSF.\n",
            "        \n",
            "        \"GPL-compatible Software\" is software whose conditions of propagation,\n",
            "        modification and use would permit combination with GCC in accord with\n",
            "        the license of GCC.\n",
            "        \n",
            "        \"Target Code\" refers to output from any compiler for a real or virtual\n",
            "        target processor architecture, in executable form or suitable for\n",
            "        input to an assembler, loader, linker and/or execution\n",
            "        phase. Notwithstanding that, Target Code does not include data in any\n",
            "        format that is used as a compiler intermediate representation, or used\n",
            "        for producing a compiler intermediate representation.\n",
            "        \n",
            "        The \"Compilation Process\" transforms code entirely represented in\n",
            "        non-intermediate languages designed for human-written code, and/or in\n",
            "        Java Virtual Machine byte code, into Target Code. Thus, for example,\n",
            "        use of source code generators and preprocessors need not be considered\n",
            "        part of the Compilation Process, since the Compilation Process can be\n",
            "        understood as starting with the output of the generators or\n",
            "        preprocessors.\n",
            "        \n",
            "        A Compilation Process is \"Eligible\" if it is done using GCC, alone or\n",
            "        with other GPL-compatible software, or if it is done without using any\n",
            "        work based on GCC. For example, using non-GPL-compatible Software to\n",
            "        optimize any GCC intermediate representations would not qualify as an\n",
            "        Eligible Compilation Process.\n",
            "        \n",
            "        1. Grant of Additional Permission.\n",
            "        \n",
            "        You have permission to propagate a work of Target Code formed by\n",
            "        combining the Runtime Library with Independent Modules, even if such\n",
            "        propagation would otherwise violate the terms of GPLv3, provided that\n",
            "        all Target Code was generated by Eligible Compilation Processes. You\n",
            "        may then convey such a combination under terms of your choice,\n",
            "        consistent with the licensing of the Independent Modules.\n",
            "        \n",
            "        2. No Weakening of GCC Copyleft.\n",
            "        \n",
            "        The availability of this Exception does not imply any general\n",
            "        presumption that third-party software is unaffected by the copyleft\n",
            "        requirements of the license of GCC.\n",
            "        \n",
            "        ----\n",
            "        \n",
            "                            GNU GENERAL PUBLIC LICENSE\n",
            "                               Version 3, 29 June 2007\n",
            "        \n",
            "         Copyright (C) 2007 Free Software Foundation, Inc. <http://fsf.org/>\n",
            "         Everyone is permitted to copy and distribute verbatim copies\n",
            "         of this license document, but changing it is not allowed.\n",
            "        \n",
            "                                    Preamble\n",
            "        \n",
            "          The GNU General Public License is a free, copyleft license for\n",
            "        software and other kinds of works.\n",
            "        \n",
            "          The licenses for most software and other practical works are designed\n",
            "        to take away your freedom to share and change the works.  By contrast,\n",
            "        the GNU General Public License is intended to guarantee your freedom to\n",
            "        share and change all versions of a program--to make sure it remains free\n",
            "        software for all its users.  We, the Free Software Foundation, use the\n",
            "        GNU General Public License for most of our software; it applies also to\n",
            "        any other work released this way by its authors.  You can apply it to\n",
            "        your programs, too.\n",
            "        \n",
            "          When we speak of free software, we are referring to freedom, not\n",
            "        price.  Our General Public Licenses are designed to make sure that you\n",
            "        have the freedom to distribute copies of free software (and charge for\n",
            "        them if you wish), that you receive source code or can get it if you\n",
            "        want it, that you can change the software or use pieces of it in new\n",
            "        free programs, and that you know you can do these things.\n",
            "        \n",
            "          To protect your rights, we need to prevent others from denying you\n",
            "        these rights or asking you to surrender the rights.  Therefore, you have\n",
            "        certain responsibilities if you distribute copies of the software, or if\n",
            "        you modify it: responsibilities to respect the freedom of others.\n",
            "        \n",
            "          For example, if you distribute copies of such a program, whether\n",
            "        gratis or for a fee, you must pass on to the recipients the same\n",
            "        freedoms that you received.  You must make sure that they, too, receive\n",
            "        or can get the source code.  And you must show them these terms so they\n",
            "        know their rights.\n",
            "        \n",
            "          Developers that use the GNU GPL protect your rights with two steps:\n",
            "        (1) assert copyright on the software, and (2) offer you this License\n",
            "        giving you legal permission to copy, distribute and/or modify it.\n",
            "        \n",
            "          For the developers' and authors' protection, the GPL clearly explains\n",
            "        that there is no warranty for this free software.  For both users' and\n",
            "        authors' sake, the GPL requires that modified versions be marked as\n",
            "        changed, so that their problems will not be attributed erroneously to\n",
            "        authors of previous versions.\n",
            "        \n",
            "          Some devices are designed to deny users access to install or run\n",
            "        modified versions of the software inside them, although the manufacturer\n",
            "        can do so.  This is fundamentally incompatible with the aim of\n",
            "        protecting users' freedom to change the software.  The systematic\n",
            "        pattern of such abuse occurs in the area of products for individuals to\n",
            "        use, which is precisely where it is most unacceptable.  Therefore, we\n",
            "        have designed this version of the GPL to prohibit the practice for those\n",
            "        products.  If such problems arise substantially in other domains, we\n",
            "        stand ready to extend this provision to those domains in future versions\n",
            "        of the GPL, as needed to protect the freedom of users.\n",
            "        \n",
            "          Finally, every program is threatened constantly by software patents.\n",
            "        States should not allow patents to restrict development and use of\n",
            "        software on general-purpose computers, but in those that do, we wish to\n",
            "        avoid the special danger that patents applied to a free program could\n",
            "        make it effectively proprietary.  To prevent this, the GPL assures that\n",
            "        patents cannot be used to render the program non-free.\n",
            "        \n",
            "          The precise terms and conditions for copying, distribution and\n",
            "        modification follow.\n",
            "        \n",
            "                               TERMS AND CONDITIONS\n",
            "        \n",
            "          0. Definitions.\n",
            "        \n",
            "          \"This License\" refers to version 3 of the GNU General Public License.\n",
            "        \n",
            "          \"Copyright\" also means copyright-like laws that apply to other kinds of\n",
            "        works, such as semiconductor masks.\n",
            "        \n",
            "          \"The Program\" refers to any copyrightable work licensed under this\n",
            "        License.  Each licensee is addressed as \"you\".  \"Licensees\" and\n",
            "        \"recipients\" may be individuals or organizations.\n",
            "        \n",
            "          To \"modify\" a work means to copy from or adapt all or part of the work\n",
            "        in a fashion requiring copyright permission, other than the making of an\n",
            "        exact copy.  The resulting work is called a \"modified version\" of the\n",
            "        earlier work or a work \"based on\" the earlier work.\n",
            "        \n",
            "          A \"covered work\" means either the unmodified Program or a work based\n",
            "        on the Program.\n",
            "        \n",
            "          To \"propagate\" a work means to do anything with it that, without\n",
            "        permission, would make you directly or secondarily liable for\n",
            "        infringement under applicable copyright law, except executing it on a\n",
            "        computer or modifying a private copy.  Propagation includes copying,\n",
            "        distribution (with or without modification), making available to the\n",
            "        public, and in some countries other activities as well.\n",
            "        \n",
            "          To \"convey\" a work means any kind of propagation that enables other\n",
            "        parties to make or receive copies.  Mere interaction with a user through\n",
            "        a computer network, with no transfer of a copy, is not conveying.\n",
            "        \n",
            "          An interactive user interface displays \"Appropriate Legal Notices\"\n",
            "        to the extent that it includes a convenient and prominently visible\n",
            "        feature that (1) displays an appropriate copyright notice, and (2)\n",
            "        tells the user that there is no warranty for the work (except to the\n",
            "        extent that warranties are provided), that licensees may convey the\n",
            "        work under this License, and how to view a copy of this License.  If\n",
            "        the interface presents a list of user commands or options, such as a\n",
            "        menu, a prominent item in the list meets this criterion.\n",
            "        \n",
            "          1. Source Code.\n",
            "        \n",
            "          The \"source code\" for a work means the preferred form of the work\n",
            "        for making modifications to it.  \"Object code\" means any non-source\n",
            "        form of a work.\n",
            "        \n",
            "          A \"Standard Interface\" means an interface that either is an official\n",
            "        standard defined by a recognized standards body, or, in the case of\n",
            "        interfaces specified for a particular programming language, one that\n",
            "        is widely used among developers working in that language.\n",
            "        \n",
            "          The \"System Libraries\" of an executable work include anything, other\n",
            "        than the work as a whole, that (a) is included in the normal form of\n",
            "        packaging a Major Component, but which is not part of that Major\n",
            "        Component, and (b) serves only to enable use of the work with that\n",
            "        Major Component, or to implement a Standard Interface for which an\n",
            "        implementation is available to the public in source code form.  A\n",
            "        \"Major Component\", in this context, means a major essential component\n",
            "        (kernel, window system, and so on) of the specific operating system\n",
            "        (if any) on which the executable work runs, or a compiler used to\n",
            "        produce the work, or an object code interpreter used to run it.\n",
            "        \n",
            "          The \"Corresponding Source\" for a work in object code form means all\n",
            "        the source code needed to generate, install, and (for an executable\n",
            "        work) run the object code and to modify the work, including scripts to\n",
            "        control those activities.  However, it does not include the work's\n",
            "        System Libraries, or general-purpose tools or generally available free\n",
            "        programs which are used unmodified in performing those activities but\n",
            "        which are not part of the work.  For example, Corresponding Source\n",
            "        includes interface definition files associated with source files for\n",
            "        the work, and the source code for shared libraries and dynamically\n",
            "        linked subprograms that the work is specifically designed to require,\n",
            "        such as by intimate data communication or control flow between those\n",
            "        subprograms and other parts of the work.\n",
            "        \n",
            "          The Corresponding Source need not include anything that users\n",
            "        can regenerate automatically from other parts of the Corresponding\n",
            "        Source.\n",
            "        \n",
            "          The Corresponding Source for a work in source code form is that\n",
            "        same work.\n",
            "        \n",
            "          2. Basic Permissions.\n",
            "        \n",
            "          All rights granted under this License are granted for the term of\n",
            "        copyright on the Program, and are irrevocable provided the stated\n",
            "        conditions are met.  This License explicitly affirms your unlimited\n",
            "        permission to run the unmodified Program.  The output from running a\n",
            "        covered work is covered by this License only if the output, given its\n",
            "        content, constitutes a covered work.  This License acknowledges your\n",
            "        rights of fair use or other equivalent, as provided by copyright law.\n",
            "        \n",
            "          You may make, run and propagate covered works that you do not\n",
            "        convey, without conditions so long as your license otherwise remains\n",
            "        in force.  You may convey covered works to others for the sole purpose\n",
            "        of having them make modifications exclusively for you, or provide you\n",
            "        with facilities for running those works, provided that you comply with\n",
            "        the terms of this License in conveying all material for which you do\n",
            "        not control copyright.  Those thus making or running the covered works\n",
            "        for you must do so exclusively on your behalf, under your direction\n",
            "        and control, on terms that prohibit them from making any copies of\n",
            "        your copyrighted material outside their relationship with you.\n",
            "        \n",
            "          Conveying under any other circumstances is permitted solely under\n",
            "        the conditions stated below.  Sublicensing is not allowed; section 10\n",
            "        makes it unnecessary.\n",
            "        \n",
            "          3. Protecting Users' Legal Rights From Anti-Circumvention Law.\n",
            "        \n",
            "          No covered work shall be deemed part of an effective technological\n",
            "        measure under any applicable law fulfilling obligations under article\n",
            "        11 of the WIPO copyright treaty adopted on 20 December 1996, or\n",
            "        similar laws prohibiting or restricting circumvention of such\n",
            "        measures.\n",
            "        \n",
            "          When you convey a covered work, you waive any legal power to forbid\n",
            "        circumvention of technological measures to the extent such circumvention\n",
            "        is effected by exercising rights under this License with respect to\n",
            "        the covered work, and you disclaim any intention to limit operation or\n",
            "        modification of the work as a means of enforcing, against the work's\n",
            "        users, your or third parties' legal rights to forbid circumvention of\n",
            "        technological measures.\n",
            "        \n",
            "          4. Conveying Verbatim Copies.\n",
            "        \n",
            "          You may convey verbatim copies of the Program's source code as you\n",
            "        receive it, in any medium, provided that you conspicuously and\n",
            "        appropriately publish on each copy an appropriate copyright notice;\n",
            "        keep intact all notices stating that this License and any\n",
            "        non-permissive terms added in accord with section 7 apply to the code;\n",
            "        keep intact all notices of the absence of any warranty; and give all\n",
            "        recipients a copy of this License along with the Program.\n",
            "        \n",
            "          You may charge any price or no price for each copy that you convey,\n",
            "        and you may offer support or warranty protection for a fee.\n",
            "        \n",
            "          5. Conveying Modified Source Versions.\n",
            "        \n",
            "          You may convey a work based on the Program, or the modifications to\n",
            "        produce it from the Program, in the form of source code under the\n",
            "        terms of section 4, provided that you also meet all of these conditions:\n",
            "        \n",
            "            a) The work must carry prominent notices stating that you modified\n",
            "            it, and giving a relevant date.\n",
            "        \n",
            "            b) The work must carry prominent notices stating that it is\n",
            "            released under this License and any conditions added under section\n",
            "            7.  This requirement modifies the requirement in section 4 to\n",
            "            \"keep intact all notices\".\n",
            "        \n",
            "            c) You must license the entire work, as a whole, under this\n",
            "            License to anyone who comes into possession of a copy.  This\n",
            "            License will therefore apply, along with any applicable section 7\n",
            "            additional terms, to the whole of the work, and all its parts,\n",
            "            regardless of how they are packaged.  This License gives no\n",
            "            permission to license the work in any other way, but it does not\n",
            "            invalidate such permission if you have separately received it.\n",
            "        \n",
            "            d) If the work has interactive user interfaces, each must display\n",
            "            Appropriate Legal Notices; however, if the Program has interactive\n",
            "            interfaces that do not display Appropriate Legal Notices, your\n",
            "            work need not make them do so.\n",
            "        \n",
            "          A compilation of a covered work with other separate and independent\n",
            "        works, which are not by their nature extensions of the covered work,\n",
            "        and which are not combined with it such as to form a larger program,\n",
            "        in or on a volume of a storage or distribution medium, is called an\n",
            "        \"aggregate\" if the compilation and its resulting copyright are not\n",
            "        used to limit the access or legal rights of the compilation's users\n",
            "        beyond what the individual works permit.  Inclusion of a covered work\n",
            "        in an aggregate does not cause this License to apply to the other\n",
            "        parts of the aggregate.\n",
            "        \n",
            "          6. Conveying Non-Source Forms.\n",
            "        \n",
            "          You may convey a covered work in object code form under the terms\n",
            "        of sections 4 and 5, provided that you also convey the\n",
            "        machine-readable Corresponding Source under the terms of this License,\n",
            "        in one of these ways:\n",
            "        \n",
            "            a) Convey the object code in, or embodied in, a physical product\n",
            "            (including a physical distribution medium), accompanied by the\n",
            "            Corresponding Source fixed on a durable physical medium\n",
            "            customarily used for software interchange.\n",
            "        \n",
            "            b) Convey the object code in, or embodied in, a physical product\n",
            "            (including a physical distribution medium), accompanied by a\n",
            "            written offer, valid for at least three years and valid for as\n",
            "            long as you offer spare parts or customer support for that product\n",
            "            model, to give anyone who possesses the object code either (1) a\n",
            "            copy of the Corresponding Source for all the software in the\n",
            "            product that is covered by this License, on a durable physical\n",
            "            medium customarily used for software interchange, for a price no\n",
            "            more than your reasonable cost of physically performing this\n",
            "            conveying of source, or (2) access to copy the\n",
            "            Corresponding Source from a network server at no charge.\n",
            "        \n",
            "            c) Convey individual copies of the object code with a copy of the\n",
            "            written offer to provide the Corresponding Source.  This\n",
            "            alternative is allowed only occasionally and noncommercially, and\n",
            "            only if you received the object code with such an offer, in accord\n",
            "            with subsection 6b.\n",
            "        \n",
            "            d) Convey the object code by offering access from a designated\n",
            "            place (gratis or for a charge), and offer equivalent access to the\n",
            "            Corresponding Source in the same way through the same place at no\n",
            "            further charge.  You need not require recipients to copy the\n",
            "            Corresponding Source along with the object code.  If the place to\n",
            "            copy the object code is a network server, the Corresponding Source\n",
            "            may be on a different server (operated by you or a third party)\n",
            "            that supports equivalent copying facilities, provided you maintain\n",
            "            clear directions next to the object code saying where to find the\n",
            "            Corresponding Source.  Regardless of what server hosts the\n",
            "            Corresponding Source, you remain obligated to ensure that it is\n",
            "            available for as long as needed to satisfy these requirements.\n",
            "        \n",
            "            e) Convey the object code using peer-to-peer transmission, provided\n",
            "            you inform other peers where the object code and Corresponding\n",
            "            Source of the work are being offered to the general public at no\n",
            "            charge under subsection 6d.\n",
            "        \n",
            "          A separable portion of the object code, whose source code is excluded\n",
            "        from the Corresponding Source as a System Library, need not be\n",
            "        included in conveying the object code work.\n",
            "        \n",
            "          A \"User Product\" is either (1) a \"consumer product\", which means any\n",
            "        tangible personal property which is normally used for personal, family,\n",
            "        or household purposes, or (2) anything designed or sold for incorporation\n",
            "        into a dwelling.  In determining whether a product is a consumer product,\n",
            "        doubtful cases shall be resolved in favor of coverage.  For a particular\n",
            "        product received by a particular user, \"normally used\" refers to a\n",
            "        typical or common use of that class of product, regardless of the status\n",
            "        of the particular user or of the way in which the particular user\n",
            "        actually uses, or expects or is expected to use, the product.  A product\n",
            "        is a consumer product regardless of whether the product has substantial\n",
            "        commercial, industrial or non-consumer uses, unless such uses represent\n",
            "        the only significant mode of use of the product.\n",
            "        \n",
            "          \"Installation Information\" for a User Product means any methods,\n",
            "        procedures, authorization keys, or other information required to install\n",
            "        and execute modified versions of a covered work in that User Product from\n",
            "        a modified version of its Corresponding Source.  The information must\n",
            "        suffice to ensure that the continued functioning of the modified object\n",
            "        code is in no case prevented or interfered with solely because\n",
            "        modification has been made.\n",
            "        \n",
            "          If you convey an object code work under this section in, or with, or\n",
            "        specifically for use in, a User Product, and the conveying occurs as\n",
            "        part of a transaction in which the right of possession and use of the\n",
            "        User Product is transferred to the recipient in perpetuity or for a\n",
            "        fixed term (regardless of how the transaction is characterized), the\n",
            "        Corresponding Source conveyed under this section must be accompanied\n",
            "        by the Installation Information.  But this requirement does not apply\n",
            "        if neither you nor any third party retains the ability to install\n",
            "        modified object code on the User Product (for example, the work has\n",
            "        been installed in ROM).\n",
            "        \n",
            "          The requirement to provide Installation Information does not include a\n",
            "        requirement to continue to provide support service, warranty, or updates\n",
            "        for a work that has been modified or installed by the recipient, or for\n",
            "        the User Product in which it has been modified or installed.  Access to a\n",
            "        network may be denied when the modification itself materially and\n",
            "        adversely affects the operation of the network or violates the rules and\n",
            "        protocols for communication across the network.\n",
            "        \n",
            "          Corresponding Source conveyed, and Installation Information provided,\n",
            "        in accord with this section must be in a format that is publicly\n",
            "        documented (and with an implementation available to the public in\n",
            "        source code form), and must require no special password or key for\n",
            "        unpacking, reading or copying.\n",
            "        \n",
            "          7. Additional Terms.\n",
            "        \n",
            "          \"Additional permissions\" are terms that supplement the terms of this\n",
            "        License by making exceptions from one or more of its conditions.\n",
            "        Additional permissions that are applicable to the entire Program shall\n",
            "        be treated as though they were included in this License, to the extent\n",
            "        that they are valid under applicable law.  If additional permissions\n",
            "        apply only to part of the Program, that part may be used separately\n",
            "        under those permissions, but the entire Program remains governed by\n",
            "        this License without regard to the additional permissions.\n",
            "        \n",
            "          When you convey a copy of a covered work, you may at your option\n",
            "        remove any additional permissions from that copy, or from any part of\n",
            "        it.  (Additional permissions may be written to require their own\n",
            "        removal in certain cases when you modify the work.)  You may place\n",
            "        additional permissions on material, added by you to a covered work,\n",
            "        for which you have or can give appropriate copyright permission.\n",
            "        \n",
            "          Notwithstanding any other provision of this License, for material you\n",
            "        add to a covered work, you may (if authorized by the copyright holders of\n",
            "        that material) supplement the terms of this License with terms:\n",
            "        \n",
            "            a) Disclaiming warranty or limiting liability differently from the\n",
            "            terms of sections 15 and 16 of this License; or\n",
            "        \n",
            "            b) Requiring preservation of specified reasonable legal notices or\n",
            "            author attributions in that material or in the Appropriate Legal\n",
            "            Notices displayed by works containing it; or\n",
            "        \n",
            "            c) Prohibiting misrepresentation of the origin of that material, or\n",
            "            requiring that modified versions of such material be marked in\n",
            "            reasonable ways as different from the original version; or\n",
            "        \n",
            "            d) Limiting the use for publicity purposes of names of licensors or\n",
            "            authors of the material; or\n",
            "        \n",
            "            e) Declining to grant rights under trademark law for use of some\n",
            "            trade names, trademarks, or service marks; or\n",
            "        \n",
            "            f) Requiring indemnification of licensors and authors of that\n",
            "            material by anyone who conveys the material (or modified versions of\n",
            "            it) with contractual assumptions of liability to the recipient, for\n",
            "            any liability that these contractual assumptions directly impose on\n",
            "            those licensors and authors.\n",
            "        \n",
            "          All other non-permissive additional terms are considered \"further\n",
            "        restrictions\" within the meaning of section 10.  If the Program as you\n",
            "        received it, or any part of it, contains a notice stating that it is\n",
            "        governed by this License along with a term that is a further\n",
            "        restriction, you may remove that term.  If a license document contains\n",
            "        a further restriction but permits relicensing or conveying under this\n",
            "        License, you may add to a covered work material governed by the terms\n",
            "        of that license document, provided that the further restriction does\n",
            "        not survive such relicensing or conveying.\n",
            "        \n",
            "          If you add terms to a covered work in accord with this section, you\n",
            "        must place, in the relevant source files, a statement of the\n",
            "        additional terms that apply to those files, or a notice indicating\n",
            "        where to find the applicable terms.\n",
            "        \n",
            "          Additional terms, permissive or non-permissive, may be stated in the\n",
            "        form of a separately written license, or stated as exceptions;\n",
            "        the above requirements apply either way.\n",
            "        \n",
            "          8. Termination.\n",
            "        \n",
            "          You may not propagate or modify a covered work except as expressly\n",
            "        provided under this License.  Any attempt otherwise to propagate or\n",
            "        modify it is void, and will automatically terminate your rights under\n",
            "        this License (including any patent licenses granted under the third\n",
            "        paragraph of section 11).\n",
            "        \n",
            "          However, if you cease all violation of this License, then your\n",
            "        license from a particular copyright holder is reinstated (a)\n",
            "        provisionally, unless and until the copyright holder explicitly and\n",
            "        finally terminates your license, and (b) permanently, if the copyright\n",
            "        holder fails to notify you of the violation by some reasonable means\n",
            "        prior to 60 days after the cessation.\n",
            "        \n",
            "          Moreover, your license from a particular copyright holder is\n",
            "        reinstated permanently if the copyright holder notifies you of the\n",
            "        violation by some reasonable means, this is the first time you have\n",
            "        received notice of violation of this License (for any work) from that\n",
            "        copyright holder, and you cure the violation prior to 30 days after\n",
            "        your receipt of the notice.\n",
            "        \n",
            "          Termination of your rights under this section does not terminate the\n",
            "        licenses of parties who have received copies or rights from you under\n",
            "        this License.  If your rights have been terminated and not permanently\n",
            "        reinstated, you do not qualify to receive new licenses for the same\n",
            "        material under section 10.\n",
            "        \n",
            "          9. Acceptance Not Required for Having Copies.\n",
            "        \n",
            "          You are not required to accept this License in order to receive or\n",
            "        run a copy of the Program.  Ancillary propagation of a covered work\n",
            "        occurring solely as a consequence of using peer-to-peer transmission\n",
            "        to receive a copy likewise does not require acceptance.  However,\n",
            "        nothing other than this License grants you permission to propagate or\n",
            "        modify any covered work.  These actions infringe copyright if you do\n",
            "        not accept this License.  Therefore, by modifying or propagating a\n",
            "        covered work, you indicate your acceptance of this License to do so.\n",
            "        \n",
            "          10. Automatic Licensing of Downstream Recipients.\n",
            "        \n",
            "          Each time you convey a covered work, the recipient automatically\n",
            "        receives a license from the original licensors, to run, modify and\n",
            "        propagate that work, subject to this License.  You are not responsible\n",
            "        for enforcing compliance by third parties with this License.\n",
            "        \n",
            "          An \"entity transaction\" is a transaction transferring control of an\n",
            "        organization, or substantially all assets of one, or subdividing an\n",
            "        organization, or merging organizations.  If propagation of a covered\n",
            "        work results from an entity transaction, each party to that\n",
            "        transaction who receives a copy of the work also receives whatever\n",
            "        licenses to the work the party's predecessor in interest had or could\n",
            "        give under the previous paragraph, plus a right to possession of the\n",
            "        Corresponding Source of the work from the predecessor in interest, if\n",
            "        the predecessor has it or can get it with reasonable efforts.\n",
            "        \n",
            "          You may not impose any further restrictions on the exercise of the\n",
            "        rights granted or affirmed under this License.  For example, you may\n",
            "        not impose a license fee, royalty, or other charge for exercise of\n",
            "        rights granted under this License, and you may not initiate litigation\n",
            "        (including a cross-claim or counterclaim in a lawsuit) alleging that\n",
            "        any patent claim is infringed by making, using, selling, offering for\n",
            "        sale, or importing the Program or any portion of it.\n",
            "        \n",
            "          11. Patents.\n",
            "        \n",
            "          A \"contributor\" is a copyright holder who authorizes use under this\n",
            "        License of the Program or a work on which the Program is based.  The\n",
            "        work thus licensed is called the contributor's \"contributor version\".\n",
            "        \n",
            "          A contributor's \"essential patent claims\" are all patent claims\n",
            "        owned or controlled by the contributor, whether already acquired or\n",
            "        hereafter acquired, that would be infringed by some manner, permitted\n",
            "        by this License, of making, using, or selling its contributor version,\n",
            "        but do not include claims that would be infringed only as a\n",
            "        consequence of further modification of the contributor version.  For\n",
            "        purposes of this definition, \"control\" includes the right to grant\n",
            "        patent sublicenses in a manner consistent with the requirements of\n",
            "        this License.\n",
            "        \n",
            "          Each contributor grants you a non-exclusive, worldwide, royalty-free\n",
            "        patent license under the contributor's essential patent claims, to\n",
            "        make, use, sell, offer for sale, import and otherwise run, modify and\n",
            "        propagate the contents of its contributor version.\n",
            "        \n",
            "          In the following three paragraphs, a \"patent license\" is any express\n",
            "        agreement or commitment, however denominated, not to enforce a patent\n",
            "        (such as an express permission to practice a patent or covenant not to\n",
            "        sue for patent infringement).  To \"grant\" such a patent license to a\n",
            "        party means to make such an agreement or commitment not to enforce a\n",
            "        patent against the party.\n",
            "        \n",
            "          If you convey a covered work, knowingly relying on a patent license,\n",
            "        and the Corresponding Source of the work is not available for anyone\n",
            "        to copy, free of charge and under the terms of this License, through a\n",
            "        publicly available network server or other readily accessible means,\n",
            "        then you must either (1) cause the Corresponding Source to be so\n",
            "        available, or (2) arrange to deprive yourself of the benefit of the\n",
            "        patent license for this particular work, or (3) arrange, in a manner\n",
            "        consistent with the requirements of this License, to extend the patent\n",
            "        license to downstream recipients.  \"Knowingly relying\" means you have\n",
            "        actual knowledge that, but for the patent license, your conveying the\n",
            "        covered work in a country, or your recipient's use of the covered work\n",
            "        in a country, would infringe one or more identifiable patents in that\n",
            "        country that you have reason to believe are valid.\n",
            "        \n",
            "          If, pursuant to or in connection with a single transaction or\n",
            "        arrangement, you convey, or propagate by procuring conveyance of, a\n",
            "        covered work, and grant a patent license to some of the parties\n",
            "        receiving the covered work authorizing them to use, propagate, modify\n",
            "        or convey a specific copy of the covered work, then the patent license\n",
            "        you grant is automatically extended to all recipients of the covered\n",
            "        work and works based on it.\n",
            "        \n",
            "          A patent license is \"discriminatory\" if it does not include within\n",
            "        the scope of its coverage, prohibits the exercise of, or is\n",
            "        conditioned on the non-exercise of one or more of the rights that are\n",
            "        specifically granted under this License.  You may not convey a covered\n",
            "        work if you are a party to an arrangement with a third party that is\n",
            "        in the business of distributing software, under which you make payment\n",
            "        to the third party based on the extent of your activity of conveying\n",
            "        the work, and under which the third party grants, to any of the\n",
            "        parties who would receive the covered work from you, a discriminatory\n",
            "        patent license (a) in connection with copies of the covered work\n",
            "        conveyed by you (or copies made from those copies), or (b) primarily\n",
            "        for and in connection with specific products or compilations that\n",
            "        contain the covered work, unless you entered into that arrangement,\n",
            "        or that patent license was granted, prior to 28 March 2007.\n",
            "        \n",
            "          Nothing in this License shall be construed as excluding or limiting\n",
            "        any implied license or other defenses to infringement that may\n",
            "        otherwise be available to you under applicable patent law.\n",
            "        \n",
            "          12. No Surrender of Others' Freedom.\n",
            "        \n",
            "          If conditions are imposed on you (whether by court order, agreement or\n",
            "        otherwise) that contradict the conditions of this License, they do not\n",
            "        excuse you from the conditions of this License.  If you cannot convey a\n",
            "        covered work so as to satisfy simultaneously your obligations under this\n",
            "        License and any other pertinent obligations, then as a consequence you may\n",
            "        not convey it at all.  For example, if you agree to terms that obligate you\n",
            "        to collect a royalty for further conveying from those to whom you convey\n",
            "        the Program, the only way you could satisfy both those terms and this\n",
            "        License would be to refrain entirely from conveying the Program.\n",
            "        \n",
            "          13. Use with the GNU Affero General Public License.\n",
            "        \n",
            "          Notwithstanding any other provision of this License, you have\n",
            "        permission to link or combine any covered work with a work licensed\n",
            "        under version 3 of the GNU Affero General Public License into a single\n",
            "        combined work, and to convey the resulting work.  The terms of this\n",
            "        License will continue to apply to the part which is the covered work,\n",
            "        but the special requirements of the GNU Affero General Public License,\n",
            "        section 13, concerning interaction through a network will apply to the\n",
            "        combination as such.\n",
            "        \n",
            "          14. Revised Versions of this License.\n",
            "        \n",
            "          The Free Software Foundation may publish revised and/or new versions of\n",
            "        the GNU General Public License from time to time.  Such new versions will\n",
            "        be similar in spirit to the present version, but may differ in detail to\n",
            "        address new problems or concerns.\n",
            "        \n",
            "          Each version is given a distinguishing version number.  If the\n",
            "        Program specifies that a certain numbered version of the GNU General\n",
            "        Public License \"or any later version\" applies to it, you have the\n",
            "        option of following the terms and conditions either of that numbered\n",
            "        version or of any later version published by the Free Software\n",
            "        Foundation.  If the Program does not specify a version number of the\n",
            "        GNU General Public License, you may choose any version ever published\n",
            "        by the Free Software Foundation.\n",
            "        \n",
            "          If the Program specifies that a proxy can decide which future\n",
            "        versions of the GNU General Public License can be used, that proxy's\n",
            "        public statement of acceptance of a version permanently authorizes you\n",
            "        to choose that version for the Program.\n",
            "        \n",
            "          Later license versions may give you additional or different\n",
            "        permissions.  However, no additional obligations are imposed on any\n",
            "        author or copyright holder as a result of your choosing to follow a\n",
            "        later version.\n",
            "        \n",
            "          15. Disclaimer of Warranty.\n",
            "        \n",
            "          THERE IS NO WARRANTY FOR THE PROGRAM, TO THE EXTENT PERMITTED BY\n",
            "        APPLICABLE LAW.  EXCEPT WHEN OTHERWISE STATED IN WRITING THE COPYRIGHT\n",
            "        HOLDERS AND/OR OTHER PARTIES PROVIDE THE PROGRAM \"AS IS\" WITHOUT WARRANTY\n",
            "        OF ANY KIND, EITHER EXPRESSED OR IMPLIED, INCLUDING, BUT NOT LIMITED TO,\n",
            "        THE IMPLIED WARRANTIES OF MERCHANTABILITY AND FITNESS FOR A PARTICULAR\n",
            "        PURPOSE.  THE ENTIRE RISK AS TO THE QUALITY AND PERFORMANCE OF THE PROGRAM\n",
            "        IS WITH YOU.  SHOULD THE PROGRAM PROVE DEFECTIVE, YOU ASSUME THE COST OF\n",
            "        ALL NECESSARY SERVICING, REPAIR OR CORRECTION.\n",
            "        \n",
            "          16. Limitation of Liability.\n",
            "        \n",
            "          IN NO EVENT UNLESS REQUIRED BY APPLICABLE LAW OR AGREED TO IN WRITING\n",
            "        WILL ANY COPYRIGHT HOLDER, OR ANY OTHER PARTY WHO MODIFIES AND/OR CONVEYS\n",
            "        THE PROGRAM AS PERMITTED ABOVE, BE LIABLE TO YOU FOR DAMAGES, INCLUDING ANY\n",
            "        GENERAL, SPECIAL, INCIDENTAL OR CONSEQUENTIAL DAMAGES ARISING OUT OF THE\n",
            "        USE OR INABILITY TO USE THE PROGRAM (INCLUDING BUT NOT LIMITED TO LOSS OF\n",
            "        DATA OR DATA BEING RENDERED INACCURATE OR LOSSES SUSTAINED BY YOU OR THIRD\n",
            "        PARTIES OR A FAILURE OF THE PROGRAM TO OPERATE WITH ANY OTHER PROGRAMS),\n",
            "        EVEN IF SUCH HOLDER OR OTHER PARTY HAS BEEN ADVISED OF THE POSSIBILITY OF\n",
            "        SUCH DAMAGES.\n",
            "        \n",
            "          17. Interpretation of Sections 15 and 16.\n",
            "        \n",
            "          If the disclaimer of warranty and limitation of liability provided\n",
            "        above cannot be given local legal effect according to their terms,\n",
            "        reviewing courts shall apply local law that most closely approximates\n",
            "        an absolute waiver of all civil liability in connection with the\n",
            "        Program, unless a warranty or assumption of liability accompanies a\n",
            "        copy of the Program in return for a fee.\n",
            "        \n",
            "                             END OF TERMS AND CONDITIONS\n",
            "        \n",
            "                    How to Apply These Terms to Your New Programs\n",
            "        \n",
            "          If you develop a new program, and you want it to be of the greatest\n",
            "        possible use to the public, the best way to achieve this is to make it\n",
            "        free software which everyone can redistribute and change under these terms.\n",
            "        \n",
            "          To do so, attach the following notices to the program.  It is safest\n",
            "        to attach them to the start of each source file to most effectively\n",
            "        state the exclusion of warranty; and each file should have at least\n",
            "        the \"copyright\" line and a pointer to where the full notice is found.\n",
            "        \n",
            "            <one line to give the program's name and a brief idea of what it does.>\n",
            "            Copyright (C) <year>  <name of author>\n",
            "        \n",
            "            This program is free software: you can redistribute it and/or modify\n",
            "            it under the terms of the GNU General Public License as published by\n",
            "            the Free Software Foundation, either version 3 of the License, or\n",
            "            (at your option) any later version.\n",
            "        \n",
            "            This program is distributed in the hope that it will be useful,\n",
            "            but WITHOUT ANY WARRANTY; without even the implied warranty of\n",
            "            MERCHANTABILITY or FITNESS FOR A PARTICULAR PURPOSE.  See the\n",
            "            GNU General Public License for more details.\n",
            "        \n",
            "            You should have received a copy of the GNU General Public License\n",
            "            along with this program.  If not, see <http://www.gnu.org/licenses/>.\n",
            "        \n",
            "        Also add information on how to contact you by electronic and paper mail.\n",
            "        \n",
            "          If the program does terminal interaction, make it output a short\n",
            "        notice like this when it starts in an interactive mode:\n",
            "        \n",
            "            <program>  Copyright (C) <year>  <name of author>\n",
            "            This program comes with ABSOLUTELY NO WARRANTY; for details type `show w'.\n",
            "            This is free software, and you are welcome to redistribute it\n",
            "            under certain conditions; type `show c' for details.\n",
            "        \n",
            "        The hypothetical commands `show w' and `show c' should show the appropriate\n",
            "        parts of the General Public License.  Of course, your program's commands\n",
            "        might be different; for a GUI interface, you would use an \"about box\".\n",
            "        \n",
            "          You should also get your employer (if you work as a programmer) or school,\n",
            "        if any, to sign a \"copyright disclaimer\" for the program, if necessary.\n",
            "        For more information on this, and how to apply and follow the GNU GPL, see\n",
            "        <http://www.gnu.org/licenses/>.\n",
            "        \n",
            "          The GNU General Public License does not permit incorporating your program\n",
            "        into proprietary programs.  If your program is a subroutine library, you\n",
            "        may consider it more useful to permit linking proprietary applications with\n",
            "        the library.  If this is what you want to do, use the GNU Lesser General\n",
            "        Public License instead of this License.  But first, please read\n",
            "        <http://www.gnu.org/philosophy/why-not-lgpl.html>.\n",
            "        \n",
            "        Name: libquadmath\n",
            "        Files: numpy/.dylibs/libquadmath*.so\n",
            "        Description: dynamically linked to files compiled with gcc\n",
            "        Availability: https://gcc.gnu.org/git/?p=gcc.git;a=tree;f=libquadmath\n",
            "        License: LGPL-2.1-or-later\n",
            "        \n",
            "            GCC Quad-Precision Math Library\n",
            "            Copyright (C) 2010-2019 Free Software Foundation, Inc.\n",
            "            Written by Francois-Xavier Coudert  <fxcoudert@gcc.gnu.org>\n",
            "        \n",
            "            This file is part of the libquadmath library.\n",
            "            Libquadmath is free software; you can redistribute it and/or\n",
            "            modify it under the terms of the GNU Library General Public\n",
            "            License as published by the Free Software Foundation; either\n",
            "            version 2.1 of the License, or (at your option) any later version.\n",
            "        \n",
            "            Libquadmath is distributed in the hope that it will be useful,\n",
            "            but WITHOUT ANY WARRANTY; without even the implied warranty of\n",
            "            MERCHANTABILITY or FITNESS FOR A PARTICULAR PURPOSE.  See the GNU\n",
            "            Lesser General Public License for more details.\n",
            "            https://www.gnu.org/licenses/old-licenses/lgpl-2.1.html\n",
            "Location: /Library/Frameworks/Python.framework/Versions/3.10/lib/python3.10/site-packages\n",
            "Requires: \n",
            "Required-by: accelerate, blis, catboost, category_encoders, contourpy, datasets, easyocr, eli5, fastdtw, feature-engine, gensim, h5py, hampel, imageio, imbalanced-learn, ipycanvas, keras, Keras-Preprocessing, librosa, lime, matplotlib, ml-dtypes, mlxtend, nibabel, numba, opencv-python, opencv-python-headless, opt-einsum, pandas, patsy, pychorus, pycocotools, pydeck, pyqtgraph, qiskit-aer, qiskit-ibmq-provider, qiskit-machine-learning, qiskit-terra, rasterio, retworkx, rustworkx, SALib, scikit-image, scikit-learn, scipy, seaborn, seqeval, shap, shapely, skope-rules, soxr, spacy, spams, spectral, statsmodels, streamlit, tabula-py, tensorboard, tensorflow, tensorflow-macos, thinc, tifffile, torchvision, transformers, ultralytics, xgboost\n"
          ]
        }
      ],
      "source": [
        "!pip show numpy"
      ]
    },
    {
      "cell_type": "code",
      "execution_count": 933,
      "metadata": {
        "id": "H1m7R-wLTpl8"
      },
      "outputs": [],
      "source": [
        "import pandas as pd\n",
        "import matplotlib.pyplot as plt\n",
        "import seaborn as sns\n",
        "from sklearn.preprocessing import LabelEncoder\n"
      ]
    },
    {
      "cell_type": "code",
      "execution_count": 934,
      "metadata": {
        "id": "cfuXhM4tTGVV"
      },
      "outputs": [],
      "source": [
        "data = pd.read_csv('/Users/dhruv/Dhruv/Apcela/RFQ.csv')"
      ]
    },
    {
      "cell_type": "code",
      "execution_count": 935,
      "metadata": {
        "colab": {
          "base_uri": "https://localhost:8080/",
          "height": 669
        },
        "id": "vsX_Ree6Tqf-",
        "outputId": "d7c0d16a-1a85-4232-988d-c5beaf8938c8"
      },
      "outputs": [
        {
          "data": {
            "text/html": [
              "<div>\n",
              "<style scoped>\n",
              "    .dataframe tbody tr th:only-of-type {\n",
              "        vertical-align: middle;\n",
              "    }\n",
              "\n",
              "    .dataframe tbody tr th {\n",
              "        vertical-align: top;\n",
              "    }\n",
              "\n",
              "    .dataframe thead th {\n",
              "        text-align: right;\n",
              "    }\n",
              "</style>\n",
              "<table border=\"1\" class=\"dataframe\">\n",
              "  <thead>\n",
              "    <tr style=\"text-align: right;\">\n",
              "      <th></th>\n",
              "      <th>Rec Num</th>\n",
              "      <th>RFQ</th>\n",
              "      <th>Date requested</th>\n",
              "      <th>Date Received</th>\n",
              "      <th>A Loc Address</th>\n",
              "      <th>A Loc City</th>\n",
              "      <th>A Loc State</th>\n",
              "      <th>A Loc Zip</th>\n",
              "      <th>Z Loc Address</th>\n",
              "      <th>Z Loc City</th>\n",
              "      <th>Z Loc State</th>\n",
              "      <th>Z Loc Zip</th>\n",
              "      <th>Cir Type</th>\n",
              "      <th>Port Speed</th>\n",
              "      <th>Term</th>\n",
              "      <th>Provider</th>\n",
              "      <th>A Loc Local Loop Provider</th>\n",
              "      <th>MRC</th>\n",
              "      <th>NRC</th>\n",
              "      <th>RTD Latency</th>\n",
              "    </tr>\n",
              "  </thead>\n",
              "  <tbody>\n",
              "    <tr>\n",
              "      <th>0</th>\n",
              "      <td>4649.0</td>\n",
              "      <td>RFQ-234</td>\n",
              "      <td>2/22/2019</td>\n",
              "      <td>2/28/2019</td>\n",
              "      <td>1400 Federal</td>\n",
              "      <td>Carteret</td>\n",
              "      <td>NJ</td>\n",
              "      <td>07008</td>\n",
              "      <td>350 East Cermak</td>\n",
              "      <td>Chicago</td>\n",
              "      <td>IL</td>\n",
              "      <td>60616</td>\n",
              "      <td>Tier 0</td>\n",
              "      <td>100G</td>\n",
              "      <td>36</td>\n",
              "      <td>Spread</td>\n",
              "      <td>NaN</td>\n",
              "      <td>$115,000</td>\n",
              "      <td>$10,000</td>\n",
              "      <td>13.000</td>\n",
              "    </tr>\n",
              "    <tr>\n",
              "      <th>1</th>\n",
              "      <td>4650.0</td>\n",
              "      <td>RFQ-234</td>\n",
              "      <td>2/22/2019</td>\n",
              "      <td>2/28/2019</td>\n",
              "      <td>1400 Federal</td>\n",
              "      <td>Carteret</td>\n",
              "      <td>NJ</td>\n",
              "      <td>07008</td>\n",
              "      <td>350 East Cermak</td>\n",
              "      <td>Chicago</td>\n",
              "      <td>IL</td>\n",
              "      <td>60616</td>\n",
              "      <td>Tier 1</td>\n",
              "      <td>100G</td>\n",
              "      <td>36</td>\n",
              "      <td>Spread</td>\n",
              "      <td>NaN</td>\n",
              "      <td>$61,250</td>\n",
              "      <td>$10,000</td>\n",
              "      <td>14.070</td>\n",
              "    </tr>\n",
              "    <tr>\n",
              "      <th>2</th>\n",
              "      <td>4651.0</td>\n",
              "      <td>RFQ-234</td>\n",
              "      <td>2/26/2019</td>\n",
              "      <td>2/28/2019</td>\n",
              "      <td>1400 Federal</td>\n",
              "      <td>Carteret</td>\n",
              "      <td>NJ</td>\n",
              "      <td>07008</td>\n",
              "      <td>350 East Cermak</td>\n",
              "      <td>Chicago</td>\n",
              "      <td>IL</td>\n",
              "      <td>60616</td>\n",
              "      <td>Tier 2</td>\n",
              "      <td>100G</td>\n",
              "      <td>36</td>\n",
              "      <td>Spread</td>\n",
              "      <td>NaN</td>\n",
              "      <td>$22,500</td>\n",
              "      <td>$10,000</td>\n",
              "      <td>14.270</td>\n",
              "    </tr>\n",
              "    <tr>\n",
              "      <th>3</th>\n",
              "      <td>4652.0</td>\n",
              "      <td>RFQ-234</td>\n",
              "      <td>2/26/2019</td>\n",
              "      <td>2/28/2019</td>\n",
              "      <td>1400 Federal</td>\n",
              "      <td>Carteret</td>\n",
              "      <td>NJ</td>\n",
              "      <td>07008</td>\n",
              "      <td>350 East Cermak</td>\n",
              "      <td>Chicago</td>\n",
              "      <td>IL</td>\n",
              "      <td>60616</td>\n",
              "      <td>Carrier Grade</td>\n",
              "      <td>100G</td>\n",
              "      <td>36</td>\n",
              "      <td>Spread</td>\n",
              "      <td>NaN</td>\n",
              "      <td>$7,500</td>\n",
              "      <td>$3,000</td>\n",
              "      <td>15.900</td>\n",
              "    </tr>\n",
              "    <tr>\n",
              "      <th>4</th>\n",
              "      <td>4653.0</td>\n",
              "      <td>RFQ-234</td>\n",
              "      <td>2/26/2019</td>\n",
              "      <td>2/28/2019</td>\n",
              "      <td>1400 Federal</td>\n",
              "      <td>Carteret</td>\n",
              "      <td>NJ</td>\n",
              "      <td>07008</td>\n",
              "      <td>350 East Cermak</td>\n",
              "      <td>Chicago</td>\n",
              "      <td>IL</td>\n",
              "      <td>60616</td>\n",
              "      <td>Tier 0</td>\n",
              "      <td>100G</td>\n",
              "      <td>12</td>\n",
              "      <td>Spread</td>\n",
              "      <td>NaN</td>\n",
              "      <td>$125,000</td>\n",
              "      <td>$10,000</td>\n",
              "      <td>13.000</td>\n",
              "    </tr>\n",
              "    <tr>\n",
              "      <th>...</th>\n",
              "      <td>...</td>\n",
              "      <td>...</td>\n",
              "      <td>...</td>\n",
              "      <td>...</td>\n",
              "      <td>...</td>\n",
              "      <td>...</td>\n",
              "      <td>...</td>\n",
              "      <td>...</td>\n",
              "      <td>...</td>\n",
              "      <td>...</td>\n",
              "      <td>...</td>\n",
              "      <td>...</td>\n",
              "      <td>...</td>\n",
              "      <td>...</td>\n",
              "      <td>...</td>\n",
              "      <td>...</td>\n",
              "      <td>...</td>\n",
              "      <td>...</td>\n",
              "      <td>...</td>\n",
              "      <td>...</td>\n",
              "    </tr>\n",
              "    <tr>\n",
              "      <th>7835</th>\n",
              "      <td>13311.0</td>\n",
              "      <td>RFQ-628.2</td>\n",
              "      <td>2/8/2024</td>\n",
              "      <td>NaN</td>\n",
              "      <td>Tufsteen 1</td>\n",
              "      <td>Hoofddorp</td>\n",
              "      <td>Netherlands</td>\n",
              "      <td>2132 NT</td>\n",
              "      <td>Luttenbergweg 4</td>\n",
              "      <td>Amsterdam</td>\n",
              "      <td>Netherlands</td>\n",
              "      <td>1101 EC</td>\n",
              "      <td>Microwave</td>\n",
              "      <td>1G</td>\n",
              "      <td>24</td>\n",
              "      <td>DigitalWell</td>\n",
              "      <td>NaN</td>\n",
              "      <td>No Bid</td>\n",
              "      <td>NaN</td>\n",
              "      <td>NaN</td>\n",
              "    </tr>\n",
              "    <tr>\n",
              "      <th>7836</th>\n",
              "      <td>13312.0</td>\n",
              "      <td>RFQ-628.2</td>\n",
              "      <td>2/8/2024</td>\n",
              "      <td>NaN</td>\n",
              "      <td>Tufsteen 1</td>\n",
              "      <td>Hoofddorp</td>\n",
              "      <td>Netherlands</td>\n",
              "      <td>2132 NT</td>\n",
              "      <td>Luttenbergweg 4</td>\n",
              "      <td>Amsterdam</td>\n",
              "      <td>Netherlands</td>\n",
              "      <td>1101 EC</td>\n",
              "      <td>Microwave</td>\n",
              "      <td>1G</td>\n",
              "      <td>36</td>\n",
              "      <td>DigitalWell</td>\n",
              "      <td>NaN</td>\n",
              "      <td>No Bid</td>\n",
              "      <td>NaN</td>\n",
              "      <td>NaN</td>\n",
              "    </tr>\n",
              "    <tr>\n",
              "      <th>7837</th>\n",
              "      <td>13313.0</td>\n",
              "      <td>RFQ-628.2</td>\n",
              "      <td>2/8/2024</td>\n",
              "      <td>2/8/2024</td>\n",
              "      <td>Tufsteen 1</td>\n",
              "      <td>Hoofddorp</td>\n",
              "      <td>Netherlands</td>\n",
              "      <td>2132 NT</td>\n",
              "      <td>Luttenbergweg 4</td>\n",
              "      <td>Amsterdam</td>\n",
              "      <td>Netherlands</td>\n",
              "      <td>1101 EC</td>\n",
              "      <td>Microwave</td>\n",
              "      <td>1G</td>\n",
              "      <td>12</td>\n",
              "      <td>EXA</td>\n",
              "      <td>NaN</td>\n",
              "      <td>No Bid</td>\n",
              "      <td>NaN</td>\n",
              "      <td>NaN</td>\n",
              "    </tr>\n",
              "    <tr>\n",
              "      <th>7838</th>\n",
              "      <td>13314.0</td>\n",
              "      <td>RFQ-628.2</td>\n",
              "      <td>2/8/2024</td>\n",
              "      <td>2/8/2024</td>\n",
              "      <td>Tufsteen 1</td>\n",
              "      <td>Hoofddorp</td>\n",
              "      <td>Netherlands</td>\n",
              "      <td>2132 NT</td>\n",
              "      <td>Luttenbergweg 4</td>\n",
              "      <td>Amsterdam</td>\n",
              "      <td>Netherlands</td>\n",
              "      <td>1101 EC</td>\n",
              "      <td>Microwave</td>\n",
              "      <td>1G</td>\n",
              "      <td>24</td>\n",
              "      <td>EXA</td>\n",
              "      <td>NaN</td>\n",
              "      <td>No Bid</td>\n",
              "      <td>NaN</td>\n",
              "      <td>NaN</td>\n",
              "    </tr>\n",
              "    <tr>\n",
              "      <th>7839</th>\n",
              "      <td>13315.0</td>\n",
              "      <td>RFQ-628.2</td>\n",
              "      <td>2/8/2024</td>\n",
              "      <td>2/8/2024</td>\n",
              "      <td>Tufsteen 1</td>\n",
              "      <td>Hoofddorp</td>\n",
              "      <td>Netherlands</td>\n",
              "      <td>2132 NT</td>\n",
              "      <td>Luttenbergweg 4</td>\n",
              "      <td>Amsterdam</td>\n",
              "      <td>Netherlands</td>\n",
              "      <td>1101 EC</td>\n",
              "      <td>Microwave</td>\n",
              "      <td>1G</td>\n",
              "      <td>36</td>\n",
              "      <td>EXA</td>\n",
              "      <td>NaN</td>\n",
              "      <td>No Bid</td>\n",
              "      <td>NaN</td>\n",
              "      <td>NaN</td>\n",
              "    </tr>\n",
              "  </tbody>\n",
              "</table>\n",
              "<p>7840 rows × 20 columns</p>\n",
              "</div>"
            ],
            "text/plain": [
              "      Rec Num        RFQ Date requested Date Received A Loc Address  \\\n",
              "0      4649.0    RFQ-234      2/22/2019     2/28/2019  1400 Federal   \n",
              "1      4650.0    RFQ-234      2/22/2019     2/28/2019  1400 Federal   \n",
              "2      4651.0    RFQ-234      2/26/2019     2/28/2019  1400 Federal   \n",
              "3      4652.0    RFQ-234      2/26/2019     2/28/2019  1400 Federal   \n",
              "4      4653.0    RFQ-234      2/26/2019     2/28/2019  1400 Federal   \n",
              "...       ...        ...            ...           ...           ...   \n",
              "7835  13311.0  RFQ-628.2       2/8/2024           NaN    Tufsteen 1   \n",
              "7836  13312.0  RFQ-628.2       2/8/2024           NaN    Tufsteen 1   \n",
              "7837  13313.0  RFQ-628.2       2/8/2024      2/8/2024    Tufsteen 1   \n",
              "7838  13314.0  RFQ-628.2       2/8/2024      2/8/2024    Tufsteen 1   \n",
              "7839  13315.0  RFQ-628.2       2/8/2024      2/8/2024    Tufsteen 1   \n",
              "\n",
              "     A Loc City  A Loc State A Loc Zip    Z Loc Address Z Loc City  \\\n",
              "0      Carteret           NJ     07008  350 East Cermak    Chicago   \n",
              "1      Carteret           NJ     07008  350 East Cermak    Chicago   \n",
              "2      Carteret           NJ     07008  350 East Cermak    Chicago   \n",
              "3      Carteret           NJ     07008  350 East Cermak    Chicago   \n",
              "4      Carteret           NJ     07008  350 East Cermak    Chicago   \n",
              "...         ...          ...       ...              ...        ...   \n",
              "7835  Hoofddorp  Netherlands   2132 NT  Luttenbergweg 4  Amsterdam   \n",
              "7836  Hoofddorp  Netherlands   2132 NT  Luttenbergweg 4  Amsterdam   \n",
              "7837  Hoofddorp  Netherlands   2132 NT  Luttenbergweg 4  Amsterdam   \n",
              "7838  Hoofddorp  Netherlands   2132 NT  Luttenbergweg 4  Amsterdam   \n",
              "7839  Hoofddorp  Netherlands   2132 NT  Luttenbergweg 4  Amsterdam   \n",
              "\n",
              "      Z Loc State Z Loc Zip       Cir Type Port Speed Term     Provider  \\\n",
              "0              IL     60616         Tier 0       100G   36       Spread   \n",
              "1              IL     60616         Tier 1       100G   36       Spread   \n",
              "2              IL     60616         Tier 2       100G   36       Spread   \n",
              "3              IL     60616  Carrier Grade       100G   36       Spread   \n",
              "4              IL     60616         Tier 0       100G   12       Spread   \n",
              "...           ...       ...            ...        ...  ...          ...   \n",
              "7835  Netherlands   1101 EC      Microwave         1G   24  DigitalWell   \n",
              "7836  Netherlands   1101 EC      Microwave         1G   36  DigitalWell   \n",
              "7837  Netherlands   1101 EC      Microwave         1G   12          EXA   \n",
              "7838  Netherlands   1101 EC      Microwave         1G   24          EXA   \n",
              "7839  Netherlands   1101 EC      Microwave         1G   36          EXA   \n",
              "\n",
              "     A Loc Local Loop Provider       MRC      NRC RTD Latency  \n",
              "0                          NaN  $115,000  $10,000      13.000  \n",
              "1                          NaN   $61,250  $10,000      14.070  \n",
              "2                          NaN   $22,500  $10,000      14.270  \n",
              "3                          NaN    $7,500   $3,000      15.900  \n",
              "4                          NaN  $125,000  $10,000      13.000  \n",
              "...                        ...       ...      ...         ...  \n",
              "7835                       NaN    No Bid      NaN         NaN  \n",
              "7836                       NaN    No Bid      NaN         NaN  \n",
              "7837                       NaN    No Bid      NaN         NaN  \n",
              "7838                       NaN    No Bid      NaN         NaN  \n",
              "7839                       NaN    No Bid      NaN         NaN  \n",
              "\n",
              "[7840 rows x 20 columns]"
            ]
          },
          "execution_count": 935,
          "metadata": {},
          "output_type": "execute_result"
        }
      ],
      "source": [
        "data"
      ]
    },
    {
      "cell_type": "code",
      "execution_count": 936,
      "metadata": {
        "colab": {
          "base_uri": "https://localhost:8080/"
        },
        "id": "n0YBIGy2TtY5",
        "outputId": "f3b303d3-ce5e-40d5-fadd-8fb505fa0269"
      },
      "outputs": [
        {
          "data": {
            "text/plain": [
              "Index(['Rec Num', 'RFQ', 'Date requested', 'Date Received', 'A Loc Address',\n",
              "       'A Loc City', 'A Loc State', 'A Loc Zip', 'Z Loc Address', 'Z Loc City',\n",
              "       'Z Loc State', 'Z Loc Zip', 'Cir Type', 'Port Speed', 'Term',\n",
              "       'Provider', 'A Loc Local Loop Provider', 'MRC', 'NRC', 'RTD Latency'],\n",
              "      dtype='object')"
            ]
          },
          "execution_count": 936,
          "metadata": {},
          "output_type": "execute_result"
        }
      ],
      "source": [
        "data.columns"
      ]
    },
    {
      "cell_type": "code",
      "execution_count": 937,
      "metadata": {
        "colab": {
          "base_uri": "https://localhost:8080/"
        },
        "id": "_xiPue5ZuXMd",
        "outputId": "23ef68dd-abe9-4d44-c522-961b474b26f0"
      },
      "outputs": [
        {
          "name": "stdout",
          "output_type": "stream",
          "text": [
            "<class 'pandas.core.frame.DataFrame'>\n",
            "RangeIndex: 7840 entries, 0 to 7839\n",
            "Data columns (total 20 columns):\n",
            " #   Column                     Non-Null Count  Dtype  \n",
            "---  ------                     --------------  -----  \n",
            " 0   Rec Num                    7840 non-null   float64\n",
            " 1   RFQ                        7840 non-null   object \n",
            " 2   Date requested             7803 non-null   object \n",
            " 3   Date Received              7059 non-null   object \n",
            " 4   A Loc Address              7802 non-null   object \n",
            " 5   A Loc City                 7696 non-null   object \n",
            " 6   A Loc State                7636 non-null   object \n",
            " 7   A Loc Zip                  6440 non-null   object \n",
            " 8   Z Loc Address              6976 non-null   object \n",
            " 9   Z Loc City                 6853 non-null   object \n",
            " 10  Z Loc State                6777 non-null   object \n",
            " 11  Z Loc Zip                  5306 non-null   object \n",
            " 12  Cir Type                   7835 non-null   object \n",
            " 13  Port Speed                 7538 non-null   object \n",
            " 14  Term                       7840 non-null   object \n",
            " 15  Provider                   7840 non-null   object \n",
            " 16  A Loc Local Loop Provider  1542 non-null   object \n",
            " 17  MRC                        7817 non-null   object \n",
            " 18  NRC                        5282 non-null   object \n",
            " 19  RTD Latency                1021 non-null   object \n",
            "dtypes: float64(1), object(19)\n",
            "memory usage: 1.2+ MB\n"
          ]
        }
      ],
      "source": [
        "data.info()"
      ]
    },
    {
      "cell_type": "code",
      "execution_count": 938,
      "metadata": {
        "colab": {
          "base_uri": "https://localhost:8080/"
        },
        "id": "17MHWV0NT20u",
        "outputId": "c631bfc5-d9dc-4a88-9ad2-7c06812a4b6f"
      },
      "outputs": [
        {
          "name": "stdout",
          "output_type": "stream",
          "text": [
            "count       7817\n",
            "unique      2407\n",
            "top       No Bid\n",
            "freq        1308\n",
            "Name: MRC, dtype: object\n",
            "\n",
            "1308\n"
          ]
        }
      ],
      "source": [
        "print(data['MRC'].describe())\n",
        "print()\n",
        "no_bid_count = data[data['MRC'] == 'No Bid'].shape[0]\n",
        "print(no_bid_count)"
      ]
    },
    {
      "cell_type": "code",
      "execution_count": 939,
      "metadata": {
        "id": "BqoiUZwLwst0"
      },
      "outputs": [],
      "source": [
        "df = pd.read_csv('/Users/dhruv/Dhruv/Apcela/RFQ.csv')"
      ]
    },
    {
      "cell_type": "code",
      "execution_count": 940,
      "metadata": {
        "colab": {
          "base_uri": "https://localhost:8080/",
          "height": 458
        },
        "id": "hiJzoAQJTvgb",
        "outputId": "1528cd27-8b6c-4edb-d96c-4c049ad0d3f2"
      },
      "outputs": [
        {
          "data": {
            "text/plain": [
              "0       115000.0\n",
              "1        61250.0\n",
              "2        22500.0\n",
              "3         7500.0\n",
              "4       125000.0\n",
              "          ...   \n",
              "7826      1350.0\n",
              "7827      1225.0\n",
              "7828       795.0\n",
              "7829       777.0\n",
              "7830       769.0\n",
              "Name: MRC, Length: 6532, dtype: float64"
            ]
          },
          "execution_count": 940,
          "metadata": {},
          "output_type": "execute_result"
        }
      ],
      "source": [
        "# Filter rows where MRC is not \"No Bid\"\n",
        "filtered_df = df[df['MRC'] != 'No Bid'].copy()\n",
        "\n",
        "filtered_df['MRC'] = filtered_df['MRC'].str.replace(r'[\\$,]', '', regex=True)\n",
        "filtered_df['MRC'] = pd.to_numeric(filtered_df['MRC'], errors='coerce')\n",
        "filtered_df['MRC']"
      ]
    },
    {
      "cell_type": "code",
      "execution_count": 941,
      "metadata": {
        "colab": {
          "base_uri": "https://localhost:8080/",
          "height": 334
        },
        "id": "oylSj3DI1CLa",
        "outputId": "947cd2fd-fa6c-4faf-db48-56947023d21b"
      },
      "outputs": [
        {
          "data": {
            "text/plain": [
              "count      5316.000000\n",
              "mean       3479.738962\n",
              "std        7396.662780\n",
              "min          24.000000\n",
              "25%         950.000000\n",
              "50%        1536.000000\n",
              "75%        3049.250000\n",
              "max      125000.000000\n",
              "Name: MRC, dtype: float64"
            ]
          },
          "execution_count": 941,
          "metadata": {},
          "output_type": "execute_result"
        }
      ],
      "source": [
        "filtered_df['MRC'].describe()"
      ]
    },
    {
      "cell_type": "code",
      "execution_count": 942,
      "metadata": {},
      "outputs": [
        {
          "data": {
            "text/plain": [
              "6532"
            ]
          },
          "execution_count": 942,
          "metadata": {},
          "output_type": "execute_result"
        }
      ],
      "source": [
        "len(filtered_df['MRC'])"
      ]
    },
    {
      "cell_type": "code",
      "execution_count": 943,
      "metadata": {
        "colab": {
          "base_uri": "https://localhost:8080/"
        },
        "id": "6HgwGUl-293R",
        "outputId": "826a0fd4-111c-4f1e-ed03-85f8e6507c6f"
      },
      "outputs": [
        {
          "data": {
            "text/plain": [
              "335"
            ]
          },
          "execution_count": 943,
          "metadata": {},
          "output_type": "execute_result"
        }
      ],
      "source": [
        "mrc_greater_15000_count = filtered_df[filtered_df['MRC'] > 10000].shape[0]\n",
        "mrc_greater_15000_count"
      ]
    },
    {
      "cell_type": "code",
      "execution_count": 944,
      "metadata": {
        "colab": {
          "base_uri": "https://localhost:8080/",
          "height": 669
        },
        "id": "XlPUCQ-a0kkH",
        "outputId": "ef27984a-81ea-432f-aa72-755983d4aac4"
      },
      "outputs": [
        {
          "data": {
            "text/plain": [
              "count      5316.000000\n",
              "mean       3479.738962\n",
              "std        7396.662780\n",
              "min          24.000000\n",
              "25%         950.000000\n",
              "50%        1536.000000\n",
              "75%        3049.250000\n",
              "max      125000.000000\n",
              "Name: MRC, dtype: float64"
            ]
          },
          "execution_count": 944,
          "metadata": {},
          "output_type": "execute_result"
        }
      ],
      "source": [
        "filtered_df['MRC'].describe()"
      ]
    },
    {
      "cell_type": "code",
      "execution_count": null,
      "metadata": {
        "id": "JjlwJtxgXqS4"
      },
      "outputs": [],
      "source": []
    },
    {
      "cell_type": "code",
      "execution_count": 945,
      "metadata": {
        "colab": {
          "base_uri": "https://localhost:8080/"
        },
        "id": "3MjCtGG10JUx",
        "outputId": "e61680f9-8706-4cdd-8f1d-d140b671cd1b"
      },
      "outputs": [
        {
          "name": "stdout",
          "output_type": "stream",
          "text": [
            "138\n",
            "41\n",
            "105\n",
            "183\n",
            "\n",
            "243\n",
            "104\n",
            "99\n",
            "63\n"
          ]
        }
      ],
      "source": [
        "print(len(data['Provider'].unique()))\n",
        "print(len(data['Term'].unique()))\n",
        "print(len(data['Port Speed'].unique()))\n",
        "print(len(data['Cir Type'].unique()))\n",
        "print()\n",
        "print(len(data['A Loc City'].unique()))\n",
        "print(len(data['A Loc State'].unique()))\n",
        "print(len(data['Z Loc City'].unique()))\n",
        "print(len(data['Z Loc State'].unique()))"
      ]
    },
    {
      "cell_type": "code",
      "execution_count": 946,
      "metadata": {
        "colab": {
          "base_uri": "https://localhost:8080/",
          "height": 458
        },
        "id": "QfeF7_jp1kHU",
        "outputId": "b4244891-ab9b-410f-b910-25e07a0f2a43"
      },
      "outputs": [
        {
          "data": {
            "text/plain": [
              "0       115000.0\n",
              "1        61250.0\n",
              "2        22500.0\n",
              "3         7500.0\n",
              "4       125000.0\n",
              "          ...   \n",
              "7826      1350.0\n",
              "7827      1225.0\n",
              "7828       795.0\n",
              "7829       777.0\n",
              "7830       769.0\n",
              "Name: MRC, Length: 6532, dtype: float64"
            ]
          },
          "execution_count": 946,
          "metadata": {},
          "output_type": "execute_result"
        }
      ],
      "source": [
        "filter_state_data = df[df['MRC'] != 'No Bid'].copy()\n",
        "\n",
        "filter_state_data['MRC'] = filter_state_data['MRC'].str.replace(r'[\\$,]', '', regex=True)\n",
        "filter_state_data['MRC'] = pd.to_numeric(filter_state_data['MRC'], errors='coerce')\n",
        "filter_state_data['MRC']"
      ]
    },
    {
      "cell_type": "code",
      "execution_count": 947,
      "metadata": {
        "id": "pbT30EQTTt7b"
      },
      "outputs": [
        {
          "data": {
            "text/plain": [
              "Index(['Rec Num', 'RFQ', 'Date requested', 'Date Received', 'A Loc Address',\n",
              "       'A Loc City', 'A Loc State', 'A Loc Zip', 'Z Loc Address', 'Z Loc City',\n",
              "       'Z Loc State', 'Z Loc Zip', 'Cir Type', 'Port Speed', 'Term',\n",
              "       'Provider', 'A Loc Local Loop Provider', 'MRC', 'NRC', 'RTD Latency'],\n",
              "      dtype='object')"
            ]
          },
          "execution_count": 947,
          "metadata": {},
          "output_type": "execute_result"
        }
      ],
      "source": [
        "filter_state_data.columns"
      ]
    },
    {
      "cell_type": "code",
      "execution_count": 948,
      "metadata": {},
      "outputs": [
        {
          "data": {
            "text/html": [
              "<div>\n",
              "<style scoped>\n",
              "    .dataframe tbody tr th:only-of-type {\n",
              "        vertical-align: middle;\n",
              "    }\n",
              "\n",
              "    .dataframe tbody tr th {\n",
              "        vertical-align: top;\n",
              "    }\n",
              "\n",
              "    .dataframe thead th {\n",
              "        text-align: right;\n",
              "    }\n",
              "</style>\n",
              "<table border=\"1\" class=\"dataframe\">\n",
              "  <thead>\n",
              "    <tr style=\"text-align: right;\">\n",
              "      <th></th>\n",
              "      <th>Rec Num</th>\n",
              "      <th>MRC</th>\n",
              "    </tr>\n",
              "  </thead>\n",
              "  <tbody>\n",
              "    <tr>\n",
              "      <th>count</th>\n",
              "      <td>4981.000000</td>\n",
              "      <td>4981.000000</td>\n",
              "    </tr>\n",
              "    <tr>\n",
              "      <th>mean</th>\n",
              "      <td>9030.550521</td>\n",
              "      <td>2108.885569</td>\n",
              "    </tr>\n",
              "    <tr>\n",
              "      <th>std</th>\n",
              "      <td>2457.925967</td>\n",
              "      <td>1858.968328</td>\n",
              "    </tr>\n",
              "    <tr>\n",
              "      <th>min</th>\n",
              "      <td>4652.000000</td>\n",
              "      <td>24.000000</td>\n",
              "    </tr>\n",
              "    <tr>\n",
              "      <th>25%</th>\n",
              "      <td>6955.000000</td>\n",
              "      <td>910.000000</td>\n",
              "    </tr>\n",
              "    <tr>\n",
              "      <th>50%</th>\n",
              "      <td>9009.000000</td>\n",
              "      <td>1450.000000</td>\n",
              "    </tr>\n",
              "    <tr>\n",
              "      <th>75%</th>\n",
              "      <td>11216.000000</td>\n",
              "      <td>2618.000000</td>\n",
              "    </tr>\n",
              "    <tr>\n",
              "      <th>max</th>\n",
              "      <td>13306.000000</td>\n",
              "      <td>10000.000000</td>\n",
              "    </tr>\n",
              "  </tbody>\n",
              "</table>\n",
              "</div>"
            ],
            "text/plain": [
              "            Rec Num           MRC\n",
              "count   4981.000000   4981.000000\n",
              "mean    9030.550521   2108.885569\n",
              "std     2457.925967   1858.968328\n",
              "min     4652.000000     24.000000\n",
              "25%     6955.000000    910.000000\n",
              "50%     9009.000000   1450.000000\n",
              "75%    11216.000000   2618.000000\n",
              "max    13306.000000  10000.000000"
            ]
          },
          "execution_count": 948,
          "metadata": {},
          "output_type": "execute_result"
        }
      ],
      "source": [
        "filter_state_data = filter_state_data[filter_state_data['MRC'] <= 10000]\n",
        "filter_state_data.describe()"
      ]
    },
    {
      "cell_type": "code",
      "execution_count": 949,
      "metadata": {
        "id": "ib3xOhxETtvx"
      },
      "outputs": [
        {
          "name": "stdout",
          "output_type": "stream",
          "text": [
            "236\n"
          ]
        }
      ],
      "source": [
        "filter_state_data['A Loc City'] = filter_state_data['A Loc City'].str.lower()\n",
        "filter_state_data['A Loc State'] = filter_state_data['A Loc State'].str.lower()\n",
        "\n",
        "print(len(filter_state_data['A Loc City'].unique()))\n",
        "city_corrections = {\n",
        "    '2-4-1, marunouchi,chiyoda-ku tokyo': 'tokyo',\n",
        "    'cartaret': 'carteret',\n",
        "    'chicago ': 'chicago',\n",
        "    'frankfurt am main': 'frankfurt',\n",
        "    'hongkong': 'hong kong',\n",
        "    'kwai chung, nt': 'kwai chung',\n",
        "    'munchen': 'munich',\n",
        "    'new york city': 'new york',\n",
        "    'nan jing xi lu, jingan qu, shanghai shi': 'shanghai',\n",
        "    'pudong new area, shanghai': 'shanghai',\n",
        "    'yangpu district, shanghai': 'shanghai',\n",
        "    'rio de janerio': 'rio de janeiro',\n",
        "    'rio de janerio/rj': 'rio de janeiro',\n",
        "    'rmz ecoworld, campus 6b, 5th & part 6th floor (units 501 & 502 & 601)\\nsarjapur, marathalli outer ring road \\ndevarabeesanahalli village, varthur hobli\\nbangalore east taluk \\nbangalore – 560 103': 'bangalore',\n",
        "    'sao paolo': 'sao paulo',\n",
        "    'st. louis': 'st louis',\n",
        "    'washington ': 'washington'\n",
        "}\n",
        "filter_state_data['A Loc City'] = filter_state_data['A Loc City'].replace(city_corrections)\n",
        "\n"
      ]
    },
    {
      "cell_type": "code",
      "execution_count": 950,
      "metadata": {},
      "outputs": [
        {
          "data": {
            "text/plain": [
              "array(['nj', 'dc', 'va', 'uk', 'ks', 'tx', 'ga', 'il', 'mn', 'ny',\n",
              "       'germany', 'co', 'ct', 'oh', 'ca', 'south kensington', 'ireland',\n",
              "       'wa', 'hong kong', 'peru', nan, 'mexico', 'india', 'china',\n",
              "       'california', 'ontario', 'ky', 'russia', 'md', 'south africa',\n",
              "       'netherlands', 'japan', 'hk', 'france', 'swizterland', 'italy',\n",
              "       'sc', 'bangalore', 'ut', 'canada', 'pa', 'switzerland',\n",
              "       'london england', 'ciudad de mexico', 'uae', 'fl', 'pud - china',\n",
              "       'brasil', 'sweden', 'england', 'australia', 'alberta', 'nicaragua',\n",
              "       'honduras', 'quebec', 'brazil', 'ma', 'london', 'ok', 'switz.',\n",
              "       'kow', 'in', 'poland', 'ca ', 'czechia', 'id', 'new zealand',\n",
              "       'new york ', 'mi', 'tn', 'on', 'nsw-australia', 'united kingdom',\n",
              "       'cyprus', 'on, canada', ' ab,canada', 'nc', 'wi', 'az', 'or',\n",
              "       'united arab emirates', 'romania', 'qc', 'ab', 'spain', 'colombia',\n",
              "       'il ', 'nb', 'quebec-canada', 'lincolnshire',\n",
              "       'santa catarina (sc)', 'nsw', 'ontario - canada', 'mo',\n",
              "       'sp, brazil', 'beligium', 'pudong', 'taipei'], dtype=object)"
            ]
          },
          "execution_count": 950,
          "metadata": {},
          "output_type": "execute_result"
        }
      ],
      "source": [
        "filter_state_data['A Loc State'].unique()"
      ]
    },
    {
      "cell_type": "code",
      "execution_count": 951,
      "metadata": {},
      "outputs": [],
      "source": [
        "state_country_mapping = {\n",
        "    'nj': 'nj', 'dc': 'dc', 'va': 'va', 'ks': 'ks', 'tx': 'tx', 'ga': 'ga', 'il': 'il', 'mn': 'mn', \n",
        "    'ny': 'ny', 'co': 'co', 'ct': 'ct', 'oh': 'oh', 'ca': 'ca', 'wa': 'wa', 'sc': 'sc', 'ut': 'ut',\n",
        "    'pa': 'pa', 'fl': 'fl', 'ma': 'ma', 'ok': 'ok', 'mi': 'mi', 'tn': 'tn', 'nc': 'nc', 'wi': 'wi', \n",
        "    'az': 'az', 'or': 'or', 'mo': 'mo',\n",
        "    \n",
        "    'germany': 'germany', 'ireland': 'ireland', 'hong kong': 'hong kong', 'peru': 'peru',\n",
        "    'mexico': 'mexico', 'india': 'india', 'china': 'china', 'russia': 'russia', 'south africa': 'south africa',\n",
        "    'netherlands': 'netherlands', 'japan': 'japan', 'hk': 'hong kong', 'france': 'france', \n",
        "    'swizterland': 'switzerland', 'switzerland': 'switzerland', 'italy': 'italy', 'prc': 'china', \n",
        "    'canada': 'canada', 'london england': 'uk', 'uae': 'uae', 'ciudad de mexico': 'mexico', \n",
        "    'brasil': 'brazil', 'sweden': 'sweden', 'england': 'uk', 'australia': 'australia', \n",
        "    'alberta': 'canada', 'nicaragua': 'nicaragua', 'honduras': 'honduras', 'quebec': 'canada',\n",
        "    'brazil': 'brazil', 'london': 'uk', 'jamaica': 'jamaica', 'switz.': 'switzerland', 'kow': 'hong kong',\n",
        "    'in': 'india', 'poland': 'poland', 'czechia': 'czech republic', 'id': 'indonesia', \n",
        "    'new zealand': 'new zealand', 'united kingdom': 'uk', 'israel': 'israel', 'cyprus': 'cyprus', \n",
        "    'greece': 'greece', 'on, canada': 'canada', 'ab,canada': 'canada', 'united arab emirates': 'uae', \n",
        "    'romania': 'romania', 'qc': 'canada', 'ab': 'canada', 'spain': 'spain', 'colombia': 'colombia', \n",
        "    'nb': 'canada', 'quebec-canada': 'canada', 'lincolnshire': 'uk', 'santa catarina (sc)': 'brazil',\n",
        "    'ontario - canada': 'canada', 'sp, brazil': 'brazil', 'beligium': 'belgium', 'pudong': 'china',\n",
        "    'taipei': 'taiwan', 'bangalore':'india'\n",
        "}\n",
        "\n",
        "filter_state_data['A Loc State'] = filter_state_data['A Loc State'].str.strip().str.lower()\n",
        "filter_state_data['A Loc State'] = filter_state_data['A Loc State'].replace(state_country_mapping)\n"
      ]
    },
    {
      "cell_type": "code",
      "execution_count": 952,
      "metadata": {},
      "outputs": [
        {
          "data": {
            "text/plain": [
              "array(['nj', 'dc', 'va', 'uk', 'ks', 'tx', 'ga', 'il', 'mn', 'ny',\n",
              "       'germany', 'co', 'ct', 'oh', 'ca', 'south kensington', 'ireland',\n",
              "       'wa', 'hong kong', 'peru', nan, 'mexico', 'india', 'china',\n",
              "       'california', 'ontario', 'ky', 'russia', 'md', 'south africa',\n",
              "       'netherlands', 'japan', 'france', 'switzerland', 'italy', 'sc',\n",
              "       'ut', 'canada', 'pa', 'uae', 'fl', 'pud - china', 'brazil',\n",
              "       'sweden', 'australia', 'nicaragua', 'honduras', 'ma', 'ok',\n",
              "       'poland', 'czech republic', 'indonesia', 'new zealand', 'new york',\n",
              "       'mi', 'tn', 'on', 'nsw-australia', 'cyprus', 'nc', 'wi', 'az',\n",
              "       'or', 'romania', 'spain', 'colombia', 'nsw', 'mo', 'belgium',\n",
              "       'taiwan'], dtype=object)"
            ]
          },
          "execution_count": 952,
          "metadata": {},
          "output_type": "execute_result"
        }
      ],
      "source": [
        "filter_state_data['A Loc State'].unique()"
      ]
    },
    {
      "cell_type": "code",
      "execution_count": null,
      "metadata": {},
      "outputs": [],
      "source": []
    },
    {
      "cell_type": "code",
      "execution_count": null,
      "metadata": {},
      "outputs": [],
      "source": []
    },
    {
      "cell_type": "code",
      "execution_count": null,
      "metadata": {},
      "outputs": [],
      "source": []
    },
    {
      "cell_type": "code",
      "execution_count": 953,
      "metadata": {},
      "outputs": [],
      "source": [
        "import pandas as pd\n",
        "import numpy as np"
      ]
    },
    {
      "cell_type": "code",
      "execution_count": 954,
      "metadata": {
        "colab": {
          "base_uri": "https://localhost:8080/"
        },
        "id": "9cn7rMB76AfY",
        "outputId": "e1a2b072-33a5-47e9-b694-4538b15e728f"
      },
      "outputs": [
        {
          "data": {
            "text/plain": [
              "array(['36', '12', '24', '3 yr', '1 yr', '1 Yr', '2 Yr', '3 Yr', '3Yr',\n",
              "       '1yr', '2yr', '2Yr', '12 mo', '36 mo', 'MTM', '36 month',\n",
              "       '36 months', '24 Mos', '12 Mo', '12 Month', '36 Month', '12 Mo.',\n",
              "       '36 Mo. ', '28', 'co-term', '60', '24 Month', '25', '18',\n",
              "       '12 month', '10G', '1G', 'Co-Term', '12, 24, 36', 'Co-terminous',\n",
              "       'Coterminous', '13'], dtype=object)"
            ]
          },
          "execution_count": 954,
          "metadata": {},
          "output_type": "execute_result"
        }
      ],
      "source": [
        "#Let us start by cleaning 'Term'\n",
        "\n",
        "filter_state_data['Term'].unique()"
      ]
    },
    {
      "cell_type": "code",
      "execution_count": 955,
      "metadata": {
        "id": "eAU4doRD3Gu3"
      },
      "outputs": [],
      "source": [
        "# filter_state_data"
      ]
    },
    {
      "cell_type": "code",
      "execution_count": 956,
      "metadata": {
        "colab": {
          "base_uri": "https://localhost:8080/"
        },
        "id": "sZEkRF5L6Uqy",
        "outputId": "bf2c05a2-d331-45ea-e491-91fbe42f6562"
      },
      "outputs": [
        {
          "name": "stdout",
          "output_type": "stream",
          "text": [
            "['36' '12' '24' '28' '60' '25' '18' '13']\n"
          ]
        }
      ],
      "source": [
        "def clean_term(term):\n",
        "    term = str(term).strip().lower()\n",
        "\n",
        "    if 'mtm' in term:\n",
        "        return '12'\n",
        "    elif 'co-term' in term or 'coterminous' in term:\n",
        "        return '12'\n",
        "    elif 'yr' in term or 'year' in term:\n",
        "        parts = term.split()\n",
        "        return str(int(parts[0]) * 12) if parts[0].isdigit() else '12'\n",
        "    elif 'mo' in term or 'month' in term:\n",
        "        return ''.join(filter(str.isdigit, term))\n",
        "    elif term.isdigit():\n",
        "        return term\n",
        "    elif ',' in term:\n",
        "        return term.split(',')[0].strip()\n",
        "\n",
        "    return '12'\n",
        "\n",
        "\n",
        "\n",
        "filter_state_data['Term_Cleaned'] = filter_state_data['Term'].apply(clean_term)\n",
        "\n",
        "print(filter_state_data['Term_Cleaned'].unique())\n"
      ]
    },
    {
      "cell_type": "code",
      "execution_count": 957,
      "metadata": {
        "colab": {
          "base_uri": "https://localhost:8080/"
        },
        "id": "u4_Jq4SjWWJE",
        "outputId": "5ca65fd1-bf48-47e3-93f4-065e7d25cc7e"
      },
      "outputs": [
        {
          "name": "stdout",
          "output_type": "stream",
          "text": [
            "<class 'pandas.core.series.Series'>\n",
            "Index: 4981 entries, 3 to 7830\n",
            "Series name: Term_Cleaned\n",
            "Non-Null Count  Dtype \n",
            "--------------  ----- \n",
            "4981 non-null   object\n",
            "dtypes: object(1)\n",
            "memory usage: 77.8+ KB\n"
          ]
        }
      ],
      "source": [
        "filter_state_data['Term_Cleaned'].info()"
      ]
    },
    {
      "cell_type": "code",
      "execution_count": 958,
      "metadata": {
        "colab": {
          "base_uri": "https://localhost:8080/",
          "height": 607
        },
        "id": "4dpvpoSd77aQ",
        "outputId": "391f3511-d273-45fc-e9ac-17950f43166a"
      },
      "outputs": [
        {
          "data": {
            "image/png": "[encoded data removed]",
            "text/plain": [
              "<Figure size 864x432 with 1 Axes>"
            ]
          },
          "metadata": {
            "needs_background": "light"
          },
          "output_type": "display_data"
        }
      ],
      "source": [
        "clean_term_avg = filter_state_data.groupby('Term_Cleaned')['MRC'].mean().sort_values()\n",
        "\n",
        "\n",
        "plt.figure(figsize=(12, 6))\n",
        "clean_term_avg.plot(kind='bar', color='blue', alpha=0.7)\n",
        "plt.title('Average MRC by Cleaned Term')\n",
        "plt.xlabel('Cleaned Term')\n",
        "plt.ylabel('Average MRC')\n",
        "plt.xticks(rotation=90)\n",
        "plt.tight_layout()\n",
        "plt.show()"
      ]
    },
    {
      "cell_type": "code",
      "execution_count": null,
      "metadata": {
        "id": "1SvzZsTvWaLJ"
      },
      "outputs": [],
      "source": []
    },
    {
      "cell_type": "code",
      "execution_count": null,
      "metadata": {
        "id": "DhLqEPgMWZ7S"
      },
      "outputs": [],
      "source": []
    },
    {
      "cell_type": "code",
      "execution_count": 959,
      "metadata": {
        "id": "R6br02EbGmbr"
      },
      "outputs": [],
      "source": [
        "# filter_state_data['Average_ppm'] = filter_state_data['MRC'] / filter_state_data['Term_Cleaned'].astype(float)"
      ]
    },
    {
      "cell_type": "code",
      "execution_count": 960,
      "metadata": {
        "colab": {
          "base_uri": "https://localhost:8080/"
        },
        "id": "cptC04cnHqqD",
        "outputId": "ab79075f-a63d-4688-df51-c8bac85474c4"
      },
      "outputs": [],
      "source": [
        "# print(cleaned_term_avg[100:120])"
      ]
    },
    {
      "cell_type": "code",
      "execution_count": 961,
      "metadata": {
        "colab": {
          "base_uri": "https://localhost:8080/",
          "height": 790
        },
        "collapsed": true,
        "id": "O_WsT1SoWmEx",
        "outputId": "a41cc8a0-df0c-42fd-ae34-74eddcd191e5"
      },
      "outputs": [],
      "source": [
        "# filter_state_data[filter_state_data['Average_ppm'].isna()]"
      ]
    },
    {
      "cell_type": "code",
      "execution_count": 962,
      "metadata": {},
      "outputs": [
        {
          "data": {
            "text/plain": [
              "array(['100G', '1G', '5Mb', '10Mb', '20mB', '200Mb', '10G', '2.5G', '500',\n",
              "       '100', '1000', '600', '100Mb', '100 Mbps', '20', '50', '100M',\n",
              "       '40M', '60M', 'DF', '250Mb', '10G Wave', '200', '20M', '80M', '2G',\n",
              "       '400 Mbps', '2G ', '100 Mbs', '50Mb', '10G ', '1G Protected',\n",
              "       '10G Protected', ' 10G', '10G Unprotected', '60', '80', '40G',\n",
              "       '200M', '50Mbps', '300M', '250M', '400M', '500Mb', '10M', '50M',\n",
              "       '100/25', '500M', '300', '250Mbps', '300Mbps', '500Mbps', '1000M',\n",
              "       '300Mb', '1G Wave', '100/100', '300/300', '150/25', '100Mbs',\n",
              "       '300Mbs', '80mb', nan, '100/20', '150/20', '1000/200', '1000/100',\n",
              "       '250', '3Mb', '1G Protected (MPLS)', '1G P2P LL', '5G', '2.5',\n",
              "       'P2P evpl', '10', '20Mb', '10Mb (20M quoted)', '10M ', '100Mbps',\n",
              "       '10Mbps', '10 Mbps', '100mps', '1G CIR', '2G CIR ', '10G CIR',\n",
              "       '10G CIR ', '45M', '500/500', '200/200', '1000Mb', '1G ',\n",
              "       '1G not 50Mb', '12', '24', '50mb', '1G or 10G', '10Gb', '150M',\n",
              "       '40G '], dtype=object)"
            ]
          },
          "execution_count": 962,
          "metadata": {},
          "output_type": "execute_result"
        }
      ],
      "source": [
        "filter_state_data['Port Speed'].unique()"
      ]
    },
    {
      "cell_type": "code",
      "execution_count": 963,
      "metadata": {
        "colab": {
          "base_uri": "https://localhost:8080/",
          "height": 458
        },
        "id": "0pkpOZzvG9i8",
        "outputId": "a93dde61-3125-44e7-837b-d17bcd1eb727"
      },
      "outputs": [
        {
          "data": {
            "text/plain": [
              "3       100000.0\n",
              "7       100000.0\n",
              "8       100000.0\n",
              "9       100000.0\n",
              "12      100000.0\n",
              "          ...   \n",
              "7826      1000.0\n",
              "7827      1000.0\n",
              "7828      1000.0\n",
              "7829      1000.0\n",
              "7830      1000.0\n",
              "Name: Port_Speed_Mbps, Length: 4981, dtype: float64"
            ]
          },
          "execution_count": 963,
          "metadata": {},
          "output_type": "execute_result"
        }
      ],
      "source": [
        "import re\n",
        "\n",
        "def clean_port_speed(value):\n",
        "    if pd.isna(value):\n",
        "        return None\n",
        "\n",
        "    value = value.strip().lower()\n",
        "\n",
        "\n",
        "    numbers = [float(n) for n in re.findall(r\"[\\d\\.]+\", value)]\n",
        "\n",
        "    if not numbers:\n",
        "        return None\n",
        "\n",
        "    max_value = max(numbers)\n",
        "\n",
        "\n",
        "    if \"g\" in value:\n",
        "        max_value *= 1000\n",
        "\n",
        "    return int(max_value)\n",
        "\n",
        "\n",
        "data = pd.DataFrame({'Port Speed': [\n",
        "    '100G', '1G', '5Mb', '10Mb', '20mB', '200Mb', '10G', '2.5G', '500',\n",
        "    '100', '1000', '600', '100Mb', '100 Mbps', '20', '50', '100M',\n",
        "    '100/25', '500/500', '1000/100', '1G Protected', '10G Wave', '10M',\n",
        "    '100 Mbps', '10 Mbps', '1G CIR', '1G not 50Mb', 'P2P evpl', '10Gb'\n",
        "]})\n",
        "\n",
        "filter_state_data['Port_Speed_Mbps'] = filter_state_data['Port Speed'].apply(clean_port_speed)\n",
        "\n",
        "\n",
        "filter_state_data['Port_Speed_Mbps']\n"
      ]
    },
    {
      "cell_type": "code",
      "execution_count": 964,
      "metadata": {
        "colab": {
          "base_uri": "https://localhost:8080/"
        },
        "id": "gSJWMwlLUO9X",
        "outputId": "52111033-3ad4-41fc-8ea7-fd02760beccb"
      },
      "outputs": [
        {
          "data": {
            "text/plain": [
              "array([1.0e+05, 1.0e+03, 5.0e+00, 1.0e+01, 2.0e+01, 2.0e+02, 1.0e+04,\n",
              "       2.5e+03, 5.0e+02, 1.0e+02, 6.0e+02, 5.0e+01, 4.0e+01, 6.0e+01,\n",
              "           nan, 2.5e+02, 8.0e+01, 2.0e+03, 4.0e+02, 4.0e+04, 3.0e+02,\n",
              "       1.5e+02, 3.0e+00, 5.0e+03, 2.0e+00, 4.5e+01, 5.0e+04, 1.2e+01,\n",
              "       2.4e+01])"
            ]
          },
          "execution_count": 964,
          "metadata": {},
          "output_type": "execute_result"
        }
      ],
      "source": [
        "filter_state_data['Port_Speed_Mbps'].unique()"
      ]
    },
    {
      "cell_type": "code",
      "execution_count": 965,
      "metadata": {
        "id": "iW1QWmwiZm86"
      },
      "outputs": [],
      "source": [
        "overall_median_speed = filter_state_data['Port_Speed_Mbps'].median()\n",
        "filter_state_data['Port_Speed_Mbps'].fillna(overall_median_speed, inplace=True)\n"
      ]
    },
    {
      "cell_type": "code",
      "execution_count": 966,
      "metadata": {
        "colab": {
          "base_uri": "https://localhost:8080/",
          "height": 738
        },
        "id": "IC7PcvU43iO7",
        "outputId": "224793d6-870f-41b9-ddca-3f4e04e92e9e"
      },
      "outputs": [],
      "source": [
        "filter_state_data[\"row_id\"] = filter_state_data.index"
      ]
    },
    {
      "cell_type": "code",
      "execution_count": 967,
      "metadata": {},
      "outputs": [
        {
          "name": "stdout",
          "output_type": "stream",
          "text": [
            "<class 'pandas.core.frame.DataFrame'>\n",
            "Index: 4981 entries, 3 to 7830\n",
            "Data columns (total 23 columns):\n",
            " #   Column                     Non-Null Count  Dtype  \n",
            "---  ------                     --------------  -----  \n",
            " 0   Rec Num                    4981 non-null   float64\n",
            " 1   RFQ                        4981 non-null   object \n",
            " 2   Date requested             4947 non-null   object \n",
            " 3   Date Received              4524 non-null   object \n",
            " 4   A Loc Address              4946 non-null   object \n",
            " 5   A Loc City                 4874 non-null   object \n",
            " 6   A Loc State                4832 non-null   object \n",
            " 7   A Loc Zip                  3912 non-null   object \n",
            " 8   Z Loc Address              4365 non-null   object \n",
            " 9   Z Loc City                 4278 non-null   object \n",
            " 10  Z Loc State                4224 non-null   object \n",
            " 11  Z Loc Zip                  3255 non-null   object \n",
            " 12  Cir Type                   4976 non-null   object \n",
            " 13  Port Speed                 4768 non-null   object \n",
            " 14  Term                       4981 non-null   object \n",
            " 15  Provider                   4981 non-null   object \n",
            " 16  A Loc Local Loop Provider  1378 non-null   object \n",
            " 17  MRC                        4981 non-null   float64\n",
            " 18  NRC                        4615 non-null   object \n",
            " 19  RTD Latency                889 non-null    object \n",
            " 20  Term_Cleaned               4981 non-null   object \n",
            " 21  Port_Speed_Mbps            4981 non-null   float64\n",
            " 22  row_id                     4981 non-null   int64  \n",
            "dtypes: float64(3), int64(1), object(19)\n",
            "memory usage: 933.9+ KB\n"
          ]
        }
      ],
      "source": [
        "filter_state_data.info()"
      ]
    },
    {
      "cell_type": "code",
      "execution_count": 968,
      "metadata": {},
      "outputs": [],
      "source": [
        "# filter_state_data['price_per_mbps'] = "
      ]
    },
    {
      "cell_type": "code",
      "execution_count": 969,
      "metadata": {},
      "outputs": [],
      "source": [
        "import pandas as pd\n",
        "import re\n",
        "\n",
        "class_conditions = {\n",
        "    \"Broadband\": [\"broadband\"],  \n",
        "    \"DarkFiber\": [\"DF\", \"dark fiber\"],  \n",
        "    \"DIA\": [\"DIA\"],  \n",
        "    \"EVPL\": [\"EVPL\", \"Epath\"],  \n",
        "    \"EPL\": [\"EPL\", \"EPLS\", \"Ethernet\"],  \n",
        "    \"Wavelength\": [\"Wave\"],  \n",
        "    \"Microwave\": [\"Microwave\"],  \n",
        "    \"MPLS\": [\"MPLS\"]  \n",
        "}\n",
        "\n",
        "def classify_text(text):\n",
        "    if not isinstance(text, str):\n",
        "        return \"None\"\n",
        "    \n",
        "    text = text.strip().lower()\n",
        "\n",
        "    if re.match(r'^(epl|epls|ethernet)\\b', text):\n",
        "        return \"EPL\"\n",
        "    \n",
        "    if re.match(r'^wave\\b', text):\n",
        "        return \"Wavelength\"\n",
        "    \n",
        "    if re.match(r'^eline\\b', text):\n",
        "        return \"E_Line\"\n",
        "\n",
        "    if \"new wave/epl\" in text:\n",
        "        return \"Wavelength\"\n",
        "\n",
        "    if \"protected epl/wave\" in text:\n",
        "        return \"EPL\"\n",
        "\n",
        "    if \"mpls ethernet\" in text:\n",
        "        return \"MPLS\"\n",
        "\n",
        "    if text == \"1g broadband (quoted dia)\":\n",
        "        return \"DIA\"\n",
        "\n",
        "    classes = set()\n",
        "    for class_name, keywords in class_conditions.items():\n",
        "        if any(re.search(rf'\\b{kw.lower()}\\b', text) for kw in keywords):\n",
        "            classes.add(class_name)\n",
        "\n",
        "    return ', '.join(sorted(classes)) if classes else \"None\"\n",
        "\n",
        "filter_state_data['generalized_Cir'] = filter_state_data['Cir Type'].apply(classify_text)\n",
        "\n",
        "# print(filter_state_data[['Cir Type', 'generalized_Cir']].head(20))\n"
      ]
    },
    {
      "cell_type": "code",
      "execution_count": 970,
      "metadata": {},
      "outputs": [
        {
          "data": {
            "text/plain": [
              "array(['None', 'Wavelength', 'EVPL', 'EPL', 'DIA', 'Broadband',\n",
              "       'DarkFiber', 'E_Line', 'MPLS', 'Microwave'], dtype=object)"
            ]
          },
          "execution_count": 970,
          "metadata": {},
          "output_type": "execute_result"
        }
      ],
      "source": [
        "filter_state_data['generalized_Cir'].unique()"
      ]
    },
    {
      "cell_type": "code",
      "execution_count": 971,
      "metadata": {},
      "outputs": [
        {
          "data": {
            "text/html": [
              "<div>\n",
              "<style scoped>\n",
              "    .dataframe tbody tr th:only-of-type {\n",
              "        vertical-align: middle;\n",
              "    }\n",
              "\n",
              "    .dataframe tbody tr th {\n",
              "        vertical-align: top;\n",
              "    }\n",
              "\n",
              "    .dataframe thead th {\n",
              "        text-align: right;\n",
              "    }\n",
              "</style>\n",
              "<table border=\"1\" class=\"dataframe\">\n",
              "  <thead>\n",
              "    <tr style=\"text-align: right;\">\n",
              "      <th></th>\n",
              "      <th>Rec Num</th>\n",
              "      <th>RFQ</th>\n",
              "      <th>Date requested</th>\n",
              "      <th>Date Received</th>\n",
              "      <th>A Loc Address</th>\n",
              "      <th>A Loc City</th>\n",
              "      <th>A Loc State</th>\n",
              "      <th>A Loc Zip</th>\n",
              "      <th>Z Loc Address</th>\n",
              "      <th>Z Loc City</th>\n",
              "      <th>...</th>\n",
              "      <th>Term</th>\n",
              "      <th>Provider</th>\n",
              "      <th>A Loc Local Loop Provider</th>\n",
              "      <th>MRC</th>\n",
              "      <th>NRC</th>\n",
              "      <th>RTD Latency</th>\n",
              "      <th>Term_Cleaned</th>\n",
              "      <th>Port_Speed_Mbps</th>\n",
              "      <th>row_id</th>\n",
              "      <th>generalized_Cir</th>\n",
              "    </tr>\n",
              "  </thead>\n",
              "  <tbody>\n",
              "    <tr>\n",
              "      <th>104</th>\n",
              "      <td>4814.0</td>\n",
              "      <td>RFQ-247</td>\n",
              "      <td>4/10/2019</td>\n",
              "      <td>4/10/2019</td>\n",
              "      <td>3455 Peachtree Road</td>\n",
              "      <td>atlanta</td>\n",
              "      <td>ga</td>\n",
              "      <td>30326</td>\n",
              "      <td>NaN</td>\n",
              "      <td>NaN</td>\n",
              "      <td>...</td>\n",
              "      <td>36</td>\n",
              "      <td>Verizon</td>\n",
              "      <td>NaN</td>\n",
              "      <td>450.0</td>\n",
              "      <td>$0</td>\n",
              "      <td>NaN</td>\n",
              "      <td>36</td>\n",
              "      <td>100.0</td>\n",
              "      <td>104</td>\n",
              "      <td>DIA</td>\n",
              "    </tr>\n",
              "    <tr>\n",
              "      <th>105</th>\n",
              "      <td>4815.0</td>\n",
              "      <td>RFQ-247</td>\n",
              "      <td>4/10/2019</td>\n",
              "      <td>4/10/2019</td>\n",
              "      <td>205 N. Michigan Avenue</td>\n",
              "      <td>chicago</td>\n",
              "      <td>il</td>\n",
              "      <td>60601</td>\n",
              "      <td>NaN</td>\n",
              "      <td>NaN</td>\n",
              "      <td>...</td>\n",
              "      <td>36</td>\n",
              "      <td>Verizon</td>\n",
              "      <td>NaN</td>\n",
              "      <td>450.0</td>\n",
              "      <td>$0</td>\n",
              "      <td>NaN</td>\n",
              "      <td>36</td>\n",
              "      <td>100.0</td>\n",
              "      <td>105</td>\n",
              "      <td>DIA</td>\n",
              "    </tr>\n",
              "    <tr>\n",
              "      <th>106</th>\n",
              "      <td>4816.0</td>\n",
              "      <td>RFQ-247</td>\n",
              "      <td>4/10/2019</td>\n",
              "      <td>4/10/2019</td>\n",
              "      <td>150 South Fifth Street</td>\n",
              "      <td>minneapolis</td>\n",
              "      <td>mn</td>\n",
              "      <td>55402</td>\n",
              "      <td>NaN</td>\n",
              "      <td>NaN</td>\n",
              "      <td>...</td>\n",
              "      <td>36</td>\n",
              "      <td>Verizon</td>\n",
              "      <td>NaN</td>\n",
              "      <td>1845.0</td>\n",
              "      <td>$0</td>\n",
              "      <td>NaN</td>\n",
              "      <td>36</td>\n",
              "      <td>100.0</td>\n",
              "      <td>106</td>\n",
              "      <td>DIA</td>\n",
              "    </tr>\n",
              "    <tr>\n",
              "      <th>107</th>\n",
              "      <td>4817.0</td>\n",
              "      <td>RFQ-247</td>\n",
              "      <td>4/10/2019</td>\n",
              "      <td>4/10/2019</td>\n",
              "      <td>3455 Peachtree Road</td>\n",
              "      <td>atlanta</td>\n",
              "      <td>ga</td>\n",
              "      <td>30326</td>\n",
              "      <td>NaN</td>\n",
              "      <td>NaN</td>\n",
              "      <td>...</td>\n",
              "      <td>36</td>\n",
              "      <td>AT&amp;T</td>\n",
              "      <td>NaN</td>\n",
              "      <td>842.0</td>\n",
              "      <td>NaN</td>\n",
              "      <td>NaN</td>\n",
              "      <td>36</td>\n",
              "      <td>100.0</td>\n",
              "      <td>107</td>\n",
              "      <td>DIA</td>\n",
              "    </tr>\n",
              "    <tr>\n",
              "      <th>108</th>\n",
              "      <td>4818.0</td>\n",
              "      <td>RFQ-247</td>\n",
              "      <td>4/10/2019</td>\n",
              "      <td>4/10/2019</td>\n",
              "      <td>205 N. Michigan Avenue</td>\n",
              "      <td>chicago</td>\n",
              "      <td>il</td>\n",
              "      <td>60601</td>\n",
              "      <td>NaN</td>\n",
              "      <td>NaN</td>\n",
              "      <td>...</td>\n",
              "      <td>36</td>\n",
              "      <td>AT&amp;T</td>\n",
              "      <td>NaN</td>\n",
              "      <td>842.0</td>\n",
              "      <td>NaN</td>\n",
              "      <td>NaN</td>\n",
              "      <td>36</td>\n",
              "      <td>100.0</td>\n",
              "      <td>108</td>\n",
              "      <td>DIA</td>\n",
              "    </tr>\n",
              "    <tr>\n",
              "      <th>...</th>\n",
              "      <td>...</td>\n",
              "      <td>...</td>\n",
              "      <td>...</td>\n",
              "      <td>...</td>\n",
              "      <td>...</td>\n",
              "      <td>...</td>\n",
              "      <td>...</td>\n",
              "      <td>...</td>\n",
              "      <td>...</td>\n",
              "      <td>...</td>\n",
              "      <td>...</td>\n",
              "      <td>...</td>\n",
              "      <td>...</td>\n",
              "      <td>...</td>\n",
              "      <td>...</td>\n",
              "      <td>...</td>\n",
              "      <td>...</td>\n",
              "      <td>...</td>\n",
              "      <td>...</td>\n",
              "      <td>...</td>\n",
              "      <td>...</td>\n",
              "    </tr>\n",
              "    <tr>\n",
              "      <th>7593</th>\n",
              "      <td>13013.0</td>\n",
              "      <td>RFQ-622</td>\n",
              "      <td>12/13/2023</td>\n",
              "      <td>12/14/2023</td>\n",
              "      <td>626 Wilshire Blvd</td>\n",
              "      <td>los angeles</td>\n",
              "      <td>ca</td>\n",
              "      <td>90017</td>\n",
              "      <td>NaN</td>\n",
              "      <td>NaN</td>\n",
              "      <td>...</td>\n",
              "      <td>36</td>\n",
              "      <td>Spectrum</td>\n",
              "      <td>Spectrum</td>\n",
              "      <td>1499.0</td>\n",
              "      <td>$250</td>\n",
              "      <td>45 ms</td>\n",
              "      <td>36</td>\n",
              "      <td>1000.0</td>\n",
              "      <td>7593</td>\n",
              "      <td>DIA</td>\n",
              "    </tr>\n",
              "    <tr>\n",
              "      <th>7594</th>\n",
              "      <td>13014.0</td>\n",
              "      <td>RFQ-622</td>\n",
              "      <td>12/13/2023</td>\n",
              "      <td>12/14/2023</td>\n",
              "      <td>1888 S Century Park E</td>\n",
              "      <td>los angeles</td>\n",
              "      <td>ca</td>\n",
              "      <td>90067</td>\n",
              "      <td>NaN</td>\n",
              "      <td>NaN</td>\n",
              "      <td>...</td>\n",
              "      <td>36</td>\n",
              "      <td>Spectrum</td>\n",
              "      <td>Spectrum</td>\n",
              "      <td>999.0</td>\n",
              "      <td>$250</td>\n",
              "      <td>45 ms</td>\n",
              "      <td>36</td>\n",
              "      <td>1000.0</td>\n",
              "      <td>7594</td>\n",
              "      <td>DIA</td>\n",
              "    </tr>\n",
              "    <tr>\n",
              "      <th>7595</th>\n",
              "      <td>13015.0</td>\n",
              "      <td>RFQ-622</td>\n",
              "      <td>12/13/2023</td>\n",
              "      <td>12/21/2023</td>\n",
              "      <td>18 King St East</td>\n",
              "      <td>toronto</td>\n",
              "      <td>on</td>\n",
              "      <td>M5C 1C4</td>\n",
              "      <td>NaN</td>\n",
              "      <td>NaN</td>\n",
              "      <td>...</td>\n",
              "      <td>36</td>\n",
              "      <td>BCE</td>\n",
              "      <td>BCE</td>\n",
              "      <td>459.0</td>\n",
              "      <td>$0</td>\n",
              "      <td>NaN</td>\n",
              "      <td>36</td>\n",
              "      <td>1000.0</td>\n",
              "      <td>7595</td>\n",
              "      <td>DIA</td>\n",
              "    </tr>\n",
              "    <tr>\n",
              "      <th>7596</th>\n",
              "      <td>13016.0</td>\n",
              "      <td>RFQ-622</td>\n",
              "      <td>12/13/2023</td>\n",
              "      <td>12/18/2023</td>\n",
              "      <td>18 King St East</td>\n",
              "      <td>toronto</td>\n",
              "      <td>on</td>\n",
              "      <td>M5C 1C4</td>\n",
              "      <td>NaN</td>\n",
              "      <td>NaN</td>\n",
              "      <td>...</td>\n",
              "      <td>36</td>\n",
              "      <td>Shaw/Rogers</td>\n",
              "      <td>Beanfield</td>\n",
              "      <td>650.0</td>\n",
              "      <td>$500</td>\n",
              "      <td>NaN</td>\n",
              "      <td>36</td>\n",
              "      <td>1000.0</td>\n",
              "      <td>7596</td>\n",
              "      <td>DIA</td>\n",
              "    </tr>\n",
              "    <tr>\n",
              "      <th>7597</th>\n",
              "      <td>13017.0</td>\n",
              "      <td>RFQ-622</td>\n",
              "      <td>12/22/2023</td>\n",
              "      <td>12/22/2023</td>\n",
              "      <td>18 King St East</td>\n",
              "      <td>toronto</td>\n",
              "      <td>on</td>\n",
              "      <td>M5C 1C4</td>\n",
              "      <td>NaN</td>\n",
              "      <td>NaN</td>\n",
              "      <td>...</td>\n",
              "      <td>36</td>\n",
              "      <td>Beanfield</td>\n",
              "      <td>Beanfield</td>\n",
              "      <td>332.0</td>\n",
              "      <td>$0</td>\n",
              "      <td>5 ms</td>\n",
              "      <td>36</td>\n",
              "      <td>1000.0</td>\n",
              "      <td>7597</td>\n",
              "      <td>DIA</td>\n",
              "    </tr>\n",
              "  </tbody>\n",
              "</table>\n",
              "<p>562 rows × 24 columns</p>\n",
              "</div>"
            ],
            "text/plain": [
              "      Rec Num      RFQ Date requested Date Received           A Loc Address  \\\n",
              "104    4814.0  RFQ-247      4/10/2019     4/10/2019     3455 Peachtree Road   \n",
              "105    4815.0  RFQ-247      4/10/2019     4/10/2019  205 N. Michigan Avenue   \n",
              "106    4816.0  RFQ-247      4/10/2019     4/10/2019  150 South Fifth Street   \n",
              "107    4817.0  RFQ-247      4/10/2019     4/10/2019     3455 Peachtree Road   \n",
              "108    4818.0  RFQ-247      4/10/2019     4/10/2019  205 N. Michigan Avenue   \n",
              "...       ...      ...            ...           ...                     ...   \n",
              "7593  13013.0  RFQ-622     12/13/2023    12/14/2023       626 Wilshire Blvd   \n",
              "7594  13014.0  RFQ-622     12/13/2023    12/14/2023   1888 S Century Park E   \n",
              "7595  13015.0  RFQ-622     12/13/2023    12/21/2023         18 King St East   \n",
              "7596  13016.0  RFQ-622     12/13/2023    12/18/2023         18 King St East   \n",
              "7597  13017.0  RFQ-622     12/22/2023    12/22/2023         18 King St East   \n",
              "\n",
              "       A Loc City A Loc State A Loc Zip Z Loc Address Z Loc City  ... Term  \\\n",
              "104       atlanta          ga     30326           NaN        NaN  ...   36   \n",
              "105       chicago          il     60601           NaN        NaN  ...   36   \n",
              "106   minneapolis          mn     55402           NaN        NaN  ...   36   \n",
              "107       atlanta          ga     30326           NaN        NaN  ...   36   \n",
              "108       chicago          il     60601           NaN        NaN  ...   36   \n",
              "...           ...         ...       ...           ...        ...  ...  ...   \n",
              "7593  los angeles          ca     90017           NaN        NaN  ...   36   \n",
              "7594  los angeles          ca     90067           NaN        NaN  ...   36   \n",
              "7595      toronto          on   M5C 1C4           NaN        NaN  ...   36   \n",
              "7596      toronto          on   M5C 1C4           NaN        NaN  ...   36   \n",
              "7597      toronto          on   M5C 1C4           NaN        NaN  ...   36   \n",
              "\n",
              "         Provider A Loc Local Loop Provider     MRC   NRC RTD Latency  \\\n",
              "104       Verizon                       NaN   450.0    $0         NaN   \n",
              "105       Verizon                       NaN   450.0    $0         NaN   \n",
              "106       Verizon                       NaN  1845.0    $0         NaN   \n",
              "107          AT&T                       NaN   842.0   NaN         NaN   \n",
              "108          AT&T                       NaN   842.0   NaN         NaN   \n",
              "...           ...                       ...     ...   ...         ...   \n",
              "7593     Spectrum                  Spectrum  1499.0  $250       45 ms   \n",
              "7594     Spectrum                  Spectrum   999.0  $250       45 ms   \n",
              "7595          BCE                       BCE   459.0    $0         NaN   \n",
              "7596  Shaw/Rogers                 Beanfield   650.0  $500         NaN   \n",
              "7597    Beanfield                 Beanfield   332.0    $0        5 ms   \n",
              "\n",
              "     Term_Cleaned  Port_Speed_Mbps row_id generalized_Cir  \n",
              "104            36            100.0    104             DIA  \n",
              "105            36            100.0    105             DIA  \n",
              "106            36            100.0    106             DIA  \n",
              "107            36            100.0    107             DIA  \n",
              "108            36            100.0    108             DIA  \n",
              "...           ...              ...    ...             ...  \n",
              "7593           36           1000.0   7593             DIA  \n",
              "7594           36           1000.0   7594             DIA  \n",
              "7595           36           1000.0   7595             DIA  \n",
              "7596           36           1000.0   7596             DIA  \n",
              "7597           36           1000.0   7597             DIA  \n",
              "\n",
              "[562 rows x 24 columns]"
            ]
          },
          "execution_count": 971,
          "metadata": {},
          "output_type": "execute_result"
        }
      ],
      "source": [
        "filter_state_data[filter_state_data['generalized_Cir']=='DIA']"
      ]
    },
    {
      "cell_type": "code",
      "execution_count": 972,
      "metadata": {
        "colab": {
          "base_uri": "https://localhost:8080/",
          "height": 423
        },
        "id": "LmXGJtywZq1V",
        "outputId": "3925021b-759a-41da-be1b-cbc46bbf33b4"
      },
      "outputs": [
        {
          "data": {
            "text/html": [
              "<div>\n",
              "<style scoped>\n",
              "    .dataframe tbody tr th:only-of-type {\n",
              "        vertical-align: middle;\n",
              "    }\n",
              "\n",
              "    .dataframe tbody tr th {\n",
              "        vertical-align: top;\n",
              "    }\n",
              "\n",
              "    .dataframe thead th {\n",
              "        text-align: right;\n",
              "    }\n",
              "</style>\n",
              "<table border=\"1\" class=\"dataframe\">\n",
              "  <thead>\n",
              "    <tr style=\"text-align: right;\">\n",
              "      <th></th>\n",
              "      <th>Rec Num</th>\n",
              "      <th>RFQ</th>\n",
              "      <th>Date requested</th>\n",
              "      <th>Date Received</th>\n",
              "      <th>A Loc Address</th>\n",
              "      <th>A Loc City</th>\n",
              "      <th>A Loc State</th>\n",
              "      <th>A Loc Zip</th>\n",
              "      <th>Z Loc Address</th>\n",
              "      <th>Z Loc City</th>\n",
              "      <th>...</th>\n",
              "      <th>Term</th>\n",
              "      <th>Provider</th>\n",
              "      <th>A Loc Local Loop Provider</th>\n",
              "      <th>MRC</th>\n",
              "      <th>NRC</th>\n",
              "      <th>RTD Latency</th>\n",
              "      <th>Term_Cleaned</th>\n",
              "      <th>Port_Speed_Mbps</th>\n",
              "      <th>row_id</th>\n",
              "      <th>generalized_Cir</th>\n",
              "    </tr>\n",
              "  </thead>\n",
              "  <tbody>\n",
              "    <tr>\n",
              "      <th>8</th>\n",
              "      <td>4657.0</td>\n",
              "      <td>RFQ-234</td>\n",
              "      <td>2/26/2019</td>\n",
              "      <td>2/28/2019</td>\n",
              "      <td>755 Secaucus</td>\n",
              "      <td>secaucus</td>\n",
              "      <td>nj</td>\n",
              "      <td>07094</td>\n",
              "      <td>2905 Diehl Rd</td>\n",
              "      <td>Aurora</td>\n",
              "      <td>...</td>\n",
              "      <td>12</td>\n",
              "      <td>Zayo</td>\n",
              "      <td>NaN</td>\n",
              "      <td>10000.0</td>\n",
              "      <td>$3,000</td>\n",
              "      <td>22.5ms</td>\n",
              "      <td>12</td>\n",
              "      <td>100000.0</td>\n",
              "      <td>8</td>\n",
              "      <td>Wavelength</td>\n",
              "    </tr>\n",
              "    <tr>\n",
              "      <th>9</th>\n",
              "      <td>4658.0</td>\n",
              "      <td>RFQ-234</td>\n",
              "      <td>2/26/2019</td>\n",
              "      <td>2/28/2019</td>\n",
              "      <td>755 Secaucus</td>\n",
              "      <td>secaucus</td>\n",
              "      <td>nj</td>\n",
              "      <td>07094</td>\n",
              "      <td>2905 Diehl Rd</td>\n",
              "      <td>Aurora</td>\n",
              "      <td>...</td>\n",
              "      <td>36</td>\n",
              "      <td>Zayo</td>\n",
              "      <td>NaN</td>\n",
              "      <td>7500.0</td>\n",
              "      <td>$3,000</td>\n",
              "      <td>22.5ms</td>\n",
              "      <td>36</td>\n",
              "      <td>100000.0</td>\n",
              "      <td>9</td>\n",
              "      <td>Wavelength</td>\n",
              "    </tr>\n",
              "    <tr>\n",
              "      <th>12</th>\n",
              "      <td>4661.0</td>\n",
              "      <td>RFQ-234</td>\n",
              "      <td>2/22/2019</td>\n",
              "      <td>2/22/2019</td>\n",
              "      <td>1400 Federal</td>\n",
              "      <td>carteret</td>\n",
              "      <td>nj</td>\n",
              "      <td>07008</td>\n",
              "      <td>350 East Cermak</td>\n",
              "      <td>Chicago</td>\n",
              "      <td>...</td>\n",
              "      <td>36</td>\n",
              "      <td>Verizon</td>\n",
              "      <td>NaN</td>\n",
              "      <td>5500.0</td>\n",
              "      <td>$0</td>\n",
              "      <td>15ms</td>\n",
              "      <td>36</td>\n",
              "      <td>100000.0</td>\n",
              "      <td>12</td>\n",
              "      <td>EVPL</td>\n",
              "    </tr>\n",
              "    <tr>\n",
              "      <th>13</th>\n",
              "      <td>4662.0</td>\n",
              "      <td>RFQ-234</td>\n",
              "      <td>2/22/2019</td>\n",
              "      <td>2/22/2019</td>\n",
              "      <td>1400 Federal</td>\n",
              "      <td>carteret</td>\n",
              "      <td>nj</td>\n",
              "      <td>07008</td>\n",
              "      <td>350 East Cermak</td>\n",
              "      <td>Chicago</td>\n",
              "      <td>...</td>\n",
              "      <td>36</td>\n",
              "      <td>Verizon</td>\n",
              "      <td>NaN</td>\n",
              "      <td>8163.0</td>\n",
              "      <td>$0</td>\n",
              "      <td>20ms</td>\n",
              "      <td>36</td>\n",
              "      <td>100000.0</td>\n",
              "      <td>13</td>\n",
              "      <td>EVPL</td>\n",
              "    </tr>\n",
              "    <tr>\n",
              "      <th>18</th>\n",
              "      <td>4667.0</td>\n",
              "      <td>RFQ-234</td>\n",
              "      <td>2/22/2019</td>\n",
              "      <td>NaN</td>\n",
              "      <td>755 Secaucus</td>\n",
              "      <td>secaucus</td>\n",
              "      <td>nj</td>\n",
              "      <td>07094</td>\n",
              "      <td>2905 Diehl Rd</td>\n",
              "      <td>Aurora</td>\n",
              "      <td>...</td>\n",
              "      <td>36</td>\n",
              "      <td>Level 3 (Centurylink)</td>\n",
              "      <td>NaN</td>\n",
              "      <td>8139.0</td>\n",
              "      <td>$2,500</td>\n",
              "      <td>22.697MS</td>\n",
              "      <td>36</td>\n",
              "      <td>100000.0</td>\n",
              "      <td>18</td>\n",
              "      <td>EVPL</td>\n",
              "    </tr>\n",
              "    <tr>\n",
              "      <th>...</th>\n",
              "      <td>...</td>\n",
              "      <td>...</td>\n",
              "      <td>...</td>\n",
              "      <td>...</td>\n",
              "      <td>...</td>\n",
              "      <td>...</td>\n",
              "      <td>...</td>\n",
              "      <td>...</td>\n",
              "      <td>...</td>\n",
              "      <td>...</td>\n",
              "      <td>...</td>\n",
              "      <td>...</td>\n",
              "      <td>...</td>\n",
              "      <td>...</td>\n",
              "      <td>...</td>\n",
              "      <td>...</td>\n",
              "      <td>...</td>\n",
              "      <td>...</td>\n",
              "      <td>...</td>\n",
              "      <td>...</td>\n",
              "      <td>...</td>\n",
              "    </tr>\n",
              "    <tr>\n",
              "      <th>7826</th>\n",
              "      <td>13302.0</td>\n",
              "      <td>RFQ-628.1</td>\n",
              "      <td>NaN</td>\n",
              "      <td>NaN</td>\n",
              "      <td>9021 Bennett Creek Blvd</td>\n",
              "      <td>frederick</td>\n",
              "      <td>md</td>\n",
              "      <td>21704</td>\n",
              "      <td>21715 Filigree Court, Floor 1</td>\n",
              "      <td>Ashburn</td>\n",
              "      <td>...</td>\n",
              "      <td>24</td>\n",
              "      <td>ORN</td>\n",
              "      <td>One Ring Networks</td>\n",
              "      <td>1350.0</td>\n",
              "      <td>$600</td>\n",
              "      <td>NaN</td>\n",
              "      <td>24</td>\n",
              "      <td>1000.0</td>\n",
              "      <td>7826</td>\n",
              "      <td>Microwave</td>\n",
              "    </tr>\n",
              "    <tr>\n",
              "      <th>7827</th>\n",
              "      <td>13303.0</td>\n",
              "      <td>RFQ-628.1</td>\n",
              "      <td>NaN</td>\n",
              "      <td>NaN</td>\n",
              "      <td>9021 Bennett Creek Blvd</td>\n",
              "      <td>frederick</td>\n",
              "      <td>md</td>\n",
              "      <td>21704</td>\n",
              "      <td>21715 Filigree Court, Floor 1</td>\n",
              "      <td>Ashburn</td>\n",
              "      <td>...</td>\n",
              "      <td>36</td>\n",
              "      <td>ORN</td>\n",
              "      <td>One Ring Networks</td>\n",
              "      <td>1225.0</td>\n",
              "      <td>$600</td>\n",
              "      <td>NaN</td>\n",
              "      <td>36</td>\n",
              "      <td>1000.0</td>\n",
              "      <td>7827</td>\n",
              "      <td>Microwave</td>\n",
              "    </tr>\n",
              "    <tr>\n",
              "      <th>7828</th>\n",
              "      <td>13304.0</td>\n",
              "      <td>RFQ-628.2</td>\n",
              "      <td>2/8/2024</td>\n",
              "      <td>2/13/2024</td>\n",
              "      <td>Tufsteen 1</td>\n",
              "      <td>hoofddorp</td>\n",
              "      <td>netherlands</td>\n",
              "      <td>2132 NT</td>\n",
              "      <td>Luttenbergweg 4</td>\n",
              "      <td>Amsterdam</td>\n",
              "      <td>...</td>\n",
              "      <td>12</td>\n",
              "      <td>Colt</td>\n",
              "      <td>Eurofiber</td>\n",
              "      <td>795.0</td>\n",
              "      <td>$738</td>\n",
              "      <td>NaN</td>\n",
              "      <td>12</td>\n",
              "      <td>1000.0</td>\n",
              "      <td>7828</td>\n",
              "      <td>Microwave</td>\n",
              "    </tr>\n",
              "    <tr>\n",
              "      <th>7829</th>\n",
              "      <td>13305.0</td>\n",
              "      <td>RFQ-628.2</td>\n",
              "      <td>2/8/2024</td>\n",
              "      <td>2/13/2024</td>\n",
              "      <td>Tufsteen 1</td>\n",
              "      <td>hoofddorp</td>\n",
              "      <td>netherlands</td>\n",
              "      <td>2132 NT</td>\n",
              "      <td>Luttenbergweg 4</td>\n",
              "      <td>Amsterdam</td>\n",
              "      <td>...</td>\n",
              "      <td>24</td>\n",
              "      <td>Colt</td>\n",
              "      <td>Eurofiber</td>\n",
              "      <td>777.0</td>\n",
              "      <td>$726</td>\n",
              "      <td>NaN</td>\n",
              "      <td>24</td>\n",
              "      <td>1000.0</td>\n",
              "      <td>7829</td>\n",
              "      <td>Microwave</td>\n",
              "    </tr>\n",
              "    <tr>\n",
              "      <th>7830</th>\n",
              "      <td>13306.0</td>\n",
              "      <td>RFQ-628.2</td>\n",
              "      <td>2/8/2024</td>\n",
              "      <td>2/13/2024</td>\n",
              "      <td>Tufsteen 1</td>\n",
              "      <td>hoofddorp</td>\n",
              "      <td>netherlands</td>\n",
              "      <td>2132 NT</td>\n",
              "      <td>Luttenbergweg 4</td>\n",
              "      <td>Amsterdam</td>\n",
              "      <td>...</td>\n",
              "      <td>36</td>\n",
              "      <td>Colt</td>\n",
              "      <td>Eurofiber</td>\n",
              "      <td>769.0</td>\n",
              "      <td>$726</td>\n",
              "      <td>NaN</td>\n",
              "      <td>36</td>\n",
              "      <td>1000.0</td>\n",
              "      <td>7830</td>\n",
              "      <td>Microwave</td>\n",
              "    </tr>\n",
              "  </tbody>\n",
              "</table>\n",
              "<p>4551 rows × 24 columns</p>\n",
              "</div>"
            ],
            "text/plain": [
              "      Rec Num        RFQ Date requested Date Received  \\\n",
              "8      4657.0    RFQ-234      2/26/2019     2/28/2019   \n",
              "9      4658.0    RFQ-234      2/26/2019     2/28/2019   \n",
              "12     4661.0    RFQ-234      2/22/2019     2/22/2019   \n",
              "13     4662.0    RFQ-234      2/22/2019     2/22/2019   \n",
              "18     4667.0    RFQ-234      2/22/2019           NaN   \n",
              "...       ...        ...            ...           ...   \n",
              "7826  13302.0  RFQ-628.1            NaN           NaN   \n",
              "7827  13303.0  RFQ-628.1            NaN           NaN   \n",
              "7828  13304.0  RFQ-628.2       2/8/2024     2/13/2024   \n",
              "7829  13305.0  RFQ-628.2       2/8/2024     2/13/2024   \n",
              "7830  13306.0  RFQ-628.2       2/8/2024     2/13/2024   \n",
              "\n",
              "                A Loc Address A Loc City  A Loc State A Loc Zip  \\\n",
              "8                755 Secaucus   secaucus           nj     07094   \n",
              "9                755 Secaucus   secaucus           nj     07094   \n",
              "12               1400 Federal   carteret           nj     07008   \n",
              "13               1400 Federal   carteret           nj     07008   \n",
              "18               755 Secaucus   secaucus           nj     07094   \n",
              "...                       ...        ...          ...       ...   \n",
              "7826  9021 Bennett Creek Blvd  frederick           md     21704   \n",
              "7827  9021 Bennett Creek Blvd  frederick           md     21704   \n",
              "7828               Tufsteen 1  hoofddorp  netherlands   2132 NT   \n",
              "7829               Tufsteen 1  hoofddorp  netherlands   2132 NT   \n",
              "7830               Tufsteen 1  hoofddorp  netherlands   2132 NT   \n",
              "\n",
              "                      Z Loc Address Z Loc City  ... Term  \\\n",
              "8                     2905 Diehl Rd     Aurora  ...   12   \n",
              "9                     2905 Diehl Rd     Aurora  ...   36   \n",
              "12                  350 East Cermak    Chicago  ...   36   \n",
              "13                  350 East Cermak    Chicago  ...   36   \n",
              "18                    2905 Diehl Rd     Aurora  ...   36   \n",
              "...                             ...        ...  ...  ...   \n",
              "7826  21715 Filigree Court, Floor 1    Ashburn  ...   24   \n",
              "7827  21715 Filigree Court, Floor 1    Ashburn  ...   36   \n",
              "7828                Luttenbergweg 4  Amsterdam  ...   12   \n",
              "7829                Luttenbergweg 4  Amsterdam  ...   24   \n",
              "7830                Luttenbergweg 4  Amsterdam  ...   36   \n",
              "\n",
              "                   Provider A Loc Local Loop Provider      MRC     NRC  \\\n",
              "8                      Zayo                       NaN  10000.0  $3,000   \n",
              "9                      Zayo                       NaN   7500.0  $3,000   \n",
              "12                  Verizon                       NaN   5500.0      $0   \n",
              "13                  Verizon                       NaN   8163.0      $0   \n",
              "18    Level 3 (Centurylink)                       NaN   8139.0  $2,500   \n",
              "...                     ...                       ...      ...     ...   \n",
              "7826                    ORN         One Ring Networks   1350.0    $600   \n",
              "7827                    ORN         One Ring Networks   1225.0    $600   \n",
              "7828                   Colt                 Eurofiber    795.0    $738   \n",
              "7829                   Colt                 Eurofiber    777.0    $726   \n",
              "7830                   Colt                 Eurofiber    769.0    $726   \n",
              "\n",
              "     RTD Latency Term_Cleaned  Port_Speed_Mbps row_id generalized_Cir  \n",
              "8         22.5ms           12         100000.0      8      Wavelength  \n",
              "9         22.5ms           36         100000.0      9      Wavelength  \n",
              "12          15ms           36         100000.0     12            EVPL  \n",
              "13          20ms           36         100000.0     13            EVPL  \n",
              "18      22.697MS           36         100000.0     18            EVPL  \n",
              "...          ...          ...              ...    ...             ...  \n",
              "7826         NaN           24           1000.0   7826       Microwave  \n",
              "7827         NaN           36           1000.0   7827       Microwave  \n",
              "7828         NaN           12           1000.0   7828       Microwave  \n",
              "7829         NaN           24           1000.0   7829       Microwave  \n",
              "7830         NaN           36           1000.0   7830       Microwave  \n",
              "\n",
              "[4551 rows x 24 columns]"
            ]
          },
          "execution_count": 972,
          "metadata": {},
          "output_type": "execute_result"
        }
      ],
      "source": [
        "filtered_data = filter_state_data[filter_state_data['generalized_Cir']!='None']\n",
        "filtered_data"
      ]
    },
    {
      "cell_type": "code",
      "execution_count": 973,
      "metadata": {},
      "outputs": [
        {
          "data": {
            "text/plain": [
              "array(['nj', 'dc', 'va', 'ks', 'tx', 'uk', 'ga', 'il', 'mn', 'ny',\n",
              "       'germany', 'co', 'ct', 'oh', 'ca', 'south kensington', 'wa',\n",
              "       'ireland', 'hong kong', 'peru', nan, 'mexico', 'india', 'china',\n",
              "       'california', 'ontario', 'ky', 'russia', 'md', 'south africa',\n",
              "       'netherlands', 'japan', 'france', 'switzerland', 'italy', 'sc',\n",
              "       'ut', 'pa', 'uae', 'fl', 'pud - china', 'brazil', 'sweden',\n",
              "       'australia', 'canada', 'nicaragua', 'honduras', 'ma', 'ok',\n",
              "       'poland', 'czech republic', 'indonesia', 'new zealand', 'new york',\n",
              "       'mi', 'tn', 'on', 'nsw-australia', 'cyprus', 'nc', 'wi', 'az',\n",
              "       'or', 'romania', 'spain', 'colombia', 'mo', 'belgium', 'taiwan'],\n",
              "      dtype=object)"
            ]
          },
          "execution_count": 973,
          "metadata": {},
          "output_type": "execute_result"
        }
      ],
      "source": [
        "filtered_data['A Loc State'].unique()"
      ]
    },
    {
      "cell_type": "code",
      "execution_count": 974,
      "metadata": {},
      "outputs": [
        {
          "name": "stderr",
          "output_type": "stream",
          "text": [
            "/var/folders/t2/q9fs839s4l96y0sbpzp96jr40000gn/T/ipykernel_83963/252006231.py:1: SettingWithCopyWarning: \n",
            "A value is trying to be set on a copy of a slice from a DataFrame.\n",
            "Try using .loc[row_indexer,col_indexer] = value instead\n",
            "\n",
            "See the caveats in the documentation: https://pandas.pydata.org/pandas-docs/stable/user_guide/indexing.html#returning-a-view-versus-a-copy\n",
            "  filtered_data['generalized_Cir'] = filtered_data['generalized_Cir'].astype(str).str.lower()\n"
          ]
        },
        {
          "data": {
            "text/plain": [
              "array(['wavelength', 'evpl', 'epl', 'dia', 'broadband', 'darkfiber',\n",
              "       'e_line', 'mpls', 'microwave'], dtype=object)"
            ]
          },
          "execution_count": 974,
          "metadata": {},
          "output_type": "execute_result"
        }
      ],
      "source": [
        "filtered_data['generalized_Cir'] = filtered_data['generalized_Cir'].astype(str).str.lower()\n",
        "filtered_data['generalized_Cir'].unique()"
      ]
    },
    {
      "cell_type": "code",
      "execution_count": 975,
      "metadata": {
        "colab": {
          "base_uri": "https://localhost:8080/",
          "height": 423
        },
        "id": "T-cBxVwDgss0",
        "outputId": "c67bcb75-514b-4ef8-85e4-0fafc0472f01"
      },
      "outputs": [],
      "source": [
        "org_final_data = filtered_data"
      ]
    },
    {
      "cell_type": "code",
      "execution_count": 976,
      "metadata": {
        "colab": {
          "base_uri": "https://localhost:8080/"
        },
        "id": "IedC74Chbj6y",
        "outputId": "8447c600-ab88-45df-eeef-d3230665836c"
      },
      "outputs": [
        {
          "name": "stderr",
          "output_type": "stream",
          "text": [
            "/var/folders/t2/q9fs839s4l96y0sbpzp96jr40000gn/T/ipykernel_83963/136176722.py:8: SettingWithCopyWarning: \n",
            "A value is trying to be set on a copy of a slice from a DataFrame.\n",
            "Try using .loc[row_indexer,col_indexer] = value instead\n",
            "\n",
            "See the caveats in the documentation: https://pandas.pydata.org/pandas-docs/stable/user_guide/indexing.html#returning-a-view-versus-a-copy\n",
            "  filtered_data[col + '_Freq'] = label_enc.fit_transform(filtered_data[col])\n",
            "/var/folders/t2/q9fs839s4l96y0sbpzp96jr40000gn/T/ipykernel_83963/136176722.py:8: SettingWithCopyWarning: \n",
            "A value is trying to be set on a copy of a slice from a DataFrame.\n",
            "Try using .loc[row_indexer,col_indexer] = value instead\n",
            "\n",
            "See the caveats in the documentation: https://pandas.pydata.org/pandas-docs/stable/user_guide/indexing.html#returning-a-view-versus-a-copy\n",
            "  filtered_data[col + '_Freq'] = label_enc.fit_transform(filtered_data[col])\n",
            "/var/folders/t2/q9fs839s4l96y0sbpzp96jr40000gn/T/ipykernel_83963/136176722.py:12: SettingWithCopyWarning: \n",
            "A value is trying to be set on a copy of a slice from a DataFrame\n",
            "\n",
            "See the caveats in the documentation: https://pandas.pydata.org/pandas-docs/stable/user_guide/indexing.html#returning-a-view-versus-a-copy\n",
            "  filtered_data.drop(columns=['A Loc State', 'generalized_Cir'], inplace=True)\n"
          ]
        }
      ],
      "source": [
        "from sklearn.preprocessing import LabelEncoder\n",
        "import pickle\n",
        "\n",
        "label_encoders = {}  \n",
        "\n",
        "for col in ['A Loc State', 'generalized_Cir']:\n",
        "    label_enc = LabelEncoder()\n",
        "    filtered_data[col + '_Freq'] = label_enc.fit_transform(filtered_data[col])\n",
        "    label_encoders[col] = label_enc\n",
        "\n",
        "# Drop the original categorical columns\n",
        "filtered_data.drop(columns=['A Loc State', 'generalized_Cir'], inplace=True)\n",
        "\n",
        "# Optionally, save the encoders using pickle\n",
        "with open(\"label_encoders.pkl\", \"wb\") as f:\n",
        "    pickle.dump(label_encoders, f)\n"
      ]
    },
    {
      "cell_type": "code",
      "execution_count": 977,
      "metadata": {},
      "outputs": [
        {
          "name": "stdout",
          "output_type": "stream",
          "text": [
            "['broadband' 'darkfiber' 'dia' 'e_line' 'epl' 'evpl' 'microwave' 'mpls'\n",
            " 'wavelength']\n",
            "{'broadband': 0, 'darkfiber': 1, 'dia': 2, 'e_line': 3, 'epl': 4, 'evpl': 5, 'microwave': 6, 'mpls': 7, 'wavelength': 8}\n"
          ]
        }
      ],
      "source": [
        "print(label_enc.classes_)  # Lists all unique class names in order\n",
        "print(dict(zip(label_enc.classes_, range(len(label_enc.classes_)))))  # Shows class-to-label mapping\n"
      ]
    },
    {
      "cell_type": "code",
      "execution_count": 978,
      "metadata": {},
      "outputs": [
        {
          "data": {
            "text/plain": [
              "Index(['Rec Num', 'RFQ', 'Date requested', 'Date Received', 'A Loc Address',\n",
              "       'A Loc City', 'A Loc Zip', 'Z Loc Address', 'Z Loc City', 'Z Loc State',\n",
              "       'Z Loc Zip', 'Cir Type', 'Port Speed', 'Term', 'Provider',\n",
              "       'A Loc Local Loop Provider', 'MRC', 'NRC', 'RTD Latency',\n",
              "       'Term_Cleaned', 'Port_Speed_Mbps', 'row_id', 'A Loc State_Freq',\n",
              "       'generalized_Cir_Freq'],\n",
              "      dtype='object')"
            ]
          },
          "execution_count": 978,
          "metadata": {},
          "output_type": "execute_result"
        }
      ],
      "source": [
        "filtered_data.columns"
      ]
    },
    {
      "cell_type": "code",
      "execution_count": 979,
      "metadata": {},
      "outputs": [
        {
          "name": "stdout",
          "output_type": "stream",
          "text": [
            "                   Provider  Provider_median_encoding\n",
            "4244                 Spread                    8000.0\n",
            "18    Level 3 (Centurylink)                    7452.0\n",
            "837                     NTT                    7315.0\n",
            "5086                     DU                    6805.0\n",
            "7463            DigitalWell                    5556.0\n",
            "...                     ...                       ...\n",
            "4158                   INAP                     432.0\n",
            "388                    MWEB                     415.0\n",
            "412                     Vox                     315.0\n",
            "1769                Xfinity                     200.0\n",
            "3775              Earthlink                      92.0\n",
            "\n",
            "[115 rows x 2 columns]\n"
          ]
        },
        {
          "name": "stderr",
          "output_type": "stream",
          "text": [
            "/var/folders/t2/q9fs839s4l96y0sbpzp96jr40000gn/T/ipykernel_83963/2975951924.py:7: SettingWithCopyWarning: \n",
            "A value is trying to be set on a copy of a slice from a DataFrame.\n",
            "Try using .loc[row_indexer,col_indexer] = value instead\n",
            "\n",
            "See the caveats in the documentation: https://pandas.pydata.org/pandas-docs/stable/user_guide/indexing.html#returning-a-view-versus-a-copy\n",
            "  filtered_data[\"Provider_median_encoding\"] = filtered_data[\"Provider\"].map(provider_mrc_mean)\n"
          ]
        }
      ],
      "source": [
        "import pandas as pd\n",
        "\n",
        "# Calculate mean MRC for each provider\n",
        "provider_mrc_mean = filtered_data.groupby(\"Provider\")[\"MRC\"].median()\n",
        "\n",
        "# Map the provider column to its corresponding mean MRC value\n",
        "filtered_data[\"Provider_median_encoding\"] = filtered_data[\"Provider\"].map(provider_mrc_mean)\n",
        "\n",
        "# Check the encoding\n",
        "print(filtered_data[[\"Provider\", \"Provider_median_encoding\"]].drop_duplicates().sort_values(by=\"Provider_median_encoding\", ascending=False))\n",
        "\n",
        "\n",
        "provider_encoding = filtered_data[[\"Provider\", \"Provider_median_encoding\"]].drop_duplicates().sort_values(by=\"Provider_median_encoding\", ascending=False)\n",
        "provider_encoding.to_csv('provider_encoding.csv', header=True)\n",
        "\n",
        "import pickle\n",
        "\n",
        "# Save provider mean MRC encoding to a file\n",
        "with open(\"provider_mrc_mean.pkl\", \"wb\") as f:\n",
        "    pickle.dump(provider_mrc_mean, f)\n"
      ]
    },
    {
      "cell_type": "code",
      "execution_count": null,
      "metadata": {},
      "outputs": [],
      "source": []
    },
    {
      "cell_type": "code",
      "execution_count": 980,
      "metadata": {
        "colab": {
          "base_uri": "https://localhost:8080/"
        },
        "id": "9WQpn7PJbJM_",
        "outputId": "77ccefea-4302-4a68-8fe5-f37cb74e449d"
      },
      "outputs": [],
      "source": [
        "import numpy as np\n",
        "\n",
        "window_size = 10\n",
        "\n",
        "def fill_with_median(window_data):\n",
        "\n",
        "    valid_values = window_data.dropna()\n",
        "    if len(valid_values) > 0:\n",
        "        return valid_values.median()\n",
        "    return np.nan\n",
        "\n",
        "\n",
        "for col in ['Port_Speed_Mbps', 'A Loc State_Freq', 'Provider_median_encoding']:\n",
        "    for i in range(window_size, len(filtered_data) - window_size):\n",
        "        if pd.isna(filtered_data[col].iloc[i]):\n",
        "\n",
        "            window_data = filtered_data[col].iloc[i - window_size:i + window_size + 1]\n",
        "            filtered_data[col].iloc[i] = fill_with_median(window_data)\n",
        "\n",
        "\n",
        "# print(final_data.isnull().sum())\n"
      ]
    },
    {
      "cell_type": "code",
      "execution_count": 981,
      "metadata": {
        "colab": {
          "base_uri": "https://localhost:8080/",
          "height": 458
        },
        "id": "0e1mM7M6etTd",
        "outputId": "dd0b0c3b-2e4d-48ea-900f-90ab6915c3cc"
      },
      "outputs": [
        {
          "name": "stderr",
          "output_type": "stream",
          "text": [
            "/var/folders/t2/q9fs839s4l96y0sbpzp96jr40000gn/T/ipykernel_83963/2243208810.py:1: SettingWithCopyWarning: \n",
            "A value is trying to be set on a copy of a slice from a DataFrame.\n",
            "Try using .loc[row_indexer,col_indexer] = value instead\n",
            "\n",
            "See the caveats in the documentation: https://pandas.pydata.org/pandas-docs/stable/user_guide/indexing.html#returning-a-view-versus-a-copy\n",
            "  filtered_data['Term_Cleaned'] = pd.to_numeric(filtered_data['Term_Cleaned'], errors='coerce')\n"
          ]
        },
        {
          "data": {
            "text/plain": [
              "8       12\n",
              "9       36\n",
              "12      36\n",
              "13      36\n",
              "18      36\n",
              "        ..\n",
              "7826    24\n",
              "7827    36\n",
              "7828    12\n",
              "7829    24\n",
              "7830    36\n",
              "Name: Term_Cleaned, Length: 4551, dtype: int64"
            ]
          },
          "execution_count": 981,
          "metadata": {},
          "output_type": "execute_result"
        }
      ],
      "source": [
        "filtered_data['Term_Cleaned'] = pd.to_numeric(filtered_data['Term_Cleaned'], errors='coerce')\n",
        "\n",
        "filtered_data['Term_Cleaned']\n"
      ]
    },
    {
      "cell_type": "code",
      "execution_count": 982,
      "metadata": {
        "id": "f9yP8SXac08W"
      },
      "outputs": [
        {
          "data": {
            "text/plain": [
              "Index(['Rec Num', 'RFQ', 'Date requested', 'Date Received', 'A Loc Address',\n",
              "       'A Loc City', 'A Loc Zip', 'Z Loc Address', 'Z Loc City', 'Z Loc State',\n",
              "       'Z Loc Zip', 'Cir Type', 'Port Speed', 'Term', 'Provider',\n",
              "       'A Loc Local Loop Provider', 'MRC', 'NRC', 'RTD Latency',\n",
              "       'Term_Cleaned', 'Port_Speed_Mbps', 'row_id', 'A Loc State_Freq',\n",
              "       'generalized_Cir_Freq', 'Provider_median_encoding'],\n",
              "      dtype='object')"
            ]
          },
          "execution_count": 982,
          "metadata": {},
          "output_type": "execute_result"
        }
      ],
      "source": [
        "filtered_data.columns"
      ]
    },
    {
      "cell_type": "code",
      "execution_count": 983,
      "metadata": {},
      "outputs": [
        {
          "data": {
            "text/plain": [
              "115"
            ]
          },
          "execution_count": 983,
          "metadata": {},
          "output_type": "execute_result"
        }
      ],
      "source": [
        "len(filtered_data['Provider'].unique())"
      ]
    },
    {
      "cell_type": "code",
      "execution_count": 984,
      "metadata": {},
      "outputs": [
        {
          "name": "stderr",
          "output_type": "stream",
          "text": [
            "/var/folders/t2/q9fs839s4l96y0sbpzp96jr40000gn/T/ipykernel_83963/2257908100.py:5: SettingWithCopyWarning: \n",
            "A value is trying to be set on a copy of a slice from a DataFrame.\n",
            "Try using .loc[row_indexer,col_indexer] = value instead\n",
            "\n",
            "See the caveats in the documentation: https://pandas.pydata.org/pandas-docs/stable/user_guide/indexing.html#returning-a-view-versus-a-copy\n",
            "  filtered_data['Provider_encoded'] = le.fit_transform(filtered_data['Provider'])\n"
          ]
        },
        {
          "data": {
            "text/plain": [
              "8       109\n",
              "9       109\n",
              "12       99\n",
              "13       99\n",
              "18       61\n",
              "       ... \n",
              "7826     75\n",
              "7827     75\n",
              "7828     22\n",
              "7829     22\n",
              "7830     22\n",
              "Name: Provider_encoded, Length: 4551, dtype: int64"
            ]
          },
          "execution_count": 984,
          "metadata": {},
          "output_type": "execute_result"
        }
      ],
      "source": [
        "from sklearn.preprocessing import LabelEncoder\n",
        "\n",
        "le = LabelEncoder()\n",
        "\n",
        "filtered_data['Provider_encoded'] = le.fit_transform(filtered_data['Provider'])\n",
        "\n",
        "filtered_data['Provider_encoded']\n"
      ]
    },
    {
      "cell_type": "code",
      "execution_count": 985,
      "metadata": {},
      "outputs": [
        {
          "name": "stderr",
          "output_type": "stream",
          "text": [
            "/var/folders/t2/q9fs839s4l96y0sbpzp96jr40000gn/T/ipykernel_83963/2179379077.py:1: SettingWithCopyWarning: \n",
            "A value is trying to be set on a copy of a slice from a DataFrame.\n",
            "Try using .loc[row_indexer,col_indexer] = value instead\n",
            "\n",
            "See the caveats in the documentation: https://pandas.pydata.org/pandas-docs/stable/user_guide/indexing.html#returning-a-view-versus-a-copy\n",
            "  filtered_data['MRC_per_Mbps'] = filtered_data['MRC'] / filtered_data['Port_Speed_Mbps']\n"
          ]
        }
      ],
      "source": [
        "filtered_data['MRC_per_Mbps'] = filtered_data['MRC'] / filtered_data['Port_Speed_Mbps']\n",
        "\n",
        "\n",
        "provider_avg = filtered_data.groupby('Provider')['MRC_per_Mbps'].mean().reset_index()\n",
        "provider_avg.columns = ['Provider', 'Avg_MRC_per_Mbps']\n",
        "filtered_data = filtered_data.merge(provider_avg, on='Provider', how='left')\n"
      ]
    },
    {
      "cell_type": "code",
      "execution_count": 986,
      "metadata": {},
      "outputs": [
        {
          "data": {
            "text/plain": [
              "115"
            ]
          },
          "execution_count": 986,
          "metadata": {},
          "output_type": "execute_result"
        }
      ],
      "source": [
        "len(filtered_data['Avg_MRC_per_Mbps'].unique())"
      ]
    },
    {
      "cell_type": "code",
      "execution_count": 987,
      "metadata": {},
      "outputs": [],
      "source": [
        "# provider_data = filtered_data[[\"Provider\", \"Provider_median_encoding\", \"Avg_MRC_per_Mbps\"]].drop_duplicates().sort_values(by=\"Provider_median_encoding\", ascending=False)\n",
        "\n",
        "provider_counts = filtered_data[['Provider', 'Avg_MRC_per_Mbps']].value_counts(sort=True)\n",
        "\n",
        "provider_counts.to_csv('provider_counts.csv', header=True)\n"
      ]
    },
    {
      "cell_type": "code",
      "execution_count": null,
      "metadata": {},
      "outputs": [],
      "source": []
    },
    {
      "cell_type": "code",
      "execution_count": 988,
      "metadata": {
        "id": "-nBLzWUhde9_"
      },
      "outputs": [],
      "source": [
        "filter_state_data = filter_state_data[filter_state_data['generalized_Cir'] != \"None\"]\n"
      ]
    },
    {
      "cell_type": "code",
      "execution_count": 989,
      "metadata": {},
      "outputs": [
        {
          "data": {
            "text/html": [
              "<div>\n",
              "<style scoped>\n",
              "    .dataframe tbody tr th:only-of-type {\n",
              "        vertical-align: middle;\n",
              "    }\n",
              "\n",
              "    .dataframe tbody tr th {\n",
              "        vertical-align: top;\n",
              "    }\n",
              "\n",
              "    .dataframe thead th {\n",
              "        text-align: right;\n",
              "    }\n",
              "</style>\n",
              "<table border=\"1\" class=\"dataframe\">\n",
              "  <thead>\n",
              "    <tr style=\"text-align: right;\">\n",
              "      <th></th>\n",
              "      <th>Port_Speed_Mbps</th>\n",
              "      <th>Term_Cleaned</th>\n",
              "      <th>A Loc State_Freq</th>\n",
              "      <th>Provider_median_encoding</th>\n",
              "      <th>generalized_Cir_Freq</th>\n",
              "      <th>Avg_MRC_per_Mbps</th>\n",
              "    </tr>\n",
              "  </thead>\n",
              "  <tbody>\n",
              "    <tr>\n",
              "      <th>0</th>\n",
              "      <td>100000.0</td>\n",
              "      <td>12</td>\n",
              "      <td>39</td>\n",
              "      <td>1400.0</td>\n",
              "      <td>8</td>\n",
              "      <td>3.447638</td>\n",
              "    </tr>\n",
              "    <tr>\n",
              "      <th>1</th>\n",
              "      <td>100000.0</td>\n",
              "      <td>36</td>\n",
              "      <td>39</td>\n",
              "      <td>1400.0</td>\n",
              "      <td>8</td>\n",
              "      <td>3.447638</td>\n",
              "    </tr>\n",
              "    <tr>\n",
              "      <th>2</th>\n",
              "      <td>100000.0</td>\n",
              "      <td>36</td>\n",
              "      <td>39</td>\n",
              "      <td>1313.0</td>\n",
              "      <td>5</td>\n",
              "      <td>21.009395</td>\n",
              "    </tr>\n",
              "    <tr>\n",
              "      <th>3</th>\n",
              "      <td>100000.0</td>\n",
              "      <td>36</td>\n",
              "      <td>39</td>\n",
              "      <td>1313.0</td>\n",
              "      <td>5</td>\n",
              "      <td>21.009395</td>\n",
              "    </tr>\n",
              "    <tr>\n",
              "      <th>4</th>\n",
              "      <td>100000.0</td>\n",
              "      <td>36</td>\n",
              "      <td>39</td>\n",
              "      <td>7452.0</td>\n",
              "      <td>5</td>\n",
              "      <td>0.074520</td>\n",
              "    </tr>\n",
              "    <tr>\n",
              "      <th>...</th>\n",
              "      <td>...</td>\n",
              "      <td>...</td>\n",
              "      <td>...</td>\n",
              "      <td>...</td>\n",
              "      <td>...</td>\n",
              "      <td>...</td>\n",
              "    </tr>\n",
              "    <tr>\n",
              "      <th>4546</th>\n",
              "      <td>1000.0</td>\n",
              "      <td>24</td>\n",
              "      <td>29</td>\n",
              "      <td>1350.0</td>\n",
              "      <td>6</td>\n",
              "      <td>1.383333</td>\n",
              "    </tr>\n",
              "    <tr>\n",
              "      <th>4547</th>\n",
              "      <td>1000.0</td>\n",
              "      <td>36</td>\n",
              "      <td>29</td>\n",
              "      <td>1350.0</td>\n",
              "      <td>6</td>\n",
              "      <td>1.383333</td>\n",
              "    </tr>\n",
              "    <tr>\n",
              "      <th>4548</th>\n",
              "      <td>1000.0</td>\n",
              "      <td>12</td>\n",
              "      <td>35</td>\n",
              "      <td>797.5</td>\n",
              "      <td>6</td>\n",
              "      <td>1.745679</td>\n",
              "    </tr>\n",
              "    <tr>\n",
              "      <th>4549</th>\n",
              "      <td>1000.0</td>\n",
              "      <td>24</td>\n",
              "      <td>35</td>\n",
              "      <td>797.5</td>\n",
              "      <td>6</td>\n",
              "      <td>1.745679</td>\n",
              "    </tr>\n",
              "    <tr>\n",
              "      <th>4550</th>\n",
              "      <td>1000.0</td>\n",
              "      <td>36</td>\n",
              "      <td>35</td>\n",
              "      <td>797.5</td>\n",
              "      <td>6</td>\n",
              "      <td>1.745679</td>\n",
              "    </tr>\n",
              "  </tbody>\n",
              "</table>\n",
              "<p>4551 rows × 6 columns</p>\n",
              "</div>"
            ],
            "text/plain": [
              "      Port_Speed_Mbps  Term_Cleaned  A Loc State_Freq  \\\n",
              "0            100000.0            12                39   \n",
              "1            100000.0            36                39   \n",
              "2            100000.0            36                39   \n",
              "3            100000.0            36                39   \n",
              "4            100000.0            36                39   \n",
              "...               ...           ...               ...   \n",
              "4546           1000.0            24                29   \n",
              "4547           1000.0            36                29   \n",
              "4548           1000.0            12                35   \n",
              "4549           1000.0            24                35   \n",
              "4550           1000.0            36                35   \n",
              "\n",
              "      Provider_median_encoding  generalized_Cir_Freq  Avg_MRC_per_Mbps  \n",
              "0                       1400.0                     8          3.447638  \n",
              "1                       1400.0                     8          3.447638  \n",
              "2                       1313.0                     5         21.009395  \n",
              "3                       1313.0                     5         21.009395  \n",
              "4                       7452.0                     5          0.074520  \n",
              "...                        ...                   ...               ...  \n",
              "4546                    1350.0                     6          1.383333  \n",
              "4547                    1350.0                     6          1.383333  \n",
              "4548                     797.5                     6          1.745679  \n",
              "4549                     797.5                     6          1.745679  \n",
              "4550                     797.5                     6          1.745679  \n",
              "\n",
              "[4551 rows x 6 columns]"
            ]
          },
          "execution_count": 989,
          "metadata": {},
          "output_type": "execute_result"
        }
      ],
      "source": [
        "features_1 = ['Port_Speed_Mbps', 'Term_Cleaned', 'A Loc State_Freq', 'Provider_median_encoding', 'generalized_Cir_Freq', 'Avg_MRC_per_Mbps']\n",
        "\n",
        "filtered_data[features_1]"
      ]
    },
    {
      "cell_type": "code",
      "execution_count": 990,
      "metadata": {},
      "outputs": [
        {
          "name": "stdout",
          "output_type": "stream",
          "text": [
            "<class 'pandas.core.frame.DataFrame'>\n",
            "RangeIndex: 4551 entries, 0 to 4550\n",
            "Data columns (total 6 columns):\n",
            " #   Column                    Non-Null Count  Dtype  \n",
            "---  ------                    --------------  -----  \n",
            " 0   Port_Speed_Mbps           4551 non-null   float64\n",
            " 1   Term_Cleaned              4551 non-null   int64  \n",
            " 2   A Loc State_Freq          4551 non-null   int64  \n",
            " 3   Provider_median_encoding  4551 non-null   float64\n",
            " 4   generalized_Cir_Freq      4551 non-null   int64  \n",
            " 5   Avg_MRC_per_Mbps          4551 non-null   float64\n",
            "dtypes: float64(3), int64(3)\n",
            "memory usage: 213.5 KB\n"
          ]
        }
      ],
      "source": [
        "filtered_data[features_1].info()"
      ]
    },
    {
      "cell_type": "code",
      "execution_count": 991,
      "metadata": {},
      "outputs": [
        {
          "name": "stdout",
          "output_type": "stream",
          "text": [
            "Number of rows where both MRC and generalized_Cir are NOT NULL:       Rec Num        RFQ Date requested Date Received  \\\n",
            "0      4657.0    RFQ-234      2/26/2019     2/28/2019   \n",
            "1      4658.0    RFQ-234      2/26/2019     2/28/2019   \n",
            "2      4661.0    RFQ-234      2/22/2019     2/22/2019   \n",
            "3      4662.0    RFQ-234      2/22/2019     2/22/2019   \n",
            "4      4667.0    RFQ-234      2/22/2019           NaN   \n",
            "...       ...        ...            ...           ...   \n",
            "4546  13302.0  RFQ-628.1            NaN           NaN   \n",
            "4547  13303.0  RFQ-628.1            NaN           NaN   \n",
            "4548  13304.0  RFQ-628.2       2/8/2024     2/13/2024   \n",
            "4549  13305.0  RFQ-628.2       2/8/2024     2/13/2024   \n",
            "4550  13306.0  RFQ-628.2       2/8/2024     2/13/2024   \n",
            "\n",
            "                A Loc Address A Loc City A Loc Zip  \\\n",
            "0                755 Secaucus   secaucus     07094   \n",
            "1                755 Secaucus   secaucus     07094   \n",
            "2                1400 Federal   carteret     07008   \n",
            "3                1400 Federal   carteret     07008   \n",
            "4                755 Secaucus   secaucus     07094   \n",
            "...                       ...        ...       ...   \n",
            "4546  9021 Bennett Creek Blvd  frederick     21704   \n",
            "4547  9021 Bennett Creek Blvd  frederick     21704   \n",
            "4548               Tufsteen 1  hoofddorp   2132 NT   \n",
            "4549               Tufsteen 1  hoofddorp   2132 NT   \n",
            "4550               Tufsteen 1  hoofddorp   2132 NT   \n",
            "\n",
            "                      Z Loc Address Z Loc City  Z Loc State  ... RTD Latency  \\\n",
            "0                     2905 Diehl Rd     Aurora           IL  ...      22.5ms   \n",
            "1                     2905 Diehl Rd     Aurora           IL  ...      22.5ms   \n",
            "2                   350 East Cermak    Chicago           IL  ...        15ms   \n",
            "3                   350 East Cermak    Chicago           IL  ...        20ms   \n",
            "4                     2905 Diehl Rd     Aurora           IL  ...    22.697MS   \n",
            "...                             ...        ...          ...  ...         ...   \n",
            "4546  21715 Filigree Court, Floor 1    Ashburn           VA  ...         NaN   \n",
            "4547  21715 Filigree Court, Floor 1    Ashburn           VA  ...         NaN   \n",
            "4548                Luttenbergweg 4  Amsterdam  Netherlands  ...         NaN   \n",
            "4549                Luttenbergweg 4  Amsterdam  Netherlands  ...         NaN   \n",
            "4550                Luttenbergweg 4  Amsterdam  Netherlands  ...         NaN   \n",
            "\n",
            "     Term_Cleaned Port_Speed_Mbps row_id A Loc State_Freq  \\\n",
            "0              12        100000.0      8               39   \n",
            "1              36        100000.0      9               39   \n",
            "2              36        100000.0     12               39   \n",
            "3              36        100000.0     13               39   \n",
            "4              36        100000.0     18               39   \n",
            "...           ...             ...    ...              ...   \n",
            "4546           24          1000.0   7826               29   \n",
            "4547           36          1000.0   7827               29   \n",
            "4548           12          1000.0   7828               35   \n",
            "4549           24          1000.0   7829               35   \n",
            "4550           36          1000.0   7830               35   \n",
            "\n",
            "     generalized_Cir_Freq  Provider_median_encoding Provider_encoded  \\\n",
            "0                       8                    1400.0              109   \n",
            "1                       8                    1400.0              109   \n",
            "2                       5                    1313.0               99   \n",
            "3                       5                    1313.0               99   \n",
            "4                       5                    7452.0               61   \n",
            "...                   ...                       ...              ...   \n",
            "4546                    6                    1350.0               75   \n",
            "4547                    6                    1350.0               75   \n",
            "4548                    6                     797.5               22   \n",
            "4549                    6                     797.5               22   \n",
            "4550                    6                     797.5               22   \n",
            "\n",
            "     MRC_per_Mbps  Avg_MRC_per_Mbps  \n",
            "0         0.10000          3.447638  \n",
            "1         0.07500          3.447638  \n",
            "2         0.05500         21.009395  \n",
            "3         0.08163         21.009395  \n",
            "4         0.08139          0.074520  \n",
            "...           ...               ...  \n",
            "4546      1.35000          1.383333  \n",
            "4547      1.22500          1.383333  \n",
            "4548      0.79500          1.745679  \n",
            "4549      0.77700          1.745679  \n",
            "4550      0.76900          1.745679  \n",
            "\n",
            "[4551 rows x 28 columns]\n"
          ]
        }
      ],
      "source": [
        "common_non_null_count = filtered_data[(filtered_data['MRC'].notna()) & \n",
        "                                      (filtered_data['generalized_Cir_Freq'].notna())]\n",
        "\n",
        "print(f'Number of rows where both MRC and generalized_Cir are NOT NULL: {common_non_null_count}')\n"
      ]
    },
    {
      "cell_type": "code",
      "execution_count": 992,
      "metadata": {},
      "outputs": [],
      "source": [
        "features = [\n",
        "    'Port_Speed_Mbps', 'Term_Cleaned', 'A Loc State_Freq', 'Provider_median_encoding',\n",
        "    'generalized_Cir_Freq', 'Avg_MRC_per_Mbps'\n",
        "]"
      ]
    },
    {
      "cell_type": "code",
      "execution_count": 993,
      "metadata": {},
      "outputs": [
        {
          "data": {
            "text/plain": [
              "['Port_Speed_Mbps',\n",
              " 'Term_Cleaned',\n",
              " 'A Loc State_Freq',\n",
              " 'Provider_median_encoding',\n",
              " 'generalized_Cir_Freq',\n",
              " 'Avg_MRC_per_Mbps']"
            ]
          },
          "execution_count": 993,
          "metadata": {},
          "output_type": "execute_result"
        }
      ],
      "source": [
        "features"
      ]
    },
    {
      "cell_type": "code",
      "execution_count": 994,
      "metadata": {},
      "outputs": [],
      "source": [
        "mrc_missing = filtered_data[filtered_data['MRC'].isna()]\n",
        "mrc_non_missing = filtered_data.dropna(subset=['MRC'])"
      ]
    },
    {
      "cell_type": "code",
      "execution_count": 995,
      "metadata": {},
      "outputs": [
        {
          "data": {
            "text/plain": [
              "(4551, 28)"
            ]
          },
          "execution_count": 995,
          "metadata": {},
          "output_type": "execute_result"
        }
      ],
      "source": [
        "mrc_non_missing.shape"
      ]
    },
    {
      "cell_type": "code",
      "execution_count": 996,
      "metadata": {},
      "outputs": [
        {
          "data": {
            "text/plain": [
              "['Port_Speed_Mbps',\n",
              " 'Term_Cleaned',\n",
              " 'A Loc State_Freq',\n",
              " 'Provider_median_encoding',\n",
              " 'generalized_Cir_Freq',\n",
              " 'Avg_MRC_per_Mbps']"
            ]
          },
          "execution_count": 996,
          "metadata": {},
          "output_type": "execute_result"
        }
      ],
      "source": [
        "features"
      ]
    },
    {
      "cell_type": "code",
      "execution_count": null,
      "metadata": {},
      "outputs": [],
      "source": []
    },
    {
      "cell_type": "code",
      "execution_count": 997,
      "metadata": {},
      "outputs": [],
      "source": [
        "temp_features = ['Port_Speed_Mbps',\n",
        " 'Term_Cleaned',\n",
        " 'A Loc State_Freq',\n",
        "#  'Z Loc State_Freq',\n",
        " 'Provider_median_encoding',\n",
        " 'generalized_Cir_Freq', \n",
        " 'Avg_MRC_per_Mbps',\n",
        " 'MRC']"
      ]
    },
    {
      "cell_type": "code",
      "execution_count": 998,
      "metadata": {},
      "outputs": [
        {
          "data": {
            "text/plain": [
              "['Port_Speed_Mbps',\n",
              " 'Term_Cleaned',\n",
              " 'A Loc State_Freq',\n",
              " 'Provider_median_encoding',\n",
              " 'generalized_Cir_Freq',\n",
              " 'Avg_MRC_per_Mbps']"
            ]
          },
          "execution_count": 998,
          "metadata": {},
          "output_type": "execute_result"
        }
      ],
      "source": [
        "features"
      ]
    },
    {
      "cell_type": "code",
      "execution_count": 999,
      "metadata": {},
      "outputs": [
        {
          "data": {
            "text/html": [
              "<div>\n",
              "<style scoped>\n",
              "    .dataframe tbody tr th:only-of-type {\n",
              "        vertical-align: middle;\n",
              "    }\n",
              "\n",
              "    .dataframe tbody tr th {\n",
              "        vertical-align: top;\n",
              "    }\n",
              "\n",
              "    .dataframe thead th {\n",
              "        text-align: right;\n",
              "    }\n",
              "</style>\n",
              "<table border=\"1\" class=\"dataframe\">\n",
              "  <thead>\n",
              "    <tr style=\"text-align: right;\">\n",
              "      <th></th>\n",
              "      <th>Port_Speed_Mbps</th>\n",
              "      <th>Term_Cleaned</th>\n",
              "      <th>A Loc State_Freq</th>\n",
              "      <th>Provider_median_encoding</th>\n",
              "      <th>generalized_Cir_Freq</th>\n",
              "      <th>Avg_MRC_per_Mbps</th>\n",
              "    </tr>\n",
              "  </thead>\n",
              "  <tbody>\n",
              "    <tr>\n",
              "      <th>0</th>\n",
              "      <td>100000.0</td>\n",
              "      <td>12</td>\n",
              "      <td>39</td>\n",
              "      <td>1400.0</td>\n",
              "      <td>8</td>\n",
              "      <td>3.447638</td>\n",
              "    </tr>\n",
              "    <tr>\n",
              "      <th>1</th>\n",
              "      <td>100000.0</td>\n",
              "      <td>36</td>\n",
              "      <td>39</td>\n",
              "      <td>1400.0</td>\n",
              "      <td>8</td>\n",
              "      <td>3.447638</td>\n",
              "    </tr>\n",
              "    <tr>\n",
              "      <th>2</th>\n",
              "      <td>100000.0</td>\n",
              "      <td>36</td>\n",
              "      <td>39</td>\n",
              "      <td>1313.0</td>\n",
              "      <td>5</td>\n",
              "      <td>21.009395</td>\n",
              "    </tr>\n",
              "    <tr>\n",
              "      <th>3</th>\n",
              "      <td>100000.0</td>\n",
              "      <td>36</td>\n",
              "      <td>39</td>\n",
              "      <td>1313.0</td>\n",
              "      <td>5</td>\n",
              "      <td>21.009395</td>\n",
              "    </tr>\n",
              "    <tr>\n",
              "      <th>4</th>\n",
              "      <td>100000.0</td>\n",
              "      <td>36</td>\n",
              "      <td>39</td>\n",
              "      <td>7452.0</td>\n",
              "      <td>5</td>\n",
              "      <td>0.074520</td>\n",
              "    </tr>\n",
              "    <tr>\n",
              "      <th>...</th>\n",
              "      <td>...</td>\n",
              "      <td>...</td>\n",
              "      <td>...</td>\n",
              "      <td>...</td>\n",
              "      <td>...</td>\n",
              "      <td>...</td>\n",
              "    </tr>\n",
              "    <tr>\n",
              "      <th>4546</th>\n",
              "      <td>1000.0</td>\n",
              "      <td>24</td>\n",
              "      <td>29</td>\n",
              "      <td>1350.0</td>\n",
              "      <td>6</td>\n",
              "      <td>1.383333</td>\n",
              "    </tr>\n",
              "    <tr>\n",
              "      <th>4547</th>\n",
              "      <td>1000.0</td>\n",
              "      <td>36</td>\n",
              "      <td>29</td>\n",
              "      <td>1350.0</td>\n",
              "      <td>6</td>\n",
              "      <td>1.383333</td>\n",
              "    </tr>\n",
              "    <tr>\n",
              "      <th>4548</th>\n",
              "      <td>1000.0</td>\n",
              "      <td>12</td>\n",
              "      <td>35</td>\n",
              "      <td>797.5</td>\n",
              "      <td>6</td>\n",
              "      <td>1.745679</td>\n",
              "    </tr>\n",
              "    <tr>\n",
              "      <th>4549</th>\n",
              "      <td>1000.0</td>\n",
              "      <td>24</td>\n",
              "      <td>35</td>\n",
              "      <td>797.5</td>\n",
              "      <td>6</td>\n",
              "      <td>1.745679</td>\n",
              "    </tr>\n",
              "    <tr>\n",
              "      <th>4550</th>\n",
              "      <td>1000.0</td>\n",
              "      <td>36</td>\n",
              "      <td>35</td>\n",
              "      <td>797.5</td>\n",
              "      <td>6</td>\n",
              "      <td>1.745679</td>\n",
              "    </tr>\n",
              "  </tbody>\n",
              "</table>\n",
              "<p>4551 rows × 6 columns</p>\n",
              "</div>"
            ],
            "text/plain": [
              "      Port_Speed_Mbps  Term_Cleaned  A Loc State_Freq  \\\n",
              "0            100000.0            12                39   \n",
              "1            100000.0            36                39   \n",
              "2            100000.0            36                39   \n",
              "3            100000.0            36                39   \n",
              "4            100000.0            36                39   \n",
              "...               ...           ...               ...   \n",
              "4546           1000.0            24                29   \n",
              "4547           1000.0            36                29   \n",
              "4548           1000.0            12                35   \n",
              "4549           1000.0            24                35   \n",
              "4550           1000.0            36                35   \n",
              "\n",
              "      Provider_median_encoding  generalized_Cir_Freq  Avg_MRC_per_Mbps  \n",
              "0                       1400.0                     8          3.447638  \n",
              "1                       1400.0                     8          3.447638  \n",
              "2                       1313.0                     5         21.009395  \n",
              "3                       1313.0                     5         21.009395  \n",
              "4                       7452.0                     5          0.074520  \n",
              "...                        ...                   ...               ...  \n",
              "4546                    1350.0                     6          1.383333  \n",
              "4547                    1350.0                     6          1.383333  \n",
              "4548                     797.5                     6          1.745679  \n",
              "4549                     797.5                     6          1.745679  \n",
              "4550                     797.5                     6          1.745679  \n",
              "\n",
              "[4551 rows x 6 columns]"
            ]
          },
          "execution_count": 999,
          "metadata": {},
          "output_type": "execute_result"
        }
      ],
      "source": [
        "mrc_non_missing[features]"
      ]
    },
    {
      "cell_type": "code",
      "execution_count": 1000,
      "metadata": {},
      "outputs": [],
      "source": [
        "import xgboost as xgb\n",
        "from sklearn.model_selection import train_test_split\n",
        "from sklearn.metrics import mean_absolute_error\n",
        "from sklearn.model_selection import RandomizedSearchCV\n",
        "\n",
        "X = mrc_non_missing[features].values\n",
        "y = mrc_non_missing['MRC'].values\n",
        "\n",
        "X_train, X_test, y_train, y_test = train_test_split(X, y, test_size=0.2, random_state=42)\n"
      ]
    },
    {
      "cell_type": "code",
      "execution_count": 1001,
      "metadata": {},
      "outputs": [
        {
          "data": {
            "image/png": "[encoded data removed]",
            "text/plain": [
              "<Figure size 864x576 with 2 Axes>"
            ]
          },
          "metadata": {
            "needs_background": "light"
          },
          "output_type": "display_data"
        }
      ],
      "source": [
        "X1 = mrc_non_missing[temp_features].values\n",
        "\n",
        "\n",
        "\n",
        "import pandas as pd\n",
        "import seaborn as sns\n",
        "import matplotlib.pyplot as plt\n",
        "\n",
        "corX = pd.DataFrame(X1, columns=temp_features)\n",
        "\n",
        "# Compute correlation matrix\n",
        "corr_matrix = corX.corr()\n",
        "\n",
        "# Plot heatmap\n",
        "plt.figure(figsize=(12, 8))\n",
        "sns.heatmap(corr_matrix, cmap=\"coolwarm\", annot=True, fmt=\".2f\")\n",
        "plt.show()\n"
      ]
    },
    {
      "cell_type": "code",
      "execution_count": 1002,
      "metadata": {},
      "outputs": [
        {
          "data": {
            "text/plain": [
              "(911, 6)"
            ]
          },
          "execution_count": 1002,
          "metadata": {},
          "output_type": "execute_result"
        }
      ],
      "source": [
        "X_test.shape"
      ]
    },
    {
      "cell_type": "code",
      "execution_count": 1003,
      "metadata": {},
      "outputs": [
        {
          "name": "stdout",
          "output_type": "stream",
          "text": [
            "Fitting 5 folds for each of 30 candidates, totalling 150 fits\n",
            "Optimized XGBoost MAE: 656.3136086123704\n"
          ]
        }
      ],
      "source": [
        "xgb_model = xgb.XGBRegressor(objective='reg:squarederror', random_state=42)\n",
        "\n",
        "# Define parameter grid for tuning\n",
        "param_grid = {\n",
        "    'n_estimators': [100, 300, 500],\n",
        "    'max_depth': [3, 6, 9],\n",
        "    'learning_rate': [0.01, 0.05, 0.1, 0.2],\n",
        "    'subsample': [0.7, 0.8, 1.0],\n",
        "    'colsample_bytree': [0.7, 0.8, 1.0]\n",
        "}\n",
        "\n",
        "# Grid Search with 5-Fold Cross-Validation\n",
        "grid_search = RandomizedSearchCV(xgb_model, param_grid, cv=5, scoring='neg_mean_absolute_error', n_iter=30, n_jobs=-1, verbose=1, random_state=42)\n",
        "\n",
        "grid_search.fit(X_train, y_train)\n",
        "\n",
        "# Get Best Model\n",
        "best_xgb = grid_search.best_estimator_\n",
        "\n",
        "# Make Predictions\n",
        "y_pred = best_xgb.predict(X_test)\n",
        "\n",
        "# Calculate MAE\n",
        "mae = mean_absolute_error(y_test, y_pred)\n",
        "print(f\"Optimized XGBoost MAE: {mae}\")\n"
      ]
    },
    {
      "cell_type": "code",
      "execution_count": 1004,
      "metadata": {},
      "outputs": [
        {
          "name": "stdout",
          "output_type": "stream",
          "text": [
            "R² Score: 0.6346\n",
            "MAPE: 43.63%\n"
          ]
        }
      ],
      "source": [
        "from sklearn.metrics import r2_score, mean_absolute_percentage_error\n",
        "\n",
        "# R² Score\n",
        "r2_xgb = r2_score(y_test, y_pred)\n",
        "print(f\"R² Score: {r2_xgb:.4f}\")\n",
        "\n",
        "# MAPE\n",
        "mape_xgb = mean_absolute_percentage_error(y_test, y_pred)\n",
        "print(f\"MAPE: {mape_xgb * 100:.2f}%\")  # Convert to percentage\n"
      ]
    },
    {
      "cell_type": "code",
      "execution_count": null,
      "metadata": {},
      "outputs": [],
      "source": []
    },
    {
      "cell_type": "code",
      "execution_count": 1005,
      "metadata": {},
      "outputs": [
        {
          "data": {
            "image/png": "[encoded data removed]",
            "text/plain": [
              "<Figure size 576x432 with 1 Axes>"
            ]
          },
          "metadata": {
            "needs_background": "light"
          },
          "output_type": "display_data"
        }
      ],
      "source": [
        "# Scatter plot of actual vs. predicted values\n",
        "plt.figure(figsize=(8, 6))\n",
        "plt.scatter(y_test, y_pred, alpha=0.5, color=\"blue\", label=\"Predictions\")\n",
        "plt.plot([min(y_test), max(y_test)], [min(y_test), max(y_test)], color=\"red\", linestyle=\"--\", label=\"Ideal Fit\")  # y=x line\n",
        "plt.xlabel(\"Actual Values\")\n",
        "plt.ylabel(\"Predicted Values\")\n",
        "plt.title(\"Actual vs Predicted MRC Values\")\n",
        "plt.legend()\n",
        "plt.show()\n"
      ]
    },
    {
      "cell_type": "code",
      "execution_count": 1007,
      "metadata": {},
      "outputs": [
        {
          "name": "stdout",
          "output_type": "stream",
          "text": [
            "Model saved successfully.\n"
          ]
        }
      ],
      "source": [
        "import joblib\n",
        "\n",
        "joblib.dump(best_xgb, \"model_and_encoders/best_xgb_model.pkl\")\n",
        "print(\"Model saved successfully.\")\n"
      ]
    },
    {
      "cell_type": "code",
      "execution_count": null,
      "metadata": {},
      "outputs": [],
      "source": []
    },
    {
      "cell_type": "code",
      "execution_count": null,
      "metadata": {},
      "outputs": [],
      "source": []
    },
    {
      "cell_type": "code",
      "execution_count": 1008,
      "metadata": {},
      "outputs": [
        {
          "name": "stdout",
          "output_type": "stream",
          "text": [
            "Fitting 5 folds for each of 15 candidates, totalling 75 fits\n",
            "[CV] END max_depth=10, max_features=log2, min_samples_leaf=2, min_samples_split=10, n_estimators=800; total time=   1.7s\n",
            "[CV] END max_depth=10, max_features=log2, min_samples_leaf=2, min_samples_split=10, n_estimators=800; total time=   1.9s\n",
            "[CV] END max_depth=10, max_features=log2, min_samples_leaf=2, min_samples_split=10, n_estimators=800; total time=   1.9s\n",
            "[CV] END max_depth=10, max_features=log2, min_samples_leaf=2, min_samples_split=10, n_estimators=800; total time=   1.7s\n",
            "[CV] END max_depth=10, max_features=log2, min_samples_leaf=2, min_samples_split=10, n_estimators=800; total time=   1.8s\n",
            "[CV] END max_depth=None, max_features=None, min_samples_leaf=2, min_samples_split=10, n_estimators=400; total time=   1.9s\n",
            "[CV] END max_depth=None, max_features=None, min_samples_leaf=2, min_samples_split=10, n_estimators=400; total time=   2.0s\n",
            "[CV] END max_depth=None, max_features=None, min_samples_leaf=2, min_samples_split=10, n_estimators=400; total time=   2.0s\n",
            "[CV] END max_depth=None, max_features=None, min_samples_leaf=2, min_samples_split=10, n_estimators=400; total time=   1.9s\n",
            "[CV] END max_depth=20, max_features=None, min_samples_leaf=1, min_samples_split=2, n_estimators=1000; total time=   6.4s\n",
            "[CV] END max_depth=20, max_features=None, min_samples_leaf=1, min_samples_split=2, n_estimators=1000; total time=   6.4s\n",
            "[CV] END max_depth=20, max_features=None, min_samples_leaf=1, min_samples_split=2, n_estimators=1000; total time=   6.4s\n",
            "[CV] END max_depth=20, max_features=None, min_samples_leaf=1, min_samples_split=2, n_estimators=1000; total time=   7.3s\n",
            "[CV] END max_depth=20, max_features=None, min_samples_leaf=1, min_samples_split=2, n_estimators=1000; total time=   7.4s\n",
            "[CV] END max_depth=10, max_features=log2, min_samples_leaf=4, min_samples_split=10, n_estimators=400; total time=   2.5s\n",
            "[CV] END max_depth=10, max_features=log2, min_samples_leaf=4, min_samples_split=10, n_estimators=400; total time=   2.5s\n",
            "[CV] END max_depth=10, max_features=log2, min_samples_leaf=4, min_samples_split=10, n_estimators=400; total time=   3.7s\n",
            "[CV] END max_depth=10, max_features=log2, min_samples_leaf=4, min_samples_split=10, n_estimators=400; total time=   3.8s\n",
            "[CV] END max_depth=10, max_features=log2, min_samples_leaf=4, min_samples_split=10, n_estimators=400; total time=   4.1s\n",
            "[CV] END max_depth=None, max_features=None, min_samples_leaf=2, min_samples_split=10, n_estimators=400; total time=   5.4s\n",
            "[CV] END max_depth=10, max_features=log2, min_samples_leaf=4, min_samples_split=2, n_estimators=600; total time=   1.7s\n",
            "[CV] END max_depth=10, max_features=log2, min_samples_leaf=4, min_samples_split=2, n_estimators=600; total time=   1.8s\n",
            "[CV] END max_depth=10, max_features=log2, min_samples_leaf=4, min_samples_split=2, n_estimators=600; total time=   1.7s\n",
            "[CV] END max_depth=None, max_features=log2, min_samples_leaf=2, min_samples_split=2, n_estimators=1000; total time=   6.0s\n",
            "[CV] END max_depth=None, max_features=log2, min_samples_leaf=2, min_samples_split=2, n_estimators=1000; total time=   5.8s\n",
            "[CV] END max_depth=None, max_features=log2, min_samples_leaf=2, min_samples_split=2, n_estimators=1000; total time=   5.3s\n",
            "[CV] END max_depth=None, max_features=log2, min_samples_leaf=2, min_samples_split=2, n_estimators=1000; total time=   5.6s\n",
            "[CV] END max_depth=10, max_features=log2, min_samples_leaf=4, min_samples_split=2, n_estimators=600; total time=   2.1s\n",
            "[CV] END max_depth=10, max_features=log2, min_samples_leaf=4, min_samples_split=2, n_estimators=600; total time=   2.1s\n",
            "[CV] END max_depth=None, max_features=log2, min_samples_leaf=2, min_samples_split=2, n_estimators=1000; total time=   4.2s\n",
            "[CV] END max_depth=30, max_features=sqrt, min_samples_leaf=2, min_samples_split=10, n_estimators=600; total time=   2.4s\n",
            "[CV] END max_depth=30, max_features=sqrt, min_samples_leaf=2, min_samples_split=10, n_estimators=600; total time=   2.2s\n",
            "[CV] END max_depth=30, max_features=sqrt, min_samples_leaf=2, min_samples_split=10, n_estimators=600; total time=   2.1s\n",
            "[CV] END max_depth=30, max_features=sqrt, min_samples_leaf=2, min_samples_split=10, n_estimators=600; total time=   2.1s\n",
            "[CV] END max_depth=30, max_features=sqrt, min_samples_leaf=2, min_samples_split=10, n_estimators=600; total time=   1.9s\n",
            "[CV] END max_depth=None, max_features=sqrt, min_samples_leaf=1, min_samples_split=10, n_estimators=800; total time=   2.3s\n",
            "[CV] END max_depth=None, max_features=sqrt, min_samples_leaf=1, min_samples_split=10, n_estimators=800; total time=   2.3s\n",
            "[CV] END max_depth=None, max_features=sqrt, min_samples_leaf=1, min_samples_split=10, n_estimators=800; total time=   2.2s\n",
            "[CV] END max_depth=None, max_features=sqrt, min_samples_leaf=1, min_samples_split=10, n_estimators=800; total time=   2.4s\n",
            "[CV] END max_depth=30, max_features=log2, min_samples_leaf=2, min_samples_split=10, n_estimators=600; total time=   1.8s\n",
            "[CV] END max_depth=30, max_features=log2, min_samples_leaf=2, min_samples_split=10, n_estimators=600; total time=   1.6s\n",
            "[CV] END max_depth=None, max_features=sqrt, min_samples_leaf=1, min_samples_split=10, n_estimators=800; total time=   2.2s\n",
            "[CV] END max_depth=30, max_features=log2, min_samples_leaf=2, min_samples_split=10, n_estimators=600; total time=   1.7s\n",
            "[CV] END max_depth=30, max_features=log2, min_samples_leaf=2, min_samples_split=10, n_estimators=600; total time=   1.5s\n",
            "[CV] END max_depth=30, max_features=log2, min_samples_leaf=2, min_samples_split=10, n_estimators=600; total time=   1.7s\n",
            "[CV] END max_depth=10, max_features=sqrt, min_samples_leaf=1, min_samples_split=5, n_estimators=400; total time=   0.9s\n",
            "[CV] END max_depth=10, max_features=sqrt, min_samples_leaf=1, min_samples_split=5, n_estimators=400; total time=   1.0s\n",
            "[CV] END max_depth=10, max_features=sqrt, min_samples_leaf=1, min_samples_split=5, n_estimators=400; total time=   1.0s\n",
            "[CV] END max_depth=10, max_features=sqrt, min_samples_leaf=1, min_samples_split=5, n_estimators=400; total time=   1.1s\n",
            "[CV] END max_depth=10, max_features=sqrt, min_samples_leaf=1, min_samples_split=5, n_estimators=400; total time=   1.0s\n",
            "[CV] END max_depth=30, max_features=None, min_samples_leaf=2, min_samples_split=5, n_estimators=800; total time=   4.8s\n",
            "[CV] END max_depth=30, max_features=None, min_samples_leaf=2, min_samples_split=5, n_estimators=800; total time=   4.5s\n",
            "[CV] END max_depth=30, max_features=None, min_samples_leaf=2, min_samples_split=5, n_estimators=800; total time=   4.7s\n",
            "[CV] END max_depth=30, max_features=None, min_samples_leaf=2, min_samples_split=5, n_estimators=800; total time=   4.8s\n",
            "[CV] END max_depth=10, max_features=None, min_samples_leaf=2, min_samples_split=10, n_estimators=600; total time=   2.8s\n",
            "[CV] END max_depth=30, max_features=None, min_samples_leaf=2, min_samples_split=5, n_estimators=800; total time=   4.8s\n",
            "[CV] END max_depth=10, max_features=None, min_samples_leaf=2, min_samples_split=10, n_estimators=600; total time=   2.8s\n",
            "[CV] END max_depth=None, max_features=sqrt, min_samples_leaf=1, min_samples_split=5, n_estimators=200; total time=   0.6s\n",
            "[CV] END max_depth=None, max_features=sqrt, min_samples_leaf=1, min_samples_split=5, n_estimators=200; total time=   0.6s\n",
            "[CV] END max_depth=None, max_features=sqrt, min_samples_leaf=1, min_samples_split=5, n_estimators=200; total time=   0.7s\n",
            "[CV] END max_depth=10, max_features=log2, min_samples_leaf=4, min_samples_split=2, n_estimators=200; total time=   0.5s\n",
            "[CV] END max_depth=None, max_features=sqrt, min_samples_leaf=1, min_samples_split=5, n_estimators=200; total time=   0.6s\n",
            "[CV] END max_depth=10, max_features=None, min_samples_leaf=2, min_samples_split=10, n_estimators=600; total time=   2.7s\n",
            "[CV] END max_depth=None, max_features=sqrt, min_samples_leaf=1, min_samples_split=5, n_estimators=200; total time=   0.6s\n",
            "[CV] END max_depth=10, max_features=log2, min_samples_leaf=4, min_samples_split=2, n_estimators=200; total time=   0.5s\n",
            "[CV] END max_depth=10, max_features=log2, min_samples_leaf=4, min_samples_split=2, n_estimators=200; total time=   0.5s\n",
            "[CV] END max_depth=10, max_features=log2, min_samples_leaf=4, min_samples_split=2, n_estimators=200; total time=   0.5s\n",
            "[CV] END max_depth=10, max_features=log2, min_samples_leaf=4, min_samples_split=2, n_estimators=200; total time=   0.5s\n",
            "[CV] END max_depth=10, max_features=None, min_samples_leaf=2, min_samples_split=10, n_estimators=600; total time=   2.3s\n",
            "[CV] END max_depth=10, max_features=None, min_samples_leaf=2, min_samples_split=10, n_estimators=600; total time=   2.4s\n",
            "[CV] END max_depth=30, max_features=sqrt, min_samples_leaf=1, min_samples_split=2, n_estimators=600; total time=   1.8s\n",
            "[CV] END max_depth=30, max_features=sqrt, min_samples_leaf=1, min_samples_split=2, n_estimators=600; total time=   1.8s\n",
            "[CV] END max_depth=30, max_features=sqrt, min_samples_leaf=1, min_samples_split=2, n_estimators=600; total time=   1.7s\n",
            "[CV] END max_depth=30, max_features=sqrt, min_samples_leaf=1, min_samples_split=2, n_estimators=600; total time=   1.7s\n",
            "[CV] END max_depth=30, max_features=sqrt, min_samples_leaf=1, min_samples_split=2, n_estimators=600; total time=   1.7s\n",
            "Optimized Random Forest MAE: 698.6275264712841\n",
            "Best Parameters: {'n_estimators': 1000, 'min_samples_split': 2, 'min_samples_leaf': 1, 'max_features': None, 'max_depth': 20}\n"
          ]
        }
      ],
      "source": [
        "from sklearn.ensemble import RandomForestRegressor\n",
        "from sklearn.model_selection import RandomizedSearchCV\n",
        "from sklearn.metrics import mean_absolute_error\n",
        "\n",
        "# Define hyperparameter grid\n",
        "param_grid = {\n",
        "    'n_estimators': [200, 400, 600, 800, 1000],   # More trees\n",
        "    'max_depth': [10, 20, 30, None],  # Allow unlimited depth\n",
        "    'min_samples_split': [2, 5, 10],  # Minimum samples to split\n",
        "    'min_samples_leaf': [1, 2, 4],  # Minimum samples per leaf\n",
        "    'max_features': ['sqrt', 'log2', None]  # Feature selection\n",
        "}\n",
        "\n",
        "# Initialize model\n",
        "rf = RandomForestRegressor(random_state=42)\n",
        "\n",
        "# Randomized Search\n",
        "random_search = RandomizedSearchCV(\n",
        "    rf, param_distributions=param_grid,\n",
        "    n_iter=15, scoring='neg_mean_absolute_error',\n",
        "    cv=5, verbose=2, random_state=42, n_jobs=-1\n",
        ")\n",
        "\n",
        "# Train\n",
        "random_search.fit(X_train, y_train)\n",
        "\n",
        "# Best model\n",
        "best_rf = random_search.best_estimator_\n",
        "\n",
        "# Predictions\n",
        "rf_predictions = best_rf.predict(X_test)\n",
        "\n",
        "# Evaluate\n",
        "rf_mae = mean_absolute_error(y_test, rf_predictions)\n",
        "print(f\"Optimized Random Forest MAE: {rf_mae}\")\n",
        "print(f\"Best Parameters: {random_search.best_params_}\")"
      ]
    },
    {
      "cell_type": "code",
      "execution_count": 1009,
      "metadata": {},
      "outputs": [
        {
          "name": "stdout",
          "output_type": "stream",
          "text": [
            "R² Score: 0.6010\n",
            "MAPE: 48.52%\n"
          ]
        }
      ],
      "source": [
        "from sklearn.metrics import r2_score, mean_absolute_percentage_error\n",
        "\n",
        "# R² Score\n",
        "r2_rf = r2_score(y_test, rf_predictions)\n",
        "print(f\"R² Score: {r2_rf:.4f}\")\n",
        "\n",
        "# MAPE\n",
        "mape_rf = mean_absolute_percentage_error(y_test, rf_predictions)\n",
        "print(f\"MAPE: {mape_rf * 100:.2f}%\")  # Convert to percentage\n"
      ]
    },
    {
      "cell_type": "code",
      "execution_count": 1010,
      "metadata": {
        "colab": {
          "base_uri": "https://localhost:8080/"
        },
        "id": "FM_XF5d-eRXi",
        "outputId": "5cfca553-5c5f-496c-8c6b-63f5bb437123"
      },
      "outputs": [
        {
          "data": {
            "image/png": "[encoded data removed]",
            "text/plain": [
              "<Figure size 576x432 with 1 Axes>"
            ]
          },
          "metadata": {
            "needs_background": "light"
          },
          "output_type": "display_data"
        }
      ],
      "source": [
        "plt.figure(figsize=(8, 6))\n",
        "plt.scatter(y_test, y_pred, alpha=0.5, color=\"blue\", label=\"Predictions\")\n",
        "plt.plot([min(y_test), max(y_test)], [min(y_test), max(y_test)], color=\"red\", linestyle=\"--\", label=\"Ideal Fit\")  # y=x line\n",
        "plt.xlabel(\"Actual Values\")\n",
        "plt.ylabel(\"Predicted Values\")\n",
        "plt.title(\"Actual vs Predicted MRC Values\")\n",
        "plt.legend()\n",
        "plt.show()\n"
      ]
    },
    {
      "cell_type": "code",
      "execution_count": null,
      "metadata": {},
      "outputs": [],
      "source": []
    },
    {
      "cell_type": "code",
      "execution_count": 1011,
      "metadata": {
        "colab": {
          "base_uri": "https://localhost:8080/"
        },
        "id": "_6C9N7qWfw32",
        "outputId": "6b7cf0bc-b2c6-48f4-954e-08a46cdd3d9d"
      },
      "outputs": [
        {
          "name": "stdout",
          "output_type": "stream",
          "text": [
            "SVR MAE: 1152.5545773948124\n"
          ]
        }
      ],
      "source": [
        "from sklearn.svm import SVR\n",
        "from sklearn.metrics import mean_absolute_error\n",
        "\n",
        "svr_model = SVR(kernel='rbf', C=1.0, epsilon=0.1)\n",
        "svr_model.fit(X_train, y_train)\n",
        "svr_predictions = svr_model.predict(X_test)\n",
        "svr_mae = mean_absolute_error(y_test, svr_predictions)\n",
        "print(f\"SVR MAE: {svr_mae}\")\n"
      ]
    },
    {
      "cell_type": "code",
      "execution_count": 1012,
      "metadata": {},
      "outputs": [
        {
          "name": "stdout",
          "output_type": "stream",
          "text": [
            "R² Score: -0.0678\n",
            "MAPE: 76.53%\n"
          ]
        }
      ],
      "source": [
        "from sklearn.metrics import r2_score, mean_absolute_percentage_error\n",
        "\n",
        "# R² Score\n",
        "r2_svr = r2_score(y_test, svr_predictions)\n",
        "print(f\"R² Score: {r2_svr:.4f}\")\n",
        "\n",
        "# MAPE\n",
        "mape_svr = mean_absolute_percentage_error(y_test, svr_predictions)\n",
        "print(f\"MAPE: {mape_svr * 100:.2f}%\")  # Convert to percentage\n"
      ]
    },
    {
      "cell_type": "code",
      "execution_count": null,
      "metadata": {},
      "outputs": [],
      "source": []
    },
    {
      "cell_type": "code",
      "execution_count": null,
      "metadata": {},
      "outputs": [],
      "source": []
    },
    {
      "cell_type": "code",
      "execution_count": null,
      "metadata": {},
      "outputs": [],
      "source": []
    },
    {
      "cell_type": "code",
      "execution_count": 1013,
      "metadata": {
        "colab": {
          "base_uri": "https://localhost:8080/"
        },
        "id": "aXjDzLpDeVnv",
        "outputId": "64d55684-8139-49a4-eb5d-c8d66dd8b71b"
      },
      "outputs": [
        {
          "name": "stdout",
          "output_type": "stream",
          "text": [
            "KNN MAE: 841.0768100987926\n"
          ]
        }
      ],
      "source": [
        "from sklearn.neighbors import KNeighborsRegressor\n",
        "from sklearn.metrics import mean_absolute_error\n",
        "\n",
        "knn_model = KNeighborsRegressor(n_neighbors=5)\n",
        "knn_model.fit(X_train, y_train)\n",
        "knn_predictions = knn_model.predict(X_test)\n",
        "knn_mae = mean_absolute_error(y_test, knn_predictions)\n",
        "print(f\"KNN MAE: {knn_mae}\")\n"
      ]
    },
    {
      "cell_type": "code",
      "execution_count": 1014,
      "metadata": {},
      "outputs": [
        {
          "name": "stdout",
          "output_type": "stream",
          "text": [
            "R² Score: 0.5053\n",
            "MAPE: 62.22%\n"
          ]
        }
      ],
      "source": [
        "from sklearn.metrics import r2_score, mean_absolute_percentage_error\n",
        "\n",
        "# R² Score\n",
        "r2_knn = r2_score(y_test, knn_predictions)\n",
        "print(f\"R² Score: {r2_knn:.4f}\")\n",
        "\n",
        "# MAPE\n",
        "mape_knn = mean_absolute_percentage_error(y_test, knn_predictions)\n",
        "print(f\"MAPE: {mape_knn * 100:.2f}%\")  # Convert to percentage\n"
      ]
    },
    {
      "cell_type": "code",
      "execution_count": null,
      "metadata": {},
      "outputs": [],
      "source": []
    },
    {
      "cell_type": "code",
      "execution_count": null,
      "metadata": {},
      "outputs": [],
      "source": []
    },
    {
      "cell_type": "code",
      "execution_count": 1015,
      "metadata": {
        "colab": {
          "base_uri": "https://localhost:8080/"
        },
        "id": "PRThZsYfdnRi",
        "outputId": "1f60d6e2-79b1-4eab-f9a6-9c3505782480"
      },
      "outputs": [
        {
          "name": "stdout",
          "output_type": "stream",
          "text": [
            "Neural Network MAE: 940.4883662646432\n"
          ]
        }
      ],
      "source": [
        "from sklearn.neural_network import MLPRegressor\n",
        "from sklearn.metrics import mean_absolute_error\n",
        "\n",
        "nn_model = MLPRegressor(hidden_layer_sizes=(100, 50), max_iter=1000, random_state=42)\n",
        "nn_model.fit(X_train, y_train)\n",
        "nn_predictions = nn_model.predict(X_test)\n",
        "nn_mae = mean_absolute_error(y_test, nn_predictions)\n",
        "print(f\"Neural Network MAE: {nn_mae}\")\n"
      ]
    },
    {
      "cell_type": "code",
      "execution_count": 1016,
      "metadata": {},
      "outputs": [
        {
          "name": "stdout",
          "output_type": "stream",
          "text": [
            "R² Score: 0.3823\n",
            "MAPE: 69.11%\n"
          ]
        }
      ],
      "source": [
        "from sklearn.metrics import r2_score, mean_absolute_percentage_error\n",
        "\n",
        "# R² Score\n",
        "r2_nn = r2_score(y_test, nn_predictions)\n",
        "print(f\"R² Score: {r2_nn:.4f}\")\n",
        "\n",
        "# MAPE\n",
        "mape_nn = mean_absolute_percentage_error(y_test, nn_predictions)\n",
        "print(f\"MAPE: {mape_nn * 100:.2f}%\")  # Convert to percentage\n"
      ]
    },
    {
      "cell_type": "code",
      "execution_count": null,
      "metadata": {},
      "outputs": [],
      "source": []
    },
    {
      "cell_type": "code",
      "execution_count": null,
      "metadata": {},
      "outputs": [],
      "source": []
    },
    {
      "cell_type": "code",
      "execution_count": 1017,
      "metadata": {
        "colab": {
          "base_uri": "https://localhost:8080/"
        },
        "id": "KottAUvzf8gI",
        "outputId": "ffd47bef-c969-477c-9130-f9bccc928d57"
      },
      "outputs": [
        {
          "name": "stdout",
          "output_type": "stream",
          "text": [
            "Decision Tree MAE: 741.428080095292\n"
          ]
        }
      ],
      "source": [
        "from sklearn.tree import DecisionTreeRegressor\n",
        "from sklearn.metrics import mean_absolute_error\n",
        "\n",
        "dt_model = DecisionTreeRegressor(random_state=42)\n",
        "dt_model.fit(X_train, y_train)\n",
        "dt_predictions = dt_model.predict(X_test)\n",
        "dt_mae = mean_absolute_error(y_test, dt_predictions)\n",
        "print(f\"Decision Tree MAE: {dt_mae}\")\n"
      ]
    },
    {
      "cell_type": "code",
      "execution_count": 1018,
      "metadata": {},
      "outputs": [
        {
          "name": "stdout",
          "output_type": "stream",
          "text": [
            "R² Score: 0.4535\n",
            "MAPE: 51.03%\n"
          ]
        }
      ],
      "source": [
        "from sklearn.metrics import r2_score, mean_absolute_percentage_error\n",
        "\n",
        "# R² Score\n",
        "r2_dt = r2_score(y_test, dt_predictions)\n",
        "print(f\"R² Score: {r2_dt:.4f}\")\n",
        "\n",
        "# MAPE\n",
        "mape_dt = mean_absolute_percentage_error(y_test, dt_predictions)\n",
        "print(f\"MAPE: {mape_dt * 100:.2f}%\")  # Convert to percentage\n"
      ]
    },
    {
      "cell_type": "code",
      "execution_count": null,
      "metadata": {},
      "outputs": [],
      "source": []
    },
    {
      "cell_type": "code",
      "execution_count": 1019,
      "metadata": {
        "id": "4XBVZUXLw_2b"
      },
      "outputs": [
        {
          "name": "stderr",
          "output_type": "stream",
          "text": [
            "/Library/Frameworks/Python.framework/Versions/3.10/lib/python3.10/site-packages/seaborn/_oldcore.py:1765: FutureWarning: unique with argument that is not not a Series, Index, ExtensionArray, or np.ndarray is deprecated and will raise in a future version.\n",
            "  order = pd.unique(vector)\n"
          ]
        },
        {
          "data": {
            "image/png": "[encoded data removed]",
            "text/plain": [
              "<Figure size 864x432 with 1 Axes>"
            ]
          },
          "metadata": {
            "needs_background": "light"
          },
          "output_type": "display_data"
        },
        {
          "data": {
            "image/png": "[encoded data removed]",
            "text/plain": [
              "<Figure size 576x432 with 1 Axes>"
            ]
          },
          "metadata": {
            "needs_background": "light"
          },
          "output_type": "display_data"
        },
        {
          "name": "stderr",
          "output_type": "stream",
          "text": [
            "/Library/Frameworks/Python.framework/Versions/3.10/lib/python3.10/site-packages/seaborn/_oldcore.py:1119: FutureWarning: use_inf_as_na option is deprecated and will be removed in a future version. Convert inf values to NaN before operating instead.\n",
            "  with pd.option_context('mode.use_inf_as_na', True):\n"
          ]
        },
        {
          "data": {
            "image/png": "[encoded data removed]",
            "text/plain": [
              "<Figure size 576x432 with 1 Axes>"
            ]
          },
          "metadata": {
            "needs_background": "light"
          },
          "output_type": "display_data"
        },
        {
          "data": {
            "image/png": "[encoded data removed]",
            "text/plain": [
              "<Figure size 720x432 with 1 Axes>"
            ]
          },
          "metadata": {
            "needs_background": "light"
          },
          "output_type": "display_data"
        },
        {
          "name": "stderr",
          "output_type": "stream",
          "text": [
            "/Library/Frameworks/Python.framework/Versions/3.10/lib/python3.10/site-packages/seaborn/_oldcore.py:1119: FutureWarning: use_inf_as_na option is deprecated and will be removed in a future version. Convert inf values to NaN before operating instead.\n",
            "  with pd.option_context('mode.use_inf_as_na', True):\n"
          ]
        },
        {
          "data": {
            "image/png": "[encoded data removed]",
            "text/plain": [
              "<Figure size 720x432 with 1 Axes>"
            ]
          },
          "metadata": {
            "needs_background": "light"
          },
          "output_type": "display_data"
        }
      ],
      "source": [
        "import numpy as np\n",
        "import matplotlib.pyplot as plt\n",
        "import seaborn as sns\n",
        "\n",
        "# Model MAE comparison\n",
        "model_names = [\"XGBoost\", \"Random Forest\", \"SVR\", \"KNN\", \"Neural Network\", \"Decision Tree\"]\n",
        "mae_values = [mae, rf_mae, svr_mae, knn_mae, nn_mae, dt_mae]\n",
        "\n",
        "plt.figure(figsize=(12, 6))\n",
        "sns.barplot(x=model_names, y=mae_values, palette=\"viridis\")\n",
        "plt.xticks(rotation=45)\n",
        "plt.title(\"Model Performance Comparison (Mean Absolute Error)\")\n",
        "plt.ylabel(\"MAE (Lower is Better)\")\n",
        "plt.show()\n",
        "\n",
        "# Actual vs Predicted MRC\n",
        "plt.figure(figsize=(8, 6))\n",
        "plt.scatter(y_test, rf_predictions, alpha=0.5, color=\"blue\", label=\"Random Forest\")\n",
        "plt.scatter(y_test, y_pred, alpha=0.5, color=\"red\", label=\"XGBoost\")\n",
        "plt.plot([min(y_test), max(y_test)], [min(y_test), max(y_test)], color=\"black\", linestyle=\"--\")  # Diagonal Line\n",
        "plt.xlabel(\"Actual MRC\")\n",
        "plt.ylabel(\"Predicted MRC\")\n",
        "plt.title(\"Actual vs Predicted MRC\")\n",
        "plt.legend()\n",
        "plt.show()\n",
        "\n",
        "# Residual Plot (Random Forest)\n",
        "residuals = y_test - y_pred\n",
        "plt.figure(figsize=(8, 6))\n",
        "sns.histplot(residuals, bins=50, kde=True, color=\"purple\")\n",
        "plt.axvline(0, color='black', linestyle='--')\n",
        "plt.title(\"Residual Distribution\")\n",
        "plt.xlabel(\"Residual (Actual - Predicted)\")\n",
        "plt.ylabel(\"Frequency\")\n",
        "plt.show()\n",
        "\n",
        "# Feature Importance (Random Forest)\n",
        "feature_importance = best_xgb.feature_importances_\n",
        "sorted_idx = np.argsort(feature_importance)\n",
        "\n",
        "plt.figure(figsize=(10, 6))\n",
        "plt.barh(np.array(features)[sorted_idx], feature_importance[sorted_idx], color=\"green\")\n",
        "plt.xlabel(\"Feature Importance\")\n",
        "plt.title(\"Feature Importance\")\n",
        "plt.show()\n",
        "\n",
        "# MRC Distribution\n",
        "plt.figure(figsize=(10, 6))\n",
        "sns.histplot(filtered_df['MRC'], bins=100, kde=True, color=\"blue\")\n",
        "plt.title(\"Distribution of MRC\")\n",
        "plt.xlabel(\"MRC Value\")\n",
        "plt.ylabel(\"Frequency\")\n",
        "plt.show()\n"
      ]
    },
    {
      "cell_type": "code",
      "execution_count": null,
      "metadata": {},
      "outputs": [],
      "source": []
    },
    {
      "cell_type": "code",
      "execution_count": 1020,
      "metadata": {},
      "outputs": [
        {
          "name": "stderr",
          "output_type": "stream",
          "text": [
            "/Library/Frameworks/Python.framework/Versions/3.10/lib/python3.10/site-packages/seaborn/_oldcore.py:1765: FutureWarning: unique with argument that is not not a Series, Index, ExtensionArray, or np.ndarray is deprecated and will raise in a future version.\n",
            "  order = pd.unique(vector)\n"
          ]
        },
        {
          "data": {
            "image/png": "[encoded data removed]",
            "text/plain": [
              "<Figure size 864x432 with 1 Axes>"
            ]
          },
          "metadata": {
            "needs_background": "light"
          },
          "output_type": "display_data"
        }
      ],
      "source": [
        "import numpy as np\n",
        "import matplotlib.pyplot as plt\n",
        "import seaborn as sns\n",
        "\n",
        "# Model MAE comparison\n",
        "model_names = [\"XGBoost\", \"Random Forest\", \"SVR\", \"KNN\", \"Neural Network\", \"Decision Tree\"]\n",
        "mae_values = [r2_xgb, r2_rf, r2_svr, r2_knn, r2_nn, r2_dt]\n",
        "\n",
        "plt.figure(figsize=(12, 6))\n",
        "sns.barplot(x=model_names, y=mae_values, palette=\"viridis\")\n",
        "plt.xticks(rotation=45)\n",
        "plt.title(\"Model Performance Comparison (R2)\")\n",
        "plt.ylabel(\"R2\")\n",
        "plt.show()\n"
      ]
    },
    {
      "cell_type": "code",
      "execution_count": 1021,
      "metadata": {},
      "outputs": [
        {
          "name": "stderr",
          "output_type": "stream",
          "text": [
            "/Library/Frameworks/Python.framework/Versions/3.10/lib/python3.10/site-packages/seaborn/_oldcore.py:1765: FutureWarning: unique with argument that is not not a Series, Index, ExtensionArray, or np.ndarray is deprecated and will raise in a future version.\n",
            "  order = pd.unique(vector)\n"
          ]
        },
        {
          "data": {
            "image/png": "[encoded data removed]",
            "text/plain": [
              "<Figure size 864x432 with 1 Axes>"
            ]
          },
          "metadata": {
            "needs_background": "light"
          },
          "output_type": "display_data"
        }
      ],
      "source": [
        "import numpy as np\n",
        "import matplotlib.pyplot as plt\n",
        "import seaborn as sns\n",
        "\n",
        "# Model MAE comparison\n",
        "model_names = [\"XGBoost\", \"Random Forest\", \"SVR\", \"KNN\", \"Neural Network\", \"Decision Tree\"]\n",
        "mae_values = [mape_xgb, mape_rf, mape_svr, mape_knn, mape_nn, mape_dt]\n",
        "\n",
        "plt.figure(figsize=(12, 6))\n",
        "sns.barplot(x=model_names, y=mae_values, palette=\"viridis\")\n",
        "plt.xticks(rotation=45)\n",
        "plt.title(\"Model Performance Comparison (MAPE)\")\n",
        "plt.ylabel(\"MAPE\")\n",
        "plt.show()\n"
      ]
    },
    {
      "cell_type": "code",
      "execution_count": null,
      "metadata": {},
      "outputs": [],
      "source": []
    }
  ],
  "metadata": {
    "accelerator": "GPU",
    "colab": {
      "gpuType": "T4",
      "provenance": []
    },
    "kernelspec": {
      "display_name": "Python 3",
      "language": "python",
      "name": "python3"
    },
    "language_info": {
      "codemirror_mode": {
        "name": "ipython",
        "version": 3
      },
      "file_extension": ".py",
      "mimetype": "text/x-python",
      "name": "python",
      "nbconvert_exporter": "python",
      "pygments_lexer": "ipython3",
      "version": "3.10.5"
    }
  },
  "nbformat": 4,
  "nbformat_minor": 0
}
