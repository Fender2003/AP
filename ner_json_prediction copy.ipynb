{
 "cells": [
  {
   "cell_type": "code",
   "execution_count": 24,
   "metadata": {},
   "outputs": [],
   "source": [
    "import pandas as pd\n",
    "import numpy as np\n",
    "import matplotlib.pyplot as plt\n",
    "import json\n",
    "import itertools\n"
   ]
  },
  {
   "cell_type": "code",
   "execution_count": 25,
   "metadata": {},
   "outputs": [
    {
     "name": "stdout",
     "output_type": "stream",
     "text": [
      "{'PORT_SPEED': [['200 mbps', 'PORT_SPEED'], ['500 mbps', 'PORT_SPEED']], 'STATES_CITIES': ['ga'], 'TERM': [['3 years', 'DATE']], 'CIR_TYPES': ['broadband', 'dia']}\n"
     ]
    }
   ],
   "source": [
    "with open('NER/extracted_data.json', 'r') as json_data:\n",
    "    d = json.load(json_data)  # Use json.load() instead of json.loads()\n",
    "\n",
    "print(d)\n"
   ]
  },
  {
   "cell_type": "code",
   "execution_count": 26,
   "metadata": {},
   "outputs": [
    {
     "name": "stdout",
     "output_type": "stream",
     "text": [
      "PORT_SPEED\n",
      "STATES_CITIES\n",
      "TERM\n",
      "CIR_TYPES\n",
      "[['200 mbps', 'PORT_SPEED'], ['500 mbps', 'PORT_SPEED']]\n",
      "['ga']\n",
      "[['3 years', 'DATE']]\n",
      "['broadband', 'dia']\n"
     ]
    }
   ],
   "source": [
    "for key in d.keys():\n",
    "    print(key)\n",
    "\n",
    "for value in d.values():\n",
    "    print(value)"
   ]
  },
  {
   "cell_type": "code",
   "execution_count": 27,
   "metadata": {},
   "outputs": [],
   "source": [
    "keys = list(d.keys())\n",
    "values = [d[key] for key in keys]\n",
    "\n",
    "combinations = list(itertools.product(*values))\n",
    "\n",
    "df = pd.DataFrame(combinations, columns=keys)"
   ]
  },
  {
   "cell_type": "code",
   "execution_count": 28,
   "metadata": {},
   "outputs": [
    {
     "data": {
      "text/html": [
       "<div>\n",
       "<style scoped>\n",
       "    .dataframe tbody tr th:only-of-type {\n",
       "        vertical-align: middle;\n",
       "    }\n",
       "\n",
       "    .dataframe tbody tr th {\n",
       "        vertical-align: top;\n",
       "    }\n",
       "\n",
       "    .dataframe thead th {\n",
       "        text-align: right;\n",
       "    }\n",
       "</style>\n",
       "<table border=\"1\" class=\"dataframe\">\n",
       "  <thead>\n",
       "    <tr style=\"text-align: right;\">\n",
       "      <th></th>\n",
       "      <th>PORT_SPEED</th>\n",
       "      <th>STATES_CITIES</th>\n",
       "      <th>TERM</th>\n",
       "      <th>CIR_TYPES</th>\n",
       "    </tr>\n",
       "  </thead>\n",
       "  <tbody>\n",
       "    <tr>\n",
       "      <th>0</th>\n",
       "      <td>[200 mbps, PORT_SPEED]</td>\n",
       "      <td>ga</td>\n",
       "      <td>[3 years, DATE]</td>\n",
       "      <td>broadband</td>\n",
       "    </tr>\n",
       "    <tr>\n",
       "      <th>1</th>\n",
       "      <td>[200 mbps, PORT_SPEED]</td>\n",
       "      <td>ga</td>\n",
       "      <td>[3 years, DATE]</td>\n",
       "      <td>dia</td>\n",
       "    </tr>\n",
       "    <tr>\n",
       "      <th>2</th>\n",
       "      <td>[500 mbps, PORT_SPEED]</td>\n",
       "      <td>ga</td>\n",
       "      <td>[3 years, DATE]</td>\n",
       "      <td>broadband</td>\n",
       "    </tr>\n",
       "    <tr>\n",
       "      <th>3</th>\n",
       "      <td>[500 mbps, PORT_SPEED]</td>\n",
       "      <td>ga</td>\n",
       "      <td>[3 years, DATE]</td>\n",
       "      <td>dia</td>\n",
       "    </tr>\n",
       "  </tbody>\n",
       "</table>\n",
       "</div>"
      ],
      "text/plain": [
       "               PORT_SPEED STATES_CITIES             TERM  CIR_TYPES\n",
       "0  [200 mbps, PORT_SPEED]            ga  [3 years, DATE]  broadband\n",
       "1  [200 mbps, PORT_SPEED]            ga  [3 years, DATE]        dia\n",
       "2  [500 mbps, PORT_SPEED]            ga  [3 years, DATE]  broadband\n",
       "3  [500 mbps, PORT_SPEED]            ga  [3 years, DATE]        dia"
      ]
     },
     "execution_count": 28,
     "metadata": {},
     "output_type": "execute_result"
    }
   ],
   "source": [
    "df"
   ]
  },
  {
   "cell_type": "code",
   "execution_count": 29,
   "metadata": {},
   "outputs": [],
   "source": [
    "number_words = {\n",
    "    \"a\": 1, \"one\": 1, \"single\": 1,\n",
    "    \"two\": 2, \"three\": 3, \"four\": 4, \"five\": 5,\n",
    "    \"six\": 6, \"seven\": 7, \"eight\": 8, \"nine\": 9, \"ten\": 10,\n",
    "    \"eleven\": 11, \"twelve\": 12, \"thirteen\": 13, \"fourteen\": 14,\n",
    "    \"fifteen\": 15, \"sixteen\": 16, \"seventeen\": 17, \"eighteen\": 18, \"nineteen\": 19,\n",
    "    \"twenty\": 20, \"twentyone\": 21, \"twenty one\": 21,\n",
    "    \"twentytwo\": 22, \"twenty two\": 22,\n",
    "    \"twentythree\": 23, \"twenty three\": 23,\n",
    "    \"twentyfour\": 24, \"twenty four\": 24,\n",
    "    \"twentyfive\": 25, \"twenty five\": 25,\n",
    "    \"twentysix\": 26, \"twenty six\": 26,\n",
    "    \"twentyseven\": 27, \"twenty seven\": 27,\n",
    "    \"twentyeight\": 28, \"twenty eight\": 28,\n",
    "    \"twentynine\": 29, \"twenty nine\": 29,\n",
    "    \"thirty\": 30, \"thirtyone\": 31, \"thirty one\": 31,\n",
    "    \"thirtytwo\": 32, \"thirty two\": 32,\n",
    "    \"thirtythree\": 33, \"thirty three\": 33,\n",
    "    \"thirtyfour\": 34, \"thirty four\": 34,\n",
    "    \"thirtyfive\": 35, \"thirty five\": 35,\n",
    "    \"thirtysix\": 36, \"thirty six\": 36,\n",
    "    \"thirtyseven\": 37, \"thirty seven\": 37,\n",
    "    \"thirtyeight\": 38, \"thirty eight\": 38,\n",
    "    \"thirtynine\": 39, \"thirty nine\": 39,\n",
    "    \"forty\": 40, \"fortyone\": 41, \"forty one\": 41,\n",
    "    \"fortytwo\": 42, \"forty two\": 42,\n",
    "    \"fortythree\": 43, \"forty three\": 43,\n",
    "    \"fortyfour\": 44, \"forty four\": 44,\n",
    "    \"fortyfive\": 45, \"forty five\": 45,\n",
    "    \"fortysix\": 46, \"forty six\": 46,\n",
    "    \"fortyseven\": 47, \"forty seven\": 47,\n",
    "    \"fortyeight\": 48, \"forty eight\": 48,\n",
    "    \"fortynine\": 49, \"forty nine\": 49,\n",
    "    \"fifty\": 50\n",
    "}"
   ]
  },
  {
   "cell_type": "code",
   "execution_count": 30,
   "metadata": {},
   "outputs": [
    {
     "data": {
      "text/html": [
       "<div>\n",
       "<style scoped>\n",
       "    .dataframe tbody tr th:only-of-type {\n",
       "        vertical-align: middle;\n",
       "    }\n",
       "\n",
       "    .dataframe tbody tr th {\n",
       "        vertical-align: top;\n",
       "    }\n",
       "\n",
       "    .dataframe thead th {\n",
       "        text-align: right;\n",
       "    }\n",
       "</style>\n",
       "<table border=\"1\" class=\"dataframe\">\n",
       "  <thead>\n",
       "    <tr style=\"text-align: right;\">\n",
       "      <th></th>\n",
       "      <th>PORT_SPEED</th>\n",
       "      <th>STATES_CITIES</th>\n",
       "      <th>TERM</th>\n",
       "      <th>CIR_TYPES</th>\n",
       "    </tr>\n",
       "  </thead>\n",
       "  <tbody>\n",
       "    <tr>\n",
       "      <th>0</th>\n",
       "      <td>[200 mbps, PORT_SPEED]</td>\n",
       "      <td>ga</td>\n",
       "      <td>36</td>\n",
       "      <td>broadband</td>\n",
       "    </tr>\n",
       "    <tr>\n",
       "      <th>1</th>\n",
       "      <td>[200 mbps, PORT_SPEED]</td>\n",
       "      <td>ga</td>\n",
       "      <td>36</td>\n",
       "      <td>dia</td>\n",
       "    </tr>\n",
       "    <tr>\n",
       "      <th>2</th>\n",
       "      <td>[500 mbps, PORT_SPEED]</td>\n",
       "      <td>ga</td>\n",
       "      <td>36</td>\n",
       "      <td>broadband</td>\n",
       "    </tr>\n",
       "    <tr>\n",
       "      <th>3</th>\n",
       "      <td>[500 mbps, PORT_SPEED]</td>\n",
       "      <td>ga</td>\n",
       "      <td>36</td>\n",
       "      <td>dia</td>\n",
       "    </tr>\n",
       "  </tbody>\n",
       "</table>\n",
       "</div>"
      ],
      "text/plain": [
       "               PORT_SPEED STATES_CITIES TERM  CIR_TYPES\n",
       "0  [200 mbps, PORT_SPEED]            ga   36  broadband\n",
       "1  [200 mbps, PORT_SPEED]            ga   36        dia\n",
       "2  [500 mbps, PORT_SPEED]            ga   36  broadband\n",
       "3  [500 mbps, PORT_SPEED]            ga   36        dia"
      ]
     },
     "execution_count": 30,
     "metadata": {},
     "output_type": "execute_result"
    }
   ],
   "source": [
    "def clean_term(term):\n",
    "    # print(term[0])\n",
    "    term = str(term[0]).strip().lower()\n",
    "    # print(term)\n",
    "\n",
    "    if 'yr' in term or 'year' in term or 'years' in term or 'y' in term or 'yrs.' in term:\n",
    "\n",
    "        parts = term.split()\n",
    "        if parts[0].isdigit():\n",
    "            return str(int(parts[0])*12)\n",
    "        elif type(number_words[parts[0]])==int:\n",
    "            return str(int(number_words[parts[0]]) * 12)\n",
    "        else:\n",
    "            '12'\n",
    "\n",
    "    elif 'mo' in term or 'month' in term or 'months' in term or 'mth' in term or 'mths' in term or 'mnth' in term:\n",
    "        parts = term.split()\n",
    "        if parts[0].isdigit():\n",
    "            return str(int(parts[0]))\n",
    "        elif type(number_words[parts[0]])==int:\n",
    "            return str(int(number_words[parts[0]]))\n",
    "        else:\n",
    "            '12'\n",
    "    elif 'week' in term or 'weeks' in term or 'wk' in term:\n",
    "        parts = term.split()\n",
    "        if parts[0].isdigit():\n",
    "            return str(int(parts[0])/4)\n",
    "        elif type(number_words[parts[0]])==int:\n",
    "            return str(int(number_words[parts[0]])/4)\n",
    "        else:\n",
    "            '12'\n",
    "    return '12'\n",
    "\n",
    "\n",
    "\n",
    "df['TERM'] = df['TERM'].apply(clean_term)\n",
    "\n",
    "df"
   ]
  },
  {
   "cell_type": "code",
   "execution_count": 31,
   "metadata": {},
   "outputs": [
    {
     "data": {
      "text/html": [
       "<div>\n",
       "<style scoped>\n",
       "    .dataframe tbody tr th:only-of-type {\n",
       "        vertical-align: middle;\n",
       "    }\n",
       "\n",
       "    .dataframe tbody tr th {\n",
       "        vertical-align: top;\n",
       "    }\n",
       "\n",
       "    .dataframe thead th {\n",
       "        text-align: right;\n",
       "    }\n",
       "</style>\n",
       "<table border=\"1\" class=\"dataframe\">\n",
       "  <thead>\n",
       "    <tr style=\"text-align: right;\">\n",
       "      <th></th>\n",
       "      <th>PORT_SPEED</th>\n",
       "      <th>STATES_CITIES</th>\n",
       "      <th>TERM</th>\n",
       "      <th>CIR_TYPES</th>\n",
       "    </tr>\n",
       "  </thead>\n",
       "  <tbody>\n",
       "    <tr>\n",
       "      <th>0</th>\n",
       "      <td>[200 mbps, PORT_SPEED]</td>\n",
       "      <td>ga</td>\n",
       "      <td>36</td>\n",
       "      <td>broadband</td>\n",
       "    </tr>\n",
       "    <tr>\n",
       "      <th>1</th>\n",
       "      <td>[200 mbps, PORT_SPEED]</td>\n",
       "      <td>ga</td>\n",
       "      <td>36</td>\n",
       "      <td>dia</td>\n",
       "    </tr>\n",
       "    <tr>\n",
       "      <th>2</th>\n",
       "      <td>[500 mbps, PORT_SPEED]</td>\n",
       "      <td>ga</td>\n",
       "      <td>36</td>\n",
       "      <td>broadband</td>\n",
       "    </tr>\n",
       "    <tr>\n",
       "      <th>3</th>\n",
       "      <td>[500 mbps, PORT_SPEED]</td>\n",
       "      <td>ga</td>\n",
       "      <td>36</td>\n",
       "      <td>dia</td>\n",
       "    </tr>\n",
       "  </tbody>\n",
       "</table>\n",
       "</div>"
      ],
      "text/plain": [
       "               PORT_SPEED STATES_CITIES TERM  CIR_TYPES\n",
       "0  [200 mbps, PORT_SPEED]            ga   36  broadband\n",
       "1  [200 mbps, PORT_SPEED]            ga   36        dia\n",
       "2  [500 mbps, PORT_SPEED]            ga   36  broadband\n",
       "3  [500 mbps, PORT_SPEED]            ga   36        dia"
      ]
     },
     "execution_count": 31,
     "metadata": {},
     "output_type": "execute_result"
    }
   ],
   "source": [
    "df"
   ]
  },
  {
   "cell_type": "code",
   "execution_count": 32,
   "metadata": {},
   "outputs": [
    {
     "name": "stdout",
     "output_type": "stream",
     "text": [
      "[200.0]\n",
      "[200.0]\n",
      "[500.0]\n",
      "[500.0]\n"
     ]
    }
   ],
   "source": [
    "import pandas as pd\n",
    "import re\n",
    "\n",
    "def clean_port_speed(value):\n",
    "    if isinstance(value, list):\n",
    "        value = value[0]  \n",
    "\n",
    "    if pd.isna(value):\n",
    "        return None\n",
    "\n",
    "    value = str(value).strip().lower()  # Ensure it's a string\n",
    "\n",
    "    numbers = [float(n) for n in re.findall(r\"[\\d\\.]+\", value)]\n",
    "    print(numbers)\n",
    "    if not numbers:\n",
    "        return None\n",
    "\n",
    "    max_value = max(numbers)\n",
    "\n",
    "    if \"g\" in value:\n",
    "        max_value *= 1000  # Convert Gbps to Mbps\n",
    "\n",
    "    return int(max_value)\n",
    "\n",
    "df['PORT_SPEED'] = df['PORT_SPEED'].apply(clean_port_speed)\n"
   ]
  },
  {
   "cell_type": "code",
   "execution_count": 33,
   "metadata": {},
   "outputs": [
    {
     "data": {
      "text/html": [
       "<div>\n",
       "<style scoped>\n",
       "    .dataframe tbody tr th:only-of-type {\n",
       "        vertical-align: middle;\n",
       "    }\n",
       "\n",
       "    .dataframe tbody tr th {\n",
       "        vertical-align: top;\n",
       "    }\n",
       "\n",
       "    .dataframe thead th {\n",
       "        text-align: right;\n",
       "    }\n",
       "</style>\n",
       "<table border=\"1\" class=\"dataframe\">\n",
       "  <thead>\n",
       "    <tr style=\"text-align: right;\">\n",
       "      <th></th>\n",
       "      <th>PORT_SPEED</th>\n",
       "      <th>STATES_CITIES</th>\n",
       "      <th>TERM</th>\n",
       "      <th>CIR_TYPES</th>\n",
       "    </tr>\n",
       "  </thead>\n",
       "  <tbody>\n",
       "    <tr>\n",
       "      <th>0</th>\n",
       "      <td>200</td>\n",
       "      <td>ga</td>\n",
       "      <td>36</td>\n",
       "      <td>broadband</td>\n",
       "    </tr>\n",
       "    <tr>\n",
       "      <th>1</th>\n",
       "      <td>200</td>\n",
       "      <td>ga</td>\n",
       "      <td>36</td>\n",
       "      <td>dia</td>\n",
       "    </tr>\n",
       "    <tr>\n",
       "      <th>2</th>\n",
       "      <td>500</td>\n",
       "      <td>ga</td>\n",
       "      <td>36</td>\n",
       "      <td>broadband</td>\n",
       "    </tr>\n",
       "    <tr>\n",
       "      <th>3</th>\n",
       "      <td>500</td>\n",
       "      <td>ga</td>\n",
       "      <td>36</td>\n",
       "      <td>dia</td>\n",
       "    </tr>\n",
       "  </tbody>\n",
       "</table>\n",
       "</div>"
      ],
      "text/plain": [
       "   PORT_SPEED STATES_CITIES TERM  CIR_TYPES\n",
       "0         200            ga   36  broadband\n",
       "1         200            ga   36        dia\n",
       "2         500            ga   36  broadband\n",
       "3         500            ga   36        dia"
      ]
     },
     "execution_count": 33,
     "metadata": {},
     "output_type": "execute_result"
    }
   ],
   "source": [
    "df"
   ]
  },
  {
   "cell_type": "code",
   "execution_count": 34,
   "metadata": {},
   "outputs": [
    {
     "name": "stdout",
     "output_type": "stream",
     "text": [
      "Index(['PORT_SPEED', 'A Loc State', 'TERM', 'generalized_Cir'], dtype='object')\n"
     ]
    }
   ],
   "source": [
    "column_mapping = {\n",
    "    'STATES_CITIES': 'A Loc State',\n",
    "    'CIR_TYPES': 'generalized_Cir'\n",
    "}\n",
    "\n",
    "# Rename columns in test_data\n",
    "df.rename(columns=column_mapping, inplace=True)\n",
    "\n",
    "# Verify the updated column names\n",
    "print(df.columns)\n"
   ]
  },
  {
   "cell_type": "code",
   "execution_count": 35,
   "metadata": {},
   "outputs": [
    {
     "data": {
      "text/html": [
       "<div>\n",
       "<style scoped>\n",
       "    .dataframe tbody tr th:only-of-type {\n",
       "        vertical-align: middle;\n",
       "    }\n",
       "\n",
       "    .dataframe tbody tr th {\n",
       "        vertical-align: top;\n",
       "    }\n",
       "\n",
       "    .dataframe thead th {\n",
       "        text-align: right;\n",
       "    }\n",
       "</style>\n",
       "<table border=\"1\" class=\"dataframe\">\n",
       "  <thead>\n",
       "    <tr style=\"text-align: right;\">\n",
       "      <th></th>\n",
       "      <th>PORT_SPEED</th>\n",
       "      <th>A Loc State</th>\n",
       "      <th>TERM</th>\n",
       "      <th>generalized_Cir</th>\n",
       "    </tr>\n",
       "  </thead>\n",
       "  <tbody>\n",
       "    <tr>\n",
       "      <th>0</th>\n",
       "      <td>200</td>\n",
       "      <td>ga</td>\n",
       "      <td>36</td>\n",
       "      <td>broadband</td>\n",
       "    </tr>\n",
       "    <tr>\n",
       "      <th>1</th>\n",
       "      <td>200</td>\n",
       "      <td>ga</td>\n",
       "      <td>36</td>\n",
       "      <td>dia</td>\n",
       "    </tr>\n",
       "    <tr>\n",
       "      <th>2</th>\n",
       "      <td>500</td>\n",
       "      <td>ga</td>\n",
       "      <td>36</td>\n",
       "      <td>broadband</td>\n",
       "    </tr>\n",
       "    <tr>\n",
       "      <th>3</th>\n",
       "      <td>500</td>\n",
       "      <td>ga</td>\n",
       "      <td>36</td>\n",
       "      <td>dia</td>\n",
       "    </tr>\n",
       "  </tbody>\n",
       "</table>\n",
       "</div>"
      ],
      "text/plain": [
       "   PORT_SPEED A Loc State TERM generalized_Cir\n",
       "0         200          ga   36       broadband\n",
       "1         200          ga   36             dia\n",
       "2         500          ga   36       broadband\n",
       "3         500          ga   36             dia"
      ]
     },
     "execution_count": 35,
     "metadata": {},
     "output_type": "execute_result"
    }
   ],
   "source": [
    "df"
   ]
  },
  {
   "cell_type": "code",
   "execution_count": 36,
   "metadata": {},
   "outputs": [
    {
     "name": "stdout",
     "output_type": "stream",
     "text": [
      "dict_keys(['A Loc State', 'generalized_Cir'])\n"
     ]
    }
   ],
   "source": [
    "import pickle\n",
    "\n",
    "with open(\"model_and_encoders/label_encoders.pkl\", \"rb\") as f:\n",
    "    label_encoders = pickle.load(f)\n",
    "\n",
    "print(label_encoders.keys())\n"
   ]
  },
  {
   "cell_type": "code",
   "execution_count": 37,
   "metadata": {},
   "outputs": [],
   "source": [
    "# Ensure test_data exists\n",
    "for col in ['A Loc State', 'generalized_Cir']:\n",
    "    if col in df.columns:\n",
    "        df[col + '_Freq'] = df[col].map(\n",
    "            lambda x: label_encoders[col].transform([x])[0] if x in label_encoders[col].classes_ else -1\n",
    "        )\n"
   ]
  },
  {
   "cell_type": "code",
   "execution_count": 38,
   "metadata": {},
   "outputs": [
    {
     "data": {
      "text/html": [
       "<div>\n",
       "<style scoped>\n",
       "    .dataframe tbody tr th:only-of-type {\n",
       "        vertical-align: middle;\n",
       "    }\n",
       "\n",
       "    .dataframe tbody tr th {\n",
       "        vertical-align: top;\n",
       "    }\n",
       "\n",
       "    .dataframe thead th {\n",
       "        text-align: right;\n",
       "    }\n",
       "</style>\n",
       "<table border=\"1\" class=\"dataframe\">\n",
       "  <thead>\n",
       "    <tr style=\"text-align: right;\">\n",
       "      <th></th>\n",
       "      <th>PORT_SPEED</th>\n",
       "      <th>A Loc State</th>\n",
       "      <th>TERM</th>\n",
       "      <th>generalized_Cir</th>\n",
       "      <th>A Loc State_Freq</th>\n",
       "      <th>generalized_Cir_Freq</th>\n",
       "    </tr>\n",
       "  </thead>\n",
       "  <tbody>\n",
       "    <tr>\n",
       "      <th>0</th>\n",
       "      <td>200</td>\n",
       "      <td>ga</td>\n",
       "      <td>36</td>\n",
       "      <td>broadband</td>\n",
       "      <td>16</td>\n",
       "      <td>0</td>\n",
       "    </tr>\n",
       "    <tr>\n",
       "      <th>1</th>\n",
       "      <td>200</td>\n",
       "      <td>ga</td>\n",
       "      <td>36</td>\n",
       "      <td>dia</td>\n",
       "      <td>16</td>\n",
       "      <td>2</td>\n",
       "    </tr>\n",
       "    <tr>\n",
       "      <th>2</th>\n",
       "      <td>500</td>\n",
       "      <td>ga</td>\n",
       "      <td>36</td>\n",
       "      <td>broadband</td>\n",
       "      <td>16</td>\n",
       "      <td>0</td>\n",
       "    </tr>\n",
       "    <tr>\n",
       "      <th>3</th>\n",
       "      <td>500</td>\n",
       "      <td>ga</td>\n",
       "      <td>36</td>\n",
       "      <td>dia</td>\n",
       "      <td>16</td>\n",
       "      <td>2</td>\n",
       "    </tr>\n",
       "  </tbody>\n",
       "</table>\n",
       "</div>"
      ],
      "text/plain": [
       "   PORT_SPEED A Loc State TERM generalized_Cir  A Loc State_Freq  \\\n",
       "0         200          ga   36       broadband                16   \n",
       "1         200          ga   36             dia                16   \n",
       "2         500          ga   36       broadband                16   \n",
       "3         500          ga   36             dia                16   \n",
       "\n",
       "   generalized_Cir_Freq  \n",
       "0                     0  \n",
       "1                     2  \n",
       "2                     0  \n",
       "3                     2  "
      ]
     },
     "execution_count": 38,
     "metadata": {},
     "output_type": "execute_result"
    }
   ],
   "source": [
    "df"
   ]
  },
  {
   "cell_type": "code",
   "execution_count": 39,
   "metadata": {},
   "outputs": [
    {
     "data": {
      "text/html": [
       "<div>\n",
       "<style scoped>\n",
       "    .dataframe tbody tr th:only-of-type {\n",
       "        vertical-align: middle;\n",
       "    }\n",
       "\n",
       "    .dataframe tbody tr th {\n",
       "        vertical-align: top;\n",
       "    }\n",
       "\n",
       "    .dataframe thead th {\n",
       "        text-align: right;\n",
       "    }\n",
       "</style>\n",
       "<table border=\"1\" class=\"dataframe\">\n",
       "  <thead>\n",
       "    <tr style=\"text-align: right;\">\n",
       "      <th></th>\n",
       "      <th>PORT_SPEED</th>\n",
       "      <th>A Loc State</th>\n",
       "      <th>TERM</th>\n",
       "      <th>generalized_Cir</th>\n",
       "      <th>A Loc State_Freq</th>\n",
       "      <th>generalized_Cir_Freq</th>\n",
       "    </tr>\n",
       "  </thead>\n",
       "  <tbody>\n",
       "  </tbody>\n",
       "</table>\n",
       "</div>"
      ],
      "text/plain": [
       "Empty DataFrame\n",
       "Columns: [PORT_SPEED, A Loc State, TERM, generalized_Cir, A Loc State_Freq, generalized_Cir_Freq]\n",
       "Index: []"
      ]
     },
     "execution_count": 39,
     "metadata": {},
     "output_type": "execute_result"
    }
   ],
   "source": [
    "df[(df['A Loc State_Freq'] == -1)]"
   ]
  },
  {
   "cell_type": "code",
   "execution_count": 40,
   "metadata": {},
   "outputs": [
    {
     "name": "stdout",
     "output_type": "stream",
     "text": [
      "[]\n"
     ]
    }
   ],
   "source": [
    "# Extract indexes where 'A Loc State_Freq' is -1\n",
    "removed_indexes = df[df['A Loc State_Freq'] == -1].index.tolist()\n",
    "\n",
    "# Filter the DataFrame\n",
    "new_test_data = df[df['A Loc State_Freq'] != -1]\n",
    "\n",
    "# Print or use the list of removed indexes\n",
    "print(removed_indexes)\n"
   ]
  },
  {
   "cell_type": "code",
   "execution_count": 41,
   "metadata": {},
   "outputs": [],
   "source": [
    "df.drop(columns=['A Loc State', 'generalized_Cir'], inplace=True)"
   ]
  },
  {
   "cell_type": "code",
   "execution_count": 42,
   "metadata": {},
   "outputs": [
    {
     "data": {
      "text/html": [
       "<div>\n",
       "<style scoped>\n",
       "    .dataframe tbody tr th:only-of-type {\n",
       "        vertical-align: middle;\n",
       "    }\n",
       "\n",
       "    .dataframe tbody tr th {\n",
       "        vertical-align: top;\n",
       "    }\n",
       "\n",
       "    .dataframe thead th {\n",
       "        text-align: right;\n",
       "    }\n",
       "</style>\n",
       "<table border=\"1\" class=\"dataframe\">\n",
       "  <thead>\n",
       "    <tr style=\"text-align: right;\">\n",
       "      <th></th>\n",
       "      <th>PORT_SPEED</th>\n",
       "      <th>TERM</th>\n",
       "      <th>A Loc State_Freq</th>\n",
       "      <th>generalized_Cir_Freq</th>\n",
       "    </tr>\n",
       "  </thead>\n",
       "  <tbody>\n",
       "    <tr>\n",
       "      <th>0</th>\n",
       "      <td>200</td>\n",
       "      <td>36</td>\n",
       "      <td>16</td>\n",
       "      <td>0</td>\n",
       "    </tr>\n",
       "    <tr>\n",
       "      <th>1</th>\n",
       "      <td>200</td>\n",
       "      <td>36</td>\n",
       "      <td>16</td>\n",
       "      <td>2</td>\n",
       "    </tr>\n",
       "    <tr>\n",
       "      <th>2</th>\n",
       "      <td>500</td>\n",
       "      <td>36</td>\n",
       "      <td>16</td>\n",
       "      <td>0</td>\n",
       "    </tr>\n",
       "    <tr>\n",
       "      <th>3</th>\n",
       "      <td>500</td>\n",
       "      <td>36</td>\n",
       "      <td>16</td>\n",
       "      <td>2</td>\n",
       "    </tr>\n",
       "  </tbody>\n",
       "</table>\n",
       "</div>"
      ],
      "text/plain": [
       "   PORT_SPEED TERM  A Loc State_Freq  generalized_Cir_Freq\n",
       "0         200   36                16                     0\n",
       "1         200   36                16                     2\n",
       "2         500   36                16                     0\n",
       "3         500   36                16                     2"
      ]
     },
     "execution_count": 42,
     "metadata": {},
     "output_type": "execute_result"
    }
   ],
   "source": [
    "df"
   ]
  },
  {
   "cell_type": "code",
   "execution_count": 43,
   "metadata": {},
   "outputs": [],
   "source": [
    "Provider_encoded = [1419, 1392, 1676.5, 805, 1295]"
   ]
  },
  {
   "cell_type": "code",
   "execution_count": 44,
   "metadata": {},
   "outputs": [],
   "source": [
    "# for i in range(5):\n",
    "#     df[f'Provider_{i}'] = Provider_encoded[i]\n",
    "# df['TERM'] = pd.to_numeric(df['TERM'], errors='coerce').astype('Int64')\n"
   ]
  },
  {
   "cell_type": "code",
   "execution_count": 45,
   "metadata": {},
   "outputs": [
    {
     "data": {
      "text/html": [
       "<div>\n",
       "<style scoped>\n",
       "    .dataframe tbody tr th:only-of-type {\n",
       "        vertical-align: middle;\n",
       "    }\n",
       "\n",
       "    .dataframe tbody tr th {\n",
       "        vertical-align: top;\n",
       "    }\n",
       "\n",
       "    .dataframe thead th {\n",
       "        text-align: right;\n",
       "    }\n",
       "</style>\n",
       "<table border=\"1\" class=\"dataframe\">\n",
       "  <thead>\n",
       "    <tr style=\"text-align: right;\">\n",
       "      <th></th>\n",
       "      <th>PORT_SPEED</th>\n",
       "      <th>TERM</th>\n",
       "      <th>A Loc State_Freq</th>\n",
       "      <th>generalized_Cir_Freq</th>\n",
       "    </tr>\n",
       "  </thead>\n",
       "  <tbody>\n",
       "    <tr>\n",
       "      <th>0</th>\n",
       "      <td>200</td>\n",
       "      <td>36</td>\n",
       "      <td>16</td>\n",
       "      <td>0</td>\n",
       "    </tr>\n",
       "    <tr>\n",
       "      <th>1</th>\n",
       "      <td>200</td>\n",
       "      <td>36</td>\n",
       "      <td>16</td>\n",
       "      <td>2</td>\n",
       "    </tr>\n",
       "    <tr>\n",
       "      <th>2</th>\n",
       "      <td>500</td>\n",
       "      <td>36</td>\n",
       "      <td>16</td>\n",
       "      <td>0</td>\n",
       "    </tr>\n",
       "    <tr>\n",
       "      <th>3</th>\n",
       "      <td>500</td>\n",
       "      <td>36</td>\n",
       "      <td>16</td>\n",
       "      <td>2</td>\n",
       "    </tr>\n",
       "  </tbody>\n",
       "</table>\n",
       "</div>"
      ],
      "text/plain": [
       "   PORT_SPEED TERM  A Loc State_Freq  generalized_Cir_Freq\n",
       "0         200   36                16                     0\n",
       "1         200   36                16                     2\n",
       "2         500   36                16                     0\n",
       "3         500   36                16                     2"
      ]
     },
     "execution_count": 45,
     "metadata": {},
     "output_type": "execute_result"
    }
   ],
   "source": [
    "df"
   ]
  },
  {
   "cell_type": "code",
   "execution_count": 46,
   "metadata": {},
   "outputs": [
    {
     "name": "stdout",
     "output_type": "stream",
     "text": [
      "Model loaded successfully.\n"
     ]
    },
    {
     "ename": "KeyError",
     "evalue": "\"['Provider_0'] not in index\"",
     "output_type": "error",
     "traceback": [
      "\u001b[0;31m---------------------------------------------------------------------------\u001b[0m",
      "\u001b[0;31mKeyError\u001b[0m                                  Traceback (most recent call last)",
      "Input \u001b[0;32mIn [46]\u001b[0m, in \u001b[0;36m<cell line: 6>\u001b[0;34m()\u001b[0m\n\u001b[1;32m      6\u001b[0m \u001b[38;5;28;01mfor\u001b[39;00m i \u001b[38;5;129;01min\u001b[39;00m \u001b[38;5;28mrange\u001b[39m(\u001b[38;5;241m5\u001b[39m):\n\u001b[1;32m      7\u001b[0m     features_inorder \u001b[38;5;241m=\u001b[39m [\n\u001b[1;32m      8\u001b[0m     \u001b[38;5;124m'\u001b[39m\u001b[38;5;124mPORT_SPEED\u001b[39m\u001b[38;5;124m'\u001b[39m, \u001b[38;5;124m'\u001b[39m\u001b[38;5;124mTERM\u001b[39m\u001b[38;5;124m'\u001b[39m, \u001b[38;5;124m'\u001b[39m\u001b[38;5;124mA Loc State_Freq\u001b[39m\u001b[38;5;124m'\u001b[39m, \n\u001b[1;32m      9\u001b[0m     \u001b[38;5;124mf\u001b[39m\u001b[38;5;124m'\u001b[39m\u001b[38;5;124mProvider_\u001b[39m\u001b[38;5;132;01m{\u001b[39;00mi\u001b[38;5;132;01m}\u001b[39;00m\u001b[38;5;124m'\u001b[39m,\n\u001b[1;32m     10\u001b[0m     \u001b[38;5;124m'\u001b[39m\u001b[38;5;124mgeneralized_Cir_Freq\u001b[39m\u001b[38;5;124m'\u001b[39m]\n\u001b[0;32m---> 12\u001b[0m     X_test \u001b[38;5;241m=\u001b[39m \u001b[43mdf\u001b[49m\u001b[43m[\u001b[49m\u001b[43mfeatures_inorder\u001b[49m\u001b[43m]\u001b[49m\n\u001b[1;32m     14\u001b[0m     y_pred \u001b[38;5;241m=\u001b[39m best_xgb\u001b[38;5;241m.\u001b[39mpredict(X_test)\n\u001b[1;32m     16\u001b[0m     y_pred\n",
      "File \u001b[0;32m/Library/Frameworks/Python.framework/Versions/3.10/lib/python3.10/site-packages/pandas/core/frame.py:4108\u001b[0m, in \u001b[0;36mDataFrame.__getitem__\u001b[0;34m(self, key)\u001b[0m\n\u001b[1;32m   4106\u001b[0m     \u001b[38;5;28;01mif\u001b[39;00m is_iterator(key):\n\u001b[1;32m   4107\u001b[0m         key \u001b[38;5;241m=\u001b[39m \u001b[38;5;28mlist\u001b[39m(key)\n\u001b[0;32m-> 4108\u001b[0m     indexer \u001b[38;5;241m=\u001b[39m \u001b[38;5;28;43mself\u001b[39;49m\u001b[38;5;241;43m.\u001b[39;49m\u001b[43mcolumns\u001b[49m\u001b[38;5;241;43m.\u001b[39;49m\u001b[43m_get_indexer_strict\u001b[49m\u001b[43m(\u001b[49m\u001b[43mkey\u001b[49m\u001b[43m,\u001b[49m\u001b[43m \u001b[49m\u001b[38;5;124;43m\"\u001b[39;49m\u001b[38;5;124;43mcolumns\u001b[39;49m\u001b[38;5;124;43m\"\u001b[39;49m\u001b[43m)\u001b[49m[\u001b[38;5;241m1\u001b[39m]\n\u001b[1;32m   4110\u001b[0m \u001b[38;5;66;03m# take() does not accept boolean indexers\u001b[39;00m\n\u001b[1;32m   4111\u001b[0m \u001b[38;5;28;01mif\u001b[39;00m \u001b[38;5;28mgetattr\u001b[39m(indexer, \u001b[38;5;124m\"\u001b[39m\u001b[38;5;124mdtype\u001b[39m\u001b[38;5;124m\"\u001b[39m, \u001b[38;5;28;01mNone\u001b[39;00m) \u001b[38;5;241m==\u001b[39m \u001b[38;5;28mbool\u001b[39m:\n",
      "File \u001b[0;32m/Library/Frameworks/Python.framework/Versions/3.10/lib/python3.10/site-packages/pandas/core/indexes/base.py:6200\u001b[0m, in \u001b[0;36mIndex._get_indexer_strict\u001b[0;34m(self, key, axis_name)\u001b[0m\n\u001b[1;32m   6197\u001b[0m \u001b[38;5;28;01melse\u001b[39;00m:\n\u001b[1;32m   6198\u001b[0m     keyarr, indexer, new_indexer \u001b[38;5;241m=\u001b[39m \u001b[38;5;28mself\u001b[39m\u001b[38;5;241m.\u001b[39m_reindex_non_unique(keyarr)\n\u001b[0;32m-> 6200\u001b[0m \u001b[38;5;28;43mself\u001b[39;49m\u001b[38;5;241;43m.\u001b[39;49m\u001b[43m_raise_if_missing\u001b[49m\u001b[43m(\u001b[49m\u001b[43mkeyarr\u001b[49m\u001b[43m,\u001b[49m\u001b[43m \u001b[49m\u001b[43mindexer\u001b[49m\u001b[43m,\u001b[49m\u001b[43m \u001b[49m\u001b[43maxis_name\u001b[49m\u001b[43m)\u001b[49m\n\u001b[1;32m   6202\u001b[0m keyarr \u001b[38;5;241m=\u001b[39m \u001b[38;5;28mself\u001b[39m\u001b[38;5;241m.\u001b[39mtake(indexer)\n\u001b[1;32m   6203\u001b[0m \u001b[38;5;28;01mif\u001b[39;00m \u001b[38;5;28misinstance\u001b[39m(key, Index):\n\u001b[1;32m   6204\u001b[0m     \u001b[38;5;66;03m# GH 42790 - Preserve name from an Index\u001b[39;00m\n",
      "File \u001b[0;32m/Library/Frameworks/Python.framework/Versions/3.10/lib/python3.10/site-packages/pandas/core/indexes/base.py:6252\u001b[0m, in \u001b[0;36mIndex._raise_if_missing\u001b[0;34m(self, key, indexer, axis_name)\u001b[0m\n\u001b[1;32m   6249\u001b[0m     \u001b[38;5;28;01mraise\u001b[39;00m \u001b[38;5;167;01mKeyError\u001b[39;00m(\u001b[38;5;124mf\u001b[39m\u001b[38;5;124m\"\u001b[39m\u001b[38;5;124mNone of [\u001b[39m\u001b[38;5;132;01m{\u001b[39;00mkey\u001b[38;5;132;01m}\u001b[39;00m\u001b[38;5;124m] are in the [\u001b[39m\u001b[38;5;132;01m{\u001b[39;00maxis_name\u001b[38;5;132;01m}\u001b[39;00m\u001b[38;5;124m]\u001b[39m\u001b[38;5;124m\"\u001b[39m)\n\u001b[1;32m   6251\u001b[0m not_found \u001b[38;5;241m=\u001b[39m \u001b[38;5;28mlist\u001b[39m(ensure_index(key)[missing_mask\u001b[38;5;241m.\u001b[39mnonzero()[\u001b[38;5;241m0\u001b[39m]]\u001b[38;5;241m.\u001b[39munique())\n\u001b[0;32m-> 6252\u001b[0m \u001b[38;5;28;01mraise\u001b[39;00m \u001b[38;5;167;01mKeyError\u001b[39;00m(\u001b[38;5;124mf\u001b[39m\u001b[38;5;124m\"\u001b[39m\u001b[38;5;132;01m{\u001b[39;00mnot_found\u001b[38;5;132;01m}\u001b[39;00m\u001b[38;5;124m not in index\u001b[39m\u001b[38;5;124m\"\u001b[39m)\n",
      "\u001b[0;31mKeyError\u001b[0m: \"['Provider_0'] not in index\""
     ]
    }
   ],
   "source": [
    "import joblib\n",
    "temp_data = pd.DataFrame()\n",
    "best_xgb= joblib.load(\"./model_and_encoders/best_xgb_model.pkl\")\n",
    "print(\"Model loaded successfully.\")\n",
    "\n",
    "for i in range(5):\n",
    "    features_inorder = [\n",
    "    'PORT_SPEED', 'TERM', 'A Loc State_Freq', \n",
    "    f'Provider_{i}',\n",
    "    'generalized_Cir_Freq']\n",
    "\n",
    "    X_test = df[features_inorder]\n",
    "\n",
    "    y_pred = best_xgb.predict(X_test)\n",
    "\n",
    "    y_pred\n",
    "\n",
    "    temp_data[f'prediction_provider_{i}'] = y_pred"
   ]
  },
  {
   "cell_type": "code",
   "execution_count": null,
   "metadata": {},
   "outputs": [
    {
     "data": {
      "text/html": [
       "<div>\n",
       "<style scoped>\n",
       "    .dataframe tbody tr th:only-of-type {\n",
       "        vertical-align: middle;\n",
       "    }\n",
       "\n",
       "    .dataframe tbody tr th {\n",
       "        vertical-align: top;\n",
       "    }\n",
       "\n",
       "    .dataframe thead th {\n",
       "        text-align: right;\n",
       "    }\n",
       "</style>\n",
       "<table border=\"1\" class=\"dataframe\">\n",
       "  <thead>\n",
       "    <tr style=\"text-align: right;\">\n",
       "      <th></th>\n",
       "      <th>prediction_provider_0</th>\n",
       "      <th>prediction_provider_1</th>\n",
       "      <th>prediction_provider_2</th>\n",
       "      <th>prediction_provider_3</th>\n",
       "      <th>prediction_provider_4</th>\n",
       "    </tr>\n",
       "  </thead>\n",
       "  <tbody>\n",
       "    <tr>\n",
       "      <th>0</th>\n",
       "      <td>2120.674561</td>\n",
       "      <td>516.114197</td>\n",
       "      <td>1635.769165</td>\n",
       "      <td>4692.243652</td>\n",
       "      <td>1888.989502</td>\n",
       "    </tr>\n",
       "    <tr>\n",
       "      <th>1</th>\n",
       "      <td>2120.674561</td>\n",
       "      <td>516.114197</td>\n",
       "      <td>1635.769165</td>\n",
       "      <td>4692.243652</td>\n",
       "      <td>1888.989502</td>\n",
       "    </tr>\n",
       "    <tr>\n",
       "      <th>2</th>\n",
       "      <td>3041.960205</td>\n",
       "      <td>1014.403625</td>\n",
       "      <td>2649.844971</td>\n",
       "      <td>7532.590820</td>\n",
       "      <td>2100.176514</td>\n",
       "    </tr>\n",
       "    <tr>\n",
       "      <th>3</th>\n",
       "      <td>3041.960205</td>\n",
       "      <td>1014.403625</td>\n",
       "      <td>2649.844971</td>\n",
       "      <td>7532.590820</td>\n",
       "      <td>2100.176514</td>\n",
       "    </tr>\n",
       "  </tbody>\n",
       "</table>\n",
       "</div>"
      ],
      "text/plain": [
       "   prediction_provider_0  prediction_provider_1  prediction_provider_2  \\\n",
       "0            2120.674561             516.114197            1635.769165   \n",
       "1            2120.674561             516.114197            1635.769165   \n",
       "2            3041.960205            1014.403625            2649.844971   \n",
       "3            3041.960205            1014.403625            2649.844971   \n",
       "\n",
       "   prediction_provider_3  prediction_provider_4  \n",
       "0            4692.243652            1888.989502  \n",
       "1            4692.243652            1888.989502  \n",
       "2            7532.590820            2100.176514  \n",
       "3            7532.590820            2100.176514  "
      ]
     },
     "execution_count": 23,
     "metadata": {},
     "output_type": "execute_result"
    }
   ],
   "source": [
    "temp_data"
   ]
  },
  {
   "cell_type": "code",
   "execution_count": null,
   "metadata": {},
   "outputs": [
    {
     "name": "stderr",
     "output_type": "stream",
     "text": [
      "/var/folders/t2/q9fs839s4l96y0sbpzp96jr40000gn/T/ipykernel_45064/3765516907.py:11: UserWarning: Ignoring `palette` because no `hue` variable has been assigned.\n",
      "  sns.lineplot(x=providers, y=values, palette=\"viridis\")\n",
      "/Library/Frameworks/Python.framework/Versions/3.10/lib/python3.10/site-packages/seaborn/_oldcore.py:1119: FutureWarning: use_inf_as_na option is deprecated and will be removed in a future version. Convert inf values to NaN before operating instead.\n",
      "  with pd.option_context('mode.use_inf_as_na', True):\n",
      "/Library/Frameworks/Python.framework/Versions/3.10/lib/python3.10/site-packages/seaborn/_oldcore.py:1119: FutureWarning: use_inf_as_na option is deprecated and will be removed in a future version. Convert inf values to NaN before operating instead.\n",
      "  with pd.option_context('mode.use_inf_as_na', True):\n"
     ]
    },
    {
     "data": {
      "image/png": "[encoded data removed]",
      "text/plain": [
       "<Figure size 432x288 with 1 Axes>"
      ]
     },
     "metadata": {
      "needs_background": "light"
     },
     "output_type": "display_data"
    },
    {
     "name": "stderr",
     "output_type": "stream",
     "text": [
      "/var/folders/t2/q9fs839s4l96y0sbpzp96jr40000gn/T/ipykernel_45064/3765516907.py:11: UserWarning: Ignoring `palette` because no `hue` variable has been assigned.\n",
      "  sns.lineplot(x=providers, y=values, palette=\"viridis\")\n",
      "/Library/Frameworks/Python.framework/Versions/3.10/lib/python3.10/site-packages/seaborn/_oldcore.py:1119: FutureWarning: use_inf_as_na option is deprecated and will be removed in a future version. Convert inf values to NaN before operating instead.\n",
      "  with pd.option_context('mode.use_inf_as_na', True):\n",
      "/Library/Frameworks/Python.framework/Versions/3.10/lib/python3.10/site-packages/seaborn/_oldcore.py:1119: FutureWarning: use_inf_as_na option is deprecated and will be removed in a future version. Convert inf values to NaN before operating instead.\n",
      "  with pd.option_context('mode.use_inf_as_na', True):\n"
     ]
    },
    {
     "data": {
      "image/png": "[encoded data removed]",
      "text/plain": [
       "<Figure size 432x288 with 1 Axes>"
      ]
     },
     "metadata": {
      "needs_background": "light"
     },
     "output_type": "display_data"
    },
    {
     "name": "stderr",
     "output_type": "stream",
     "text": [
      "/var/folders/t2/q9fs839s4l96y0sbpzp96jr40000gn/T/ipykernel_45064/3765516907.py:11: UserWarning: Ignoring `palette` because no `hue` variable has been assigned.\n",
      "  sns.lineplot(x=providers, y=values, palette=\"viridis\")\n",
      "/Library/Frameworks/Python.framework/Versions/3.10/lib/python3.10/site-packages/seaborn/_oldcore.py:1119: FutureWarning: use_inf_as_na option is deprecated and will be removed in a future version. Convert inf values to NaN before operating instead.\n",
      "  with pd.option_context('mode.use_inf_as_na', True):\n",
      "/Library/Frameworks/Python.framework/Versions/3.10/lib/python3.10/site-packages/seaborn/_oldcore.py:1119: FutureWarning: use_inf_as_na option is deprecated and will be removed in a future version. Convert inf values to NaN before operating instead.\n",
      "  with pd.option_context('mode.use_inf_as_na', True):\n"
     ]
    },
    {
     "data": {
      "image/png": "[encoded data removed]",
      "text/plain": [
       "<Figure size 432x288 with 1 Axes>"
      ]
     },
     "metadata": {
      "needs_background": "light"
     },
     "output_type": "display_data"
    },
    {
     "name": "stderr",
     "output_type": "stream",
     "text": [
      "/var/folders/t2/q9fs839s4l96y0sbpzp96jr40000gn/T/ipykernel_45064/3765516907.py:11: UserWarning: Ignoring `palette` because no `hue` variable has been assigned.\n",
      "  sns.lineplot(x=providers, y=values, palette=\"viridis\")\n",
      "/Library/Frameworks/Python.framework/Versions/3.10/lib/python3.10/site-packages/seaborn/_oldcore.py:1119: FutureWarning: use_inf_as_na option is deprecated and will be removed in a future version. Convert inf values to NaN before operating instead.\n",
      "  with pd.option_context('mode.use_inf_as_na', True):\n",
      "/Library/Frameworks/Python.framework/Versions/3.10/lib/python3.10/site-packages/seaborn/_oldcore.py:1119: FutureWarning: use_inf_as_na option is deprecated and will be removed in a future version. Convert inf values to NaN before operating instead.\n",
      "  with pd.option_context('mode.use_inf_as_na', True):\n"
     ]
    },
    {
     "data": {
      "image/png": "[encoded data removed]",
      "text/plain": [
       "<Figure size 432x288 with 1 Axes>"
      ]
     },
     "metadata": {
      "needs_background": "light"
     },
     "output_type": "display_data"
    }
   ],
   "source": [
    "import numpy as np\n",
    "import matplotlib.pyplot as plt\n",
    "import seaborn as sns\n",
    "\n",
    "providers = ['P1', 'P2', 'P3', 'P4', 'P5']\n",
    "\n",
    "for i in range(len(temp_data)):\n",
    "\n",
    "    values = temp_data.iloc[i,:]\n",
    "\n",
    "    sns.lineplot(x=providers, y=values, palette=\"viridis\")\n",
    "    plt.xticks(rotation=45)\n",
    "    plt.title(\"Test prediction)\")\n",
    "    plt.ylabel(\"Price in dollars\")\n",
    "    plt.show()"
   ]
  },
  {
   "cell_type": "code",
   "execution_count": null,
   "metadata": {},
   "outputs": [],
   "source": []
  },
  {
   "cell_type": "code",
   "execution_count": null,
   "metadata": {},
   "outputs": [],
   "source": []
  },
  {
   "cell_type": "code",
   "execution_count": null,
   "metadata": {},
   "outputs": [],
   "source": []
  },
  {
   "cell_type": "code",
   "execution_count": null,
   "metadata": {},
   "outputs": [
    {
     "data": {
      "text/plain": [
       "'\\nZayo\\t\\nVerizon\\t\\nCenturylink\\t\\nColt\\t\\nAT&T\\t\\n'"
      ]
     },
     "execution_count": 25,
     "metadata": {},
     "output_type": "execute_result"
    }
   ],
   "source": [
    "\"\"\"\n",
    "Zayo\t\n",
    "Verizon\t\n",
    "Centurylink\t\n",
    "Colt\t\n",
    "AT&T\t\n",
    "\"\"\""
   ]
  }
 ],
 "metadata": {
  "kernelspec": {
   "display_name": "Python 3",
   "language": "python",
   "name": "python3"
  },
  "language_info": {
   "codemirror_mode": {
    "name": "ipython",
    "version": 3
   },
   "file_extension": ".py",
   "mimetype": "text/x-python",
   "name": "python",
   "nbconvert_exporter": "python",
   "pygments_lexer": "ipython3",
   "version": "3.10.5"
  }
 },
 "nbformat": 4,
 "nbformat_minor": 2
}
